{
 "metadata": {
  "name": "",
  "signature": "sha256:42f6e329ab31696da2d907d2ea7400865524df705cdfc768c5278f58469f09f9"
 },
 "nbformat": 3,
 "nbformat_minor": 0,
 "worksheets": [
  {
   "cells": [
    {
     "cell_type": "code",
     "collapsed": false,
     "input": [
      "import pandas as pd\n",
      "from datetime import datetime, timedelta\n",
      "from datetime import date as dt\n",
      "import sys\n",
      "\n",
      "def datespan(startDate, endDate, delta=timedelta(days=1)):\n",
      "    currentDate = startDate\n",
      "    while currentDate < endDate:\n",
      "        yield currentDate\n",
      "        currentDate += delta\n",
      "        \n",
      "#date1 = dt(int(args[1]),int(args[2]), int(args[3]))\n",
      "#date2 = dt(int(args[4]),int(args[5]), int(args[6]))\n",
      "\n",
      "#date_span = list(datespan(date1, date2))\n",
      "date_span = list(datespan(dt(2012,2,1), dt(2013, 1, 1)))\n",
      "def remove_repetitions(arr):\n",
      "    return list(set(arr))\n",
      "\n",
      "from collections import Counter\n",
      "from scrub_text import *\n",
      "\n",
      "def get_counter_map_from_df(df):\n",
      "    counter_map = {}\n",
      "    for sub, text, author in zip(df.subreddit, df.body, df.author):\n",
      "        scrubbed = scrub_text(text)\n",
      "        if author.endswith('bot'):\n",
      "            continue\n",
      "        \n",
      "        if not sub in counter_map.keys():\n",
      "            counter_map[sub] = Counter()\n",
      "        counter_map[sub].update(remove_repetitions(scrubbed.split(' ')))\n",
      "    return counter_map\n",
      "from os import listdir\n",
      "from os.path import isfile, join\n",
      "\n",
      "csv_dir = 'csvs/daily_csvs/'\n",
      "\n",
      "def get_filename_from_date(date):\n",
      "    date_string = datetime.strftime(date,'%Y-%m-%d')\n",
      "    return date_string + '.csv'\n",
      "\n",
      "files = [get_filename_from_date(date) for date in date_span]\n",
      "import pickle\n",
      "\n",
      "pickle_dir = 'pickle/counters/'\n",
      "\n",
      "ct = 1\n",
      "\n",
      "for f in files:\n",
      "    print f\n",
      "    df = pd.read_csv(join(csv_dir,f), sep = '\\t')\n",
      "    counter_map = get_counter_map_from_df(df)\n",
      "    file_loc = join(pickle_dir,f.replace('.csv','.pck'))\n",
      "    p_file = open(file_loc, 'w')\n",
      "    pickle.dump(counter_map, p_file)\n",
      "    p_file.close()"
     ],
     "language": "python",
     "metadata": {},
     "outputs": [
      {
       "output_type": "stream",
       "stream": "stdout",
       "text": [
        "2013-01-01.csv\n",
        "2013-01-02.csv"
       ]
      },
      {
       "output_type": "stream",
       "stream": "stdout",
       "text": [
        "\n",
        "2013-01-03.csv"
       ]
      },
      {
       "output_type": "stream",
       "stream": "stdout",
       "text": [
        "\n",
        "2013-01-04.csv"
       ]
      },
      {
       "output_type": "stream",
       "stream": "stdout",
       "text": [
        "\n"
       ]
      },
      {
       "ename": "IOError",
       "evalue": "File csvs/daily_csvs/2013-01-04.csv does not exist",
       "output_type": "pyerr",
       "traceback": [
        "\u001b[1;31m---------------------------------------------------------------------------\u001b[0m\n\u001b[1;31mIOError\u001b[0m                                   Traceback (most recent call last)",
        "\u001b[1;32m<ipython-input-1-1918f398a2e9>\u001b[0m in \u001b[0;36m<module>\u001b[1;34m()\u001b[0m\n\u001b[0;32m     50\u001b[0m \u001b[1;32mfor\u001b[0m \u001b[0mf\u001b[0m \u001b[1;32min\u001b[0m \u001b[0mfiles\u001b[0m\u001b[1;33m:\u001b[0m\u001b[1;33m\u001b[0m\u001b[0m\n\u001b[0;32m     51\u001b[0m     \u001b[1;32mprint\u001b[0m \u001b[0mf\u001b[0m\u001b[1;33m\u001b[0m\u001b[0m\n\u001b[1;32m---> 52\u001b[1;33m     \u001b[0mdf\u001b[0m \u001b[1;33m=\u001b[0m \u001b[0mpd\u001b[0m\u001b[1;33m.\u001b[0m\u001b[0mread_csv\u001b[0m\u001b[1;33m(\u001b[0m\u001b[0mjoin\u001b[0m\u001b[1;33m(\u001b[0m\u001b[0mcsv_dir\u001b[0m\u001b[1;33m,\u001b[0m\u001b[0mf\u001b[0m\u001b[1;33m)\u001b[0m\u001b[1;33m,\u001b[0m \u001b[0msep\u001b[0m \u001b[1;33m=\u001b[0m \u001b[1;34m'\\t'\u001b[0m\u001b[1;33m)\u001b[0m\u001b[1;33m\u001b[0m\u001b[0m\n\u001b[0m\u001b[0;32m     53\u001b[0m     \u001b[0mcounter_map\u001b[0m \u001b[1;33m=\u001b[0m \u001b[0mget_counter_map_from_df\u001b[0m\u001b[1;33m(\u001b[0m\u001b[0mdf\u001b[0m\u001b[1;33m)\u001b[0m\u001b[1;33m\u001b[0m\u001b[0m\n\u001b[0;32m     54\u001b[0m     \u001b[0mfile_loc\u001b[0m \u001b[1;33m=\u001b[0m \u001b[0mjoin\u001b[0m\u001b[1;33m(\u001b[0m\u001b[0mpickle_dir\u001b[0m\u001b[1;33m,\u001b[0m\u001b[0mf\u001b[0m\u001b[1;33m.\u001b[0m\u001b[0mreplace\u001b[0m\u001b[1;33m(\u001b[0m\u001b[1;34m'.csv'\u001b[0m\u001b[1;33m,\u001b[0m\u001b[1;34m'.pck'\u001b[0m\u001b[1;33m)\u001b[0m\u001b[1;33m)\u001b[0m\u001b[1;33m\u001b[0m\u001b[0m\n",
        "\u001b[1;32m/home/mikesj/Library/Python/2.7/site-packages/pandas/io/parsers.pyc\u001b[0m in \u001b[0;36mparser_f\u001b[1;34m(filepath_or_buffer, sep, dialect, compression, doublequote, escapechar, quotechar, quoting, skipinitialspace, lineterminator, header, index_col, names, prefix, skiprows, skipfooter, skip_footer, na_values, na_fvalues, true_values, false_values, delimiter, converters, dtype, usecols, engine, delim_whitespace, as_recarray, na_filter, compact_ints, use_unsigned, low_memory, buffer_lines, warn_bad_lines, error_bad_lines, keep_default_na, thousands, comment, decimal, parse_dates, keep_date_col, dayfirst, date_parser, memory_map, float_precision, nrows, iterator, chunksize, verbose, encoding, squeeze, mangle_dupe_cols, tupleize_cols, infer_datetime_format, skip_blank_lines)\u001b[0m\n\u001b[0;32m    463\u001b[0m                     skip_blank_lines=skip_blank_lines)\n\u001b[0;32m    464\u001b[0m \u001b[1;33m\u001b[0m\u001b[0m\n\u001b[1;32m--> 465\u001b[1;33m         \u001b[1;32mreturn\u001b[0m \u001b[0m_read\u001b[0m\u001b[1;33m(\u001b[0m\u001b[0mfilepath_or_buffer\u001b[0m\u001b[1;33m,\u001b[0m \u001b[0mkwds\u001b[0m\u001b[1;33m)\u001b[0m\u001b[1;33m\u001b[0m\u001b[0m\n\u001b[0m\u001b[0;32m    466\u001b[0m \u001b[1;33m\u001b[0m\u001b[0m\n\u001b[0;32m    467\u001b[0m     \u001b[0mparser_f\u001b[0m\u001b[1;33m.\u001b[0m\u001b[0m__name__\u001b[0m \u001b[1;33m=\u001b[0m \u001b[0mname\u001b[0m\u001b[1;33m\u001b[0m\u001b[0m\n",
        "\u001b[1;32m/home/mikesj/Library/Python/2.7/site-packages/pandas/io/parsers.pyc\u001b[0m in \u001b[0;36m_read\u001b[1;34m(filepath_or_buffer, kwds)\u001b[0m\n\u001b[0;32m    239\u001b[0m \u001b[1;33m\u001b[0m\u001b[0m\n\u001b[0;32m    240\u001b[0m     \u001b[1;31m# Create the parser.\u001b[0m\u001b[1;33m\u001b[0m\u001b[1;33m\u001b[0m\u001b[0m\n\u001b[1;32m--> 241\u001b[1;33m     \u001b[0mparser\u001b[0m \u001b[1;33m=\u001b[0m \u001b[0mTextFileReader\u001b[0m\u001b[1;33m(\u001b[0m\u001b[0mfilepath_or_buffer\u001b[0m\u001b[1;33m,\u001b[0m \u001b[1;33m**\u001b[0m\u001b[0mkwds\u001b[0m\u001b[1;33m)\u001b[0m\u001b[1;33m\u001b[0m\u001b[0m\n\u001b[0m\u001b[0;32m    242\u001b[0m \u001b[1;33m\u001b[0m\u001b[0m\n\u001b[0;32m    243\u001b[0m     \u001b[1;32mif\u001b[0m \u001b[1;33m(\u001b[0m\u001b[0mnrows\u001b[0m \u001b[1;32mis\u001b[0m \u001b[1;32mnot\u001b[0m \u001b[0mNone\u001b[0m\u001b[1;33m)\u001b[0m \u001b[1;32mand\u001b[0m \u001b[1;33m(\u001b[0m\u001b[0mchunksize\u001b[0m \u001b[1;32mis\u001b[0m \u001b[1;32mnot\u001b[0m \u001b[0mNone\u001b[0m\u001b[1;33m)\u001b[0m\u001b[1;33m:\u001b[0m\u001b[1;33m\u001b[0m\u001b[0m\n",
        "\u001b[1;32m/home/mikesj/Library/Python/2.7/site-packages/pandas/io/parsers.pyc\u001b[0m in \u001b[0;36m__init__\u001b[1;34m(self, f, engine, **kwds)\u001b[0m\n\u001b[0;32m    555\u001b[0m             \u001b[0mself\u001b[0m\u001b[1;33m.\u001b[0m\u001b[0moptions\u001b[0m\u001b[1;33m[\u001b[0m\u001b[1;34m'has_index_names'\u001b[0m\u001b[1;33m]\u001b[0m \u001b[1;33m=\u001b[0m \u001b[0mkwds\u001b[0m\u001b[1;33m[\u001b[0m\u001b[1;34m'has_index_names'\u001b[0m\u001b[1;33m]\u001b[0m\u001b[1;33m\u001b[0m\u001b[0m\n\u001b[0;32m    556\u001b[0m \u001b[1;33m\u001b[0m\u001b[0m\n\u001b[1;32m--> 557\u001b[1;33m         \u001b[0mself\u001b[0m\u001b[1;33m.\u001b[0m\u001b[0m_make_engine\u001b[0m\u001b[1;33m(\u001b[0m\u001b[0mself\u001b[0m\u001b[1;33m.\u001b[0m\u001b[0mengine\u001b[0m\u001b[1;33m)\u001b[0m\u001b[1;33m\u001b[0m\u001b[0m\n\u001b[0m\u001b[0;32m    558\u001b[0m \u001b[1;33m\u001b[0m\u001b[0m\n\u001b[0;32m    559\u001b[0m     \u001b[1;32mdef\u001b[0m \u001b[0m_get_options_with_defaults\u001b[0m\u001b[1;33m(\u001b[0m\u001b[0mself\u001b[0m\u001b[1;33m,\u001b[0m \u001b[0mengine\u001b[0m\u001b[1;33m)\u001b[0m\u001b[1;33m:\u001b[0m\u001b[1;33m\u001b[0m\u001b[0m\n",
        "\u001b[1;32m/home/mikesj/Library/Python/2.7/site-packages/pandas/io/parsers.pyc\u001b[0m in \u001b[0;36m_make_engine\u001b[1;34m(self, engine)\u001b[0m\n\u001b[0;32m    692\u001b[0m     \u001b[1;32mdef\u001b[0m \u001b[0m_make_engine\u001b[0m\u001b[1;33m(\u001b[0m\u001b[0mself\u001b[0m\u001b[1;33m,\u001b[0m \u001b[0mengine\u001b[0m\u001b[1;33m=\u001b[0m\u001b[1;34m'c'\u001b[0m\u001b[1;33m)\u001b[0m\u001b[1;33m:\u001b[0m\u001b[1;33m\u001b[0m\u001b[0m\n\u001b[0;32m    693\u001b[0m         \u001b[1;32mif\u001b[0m \u001b[0mengine\u001b[0m \u001b[1;33m==\u001b[0m \u001b[1;34m'c'\u001b[0m\u001b[1;33m:\u001b[0m\u001b[1;33m\u001b[0m\u001b[0m\n\u001b[1;32m--> 694\u001b[1;33m             \u001b[0mself\u001b[0m\u001b[1;33m.\u001b[0m\u001b[0m_engine\u001b[0m \u001b[1;33m=\u001b[0m \u001b[0mCParserWrapper\u001b[0m\u001b[1;33m(\u001b[0m\u001b[0mself\u001b[0m\u001b[1;33m.\u001b[0m\u001b[0mf\u001b[0m\u001b[1;33m,\u001b[0m \u001b[1;33m**\u001b[0m\u001b[0mself\u001b[0m\u001b[1;33m.\u001b[0m\u001b[0moptions\u001b[0m\u001b[1;33m)\u001b[0m\u001b[1;33m\u001b[0m\u001b[0m\n\u001b[0m\u001b[0;32m    695\u001b[0m         \u001b[1;32melse\u001b[0m\u001b[1;33m:\u001b[0m\u001b[1;33m\u001b[0m\u001b[0m\n\u001b[0;32m    696\u001b[0m             \u001b[1;32mif\u001b[0m \u001b[0mengine\u001b[0m \u001b[1;33m==\u001b[0m \u001b[1;34m'python'\u001b[0m\u001b[1;33m:\u001b[0m\u001b[1;33m\u001b[0m\u001b[0m\n",
        "\u001b[1;32m/home/mikesj/Library/Python/2.7/site-packages/pandas/io/parsers.pyc\u001b[0m in \u001b[0;36m__init__\u001b[1;34m(self, src, **kwds)\u001b[0m\n\u001b[0;32m   1054\u001b[0m         \u001b[0mkwds\u001b[0m\u001b[1;33m[\u001b[0m\u001b[1;34m'allow_leading_cols'\u001b[0m\u001b[1;33m]\u001b[0m \u001b[1;33m=\u001b[0m \u001b[0mself\u001b[0m\u001b[1;33m.\u001b[0m\u001b[0mindex_col\u001b[0m \u001b[1;32mis\u001b[0m \u001b[1;32mnot\u001b[0m \u001b[0mFalse\u001b[0m\u001b[1;33m\u001b[0m\u001b[0m\n\u001b[0;32m   1055\u001b[0m \u001b[1;33m\u001b[0m\u001b[0m\n\u001b[1;32m-> 1056\u001b[1;33m         \u001b[0mself\u001b[0m\u001b[1;33m.\u001b[0m\u001b[0m_reader\u001b[0m \u001b[1;33m=\u001b[0m \u001b[0m_parser\u001b[0m\u001b[1;33m.\u001b[0m\u001b[0mTextReader\u001b[0m\u001b[1;33m(\u001b[0m\u001b[0msrc\u001b[0m\u001b[1;33m,\u001b[0m \u001b[1;33m**\u001b[0m\u001b[0mkwds\u001b[0m\u001b[1;33m)\u001b[0m\u001b[1;33m\u001b[0m\u001b[0m\n\u001b[0m\u001b[0;32m   1057\u001b[0m \u001b[1;33m\u001b[0m\u001b[0m\n\u001b[0;32m   1058\u001b[0m         \u001b[1;31m# XXX\u001b[0m\u001b[1;33m\u001b[0m\u001b[1;33m\u001b[0m\u001b[0m\n",
        "\u001b[1;32m/home/mikesj/Library/Python/2.7/site-packages/pandas/parser.so\u001b[0m in \u001b[0;36mpandas.parser.TextReader.__cinit__ (pandas/parser.c:3129)\u001b[1;34m()\u001b[0m\n",
        "\u001b[1;32m/home/mikesj/Library/Python/2.7/site-packages/pandas/parser.so\u001b[0m in \u001b[0;36mpandas.parser.TextReader._setup_parser_source (pandas/parser.c:5760)\u001b[1;34m()\u001b[0m\n",
        "\u001b[1;31mIOError\u001b[0m: File csvs/daily_csvs/2013-01-04.csv does not exist"
       ]
      }
     ],
     "prompt_number": 1
    },
    {
     "cell_type": "code",
     "collapsed": false,
     "input": [
      "from datetime import datetime, timedelta\n",
      "from datetime import date as dt\n",
      "import sys\n",
      "import pickle\n",
      "import operator\n",
      "        \n",
      "month_counter_mp = {}\n",
      "\n",
      "def sort_counter(counter):\n",
      "    sorted_ = sorted(counter.items(), key= operator.itemgetter(1))\n",
      "    sorted_.reverse()\n",
      "    return sorted_\n",
      "    \n",
      "import sys\n",
      "    \n",
      "for d in datespan(dt(2013,1,1) , dt(2014,1,1)):\n",
      "    print d,\n",
      "    sys.stdout.flush()\n",
      "    month = d.strftime('%B-%Y')\n",
      "    if not month_counter_mp.has_key(month):\n",
      "        month_counter_mp[month] = Counter()\n",
      "    p_file = open(join(pickle_dir,str(d)) + '.pck', 'r')\n",
      "    counter_map = pickle.load(p_file)\n",
      "    \n",
      "    for key in counter_map.keys(): \n",
      "        counter = counter_map[key]\n",
      "        month_counter_mp[month].update(counter)"
     ],
     "language": "python",
     "metadata": {},
     "outputs": [
      {
       "output_type": "stream",
       "stream": "stdout",
       "text": [
        "2013-01-01"
       ]
      },
      {
       "output_type": "stream",
       "stream": "stdout",
       "text": [
        " 2013-01-02"
       ]
      },
      {
       "output_type": "stream",
       "stream": "stdout",
       "text": [
        " 2013-01-03"
       ]
      },
      {
       "output_type": "stream",
       "stream": "stdout",
       "text": [
        " 2013-01-04"
       ]
      },
      {
       "output_type": "stream",
       "stream": "stdout",
       "text": [
        " 2013-01-05"
       ]
      },
      {
       "output_type": "stream",
       "stream": "stdout",
       "text": [
        " 2013-01-06"
       ]
      },
      {
       "output_type": "stream",
       "stream": "stdout",
       "text": [
        " 2013-01-07"
       ]
      },
      {
       "output_type": "stream",
       "stream": "stdout",
       "text": [
        " 2013-01-08"
       ]
      },
      {
       "output_type": "stream",
       "stream": "stdout",
       "text": [
        " 2013-01-09"
       ]
      },
      {
       "output_type": "stream",
       "stream": "stdout",
       "text": [
        " 2013-01-10"
       ]
      },
      {
       "output_type": "stream",
       "stream": "stdout",
       "text": [
        " 2013-01-11"
       ]
      },
      {
       "output_type": "stream",
       "stream": "stdout",
       "text": [
        " 2013-01-12"
       ]
      },
      {
       "output_type": "stream",
       "stream": "stdout",
       "text": [
        " 2013-01-13"
       ]
      },
      {
       "output_type": "stream",
       "stream": "stdout",
       "text": [
        " 2013-01-14"
       ]
      },
      {
       "output_type": "stream",
       "stream": "stdout",
       "text": [
        " 2013-01-15"
       ]
      },
      {
       "output_type": "stream",
       "stream": "stdout",
       "text": [
        " 2013-01-16"
       ]
      },
      {
       "output_type": "stream",
       "stream": "stdout",
       "text": [
        " 2013-01-17"
       ]
      },
      {
       "output_type": "stream",
       "stream": "stdout",
       "text": [
        " 2013-01-18"
       ]
      },
      {
       "output_type": "stream",
       "stream": "stdout",
       "text": [
        " 2013-01-19"
       ]
      },
      {
       "output_type": "stream",
       "stream": "stdout",
       "text": [
        " 2013-01-20"
       ]
      },
      {
       "output_type": "stream",
       "stream": "stdout",
       "text": [
        " 2013-01-21"
       ]
      },
      {
       "output_type": "stream",
       "stream": "stdout",
       "text": [
        " 2013-01-22"
       ]
      },
      {
       "output_type": "stream",
       "stream": "stdout",
       "text": [
        " 2013-01-23"
       ]
      },
      {
       "output_type": "stream",
       "stream": "stdout",
       "text": [
        " 2013-01-24"
       ]
      },
      {
       "output_type": "stream",
       "stream": "stdout",
       "text": [
        " 2013-01-25"
       ]
      },
      {
       "output_type": "stream",
       "stream": "stdout",
       "text": [
        " 2013-01-26"
       ]
      },
      {
       "output_type": "stream",
       "stream": "stdout",
       "text": [
        " 2013-01-27"
       ]
      },
      {
       "output_type": "stream",
       "stream": "stdout",
       "text": [
        " 2013-01-28"
       ]
      },
      {
       "output_type": "stream",
       "stream": "stdout",
       "text": [
        " 2013-01-29"
       ]
      },
      {
       "output_type": "stream",
       "stream": "stdout",
       "text": [
        " 2013-01-30"
       ]
      },
      {
       "output_type": "stream",
       "stream": "stdout",
       "text": [
        " 2013-01-31"
       ]
      },
      {
       "output_type": "stream",
       "stream": "stdout",
       "text": [
        " 2013-02-01"
       ]
      },
      {
       "output_type": "stream",
       "stream": "stdout",
       "text": [
        " 2013-02-02"
       ]
      },
      {
       "output_type": "stream",
       "stream": "stdout",
       "text": [
        " 2013-02-03"
       ]
      },
      {
       "output_type": "stream",
       "stream": "stdout",
       "text": [
        " 2013-02-04"
       ]
      },
      {
       "output_type": "stream",
       "stream": "stdout",
       "text": [
        " 2013-02-05"
       ]
      },
      {
       "output_type": "stream",
       "stream": "stdout",
       "text": [
        " 2013-02-06"
       ]
      },
      {
       "output_type": "stream",
       "stream": "stdout",
       "text": [
        " 2013-02-07"
       ]
      },
      {
       "output_type": "stream",
       "stream": "stdout",
       "text": [
        " 2013-02-08"
       ]
      },
      {
       "output_type": "stream",
       "stream": "stdout",
       "text": [
        " 2013-02-09"
       ]
      },
      {
       "output_type": "stream",
       "stream": "stdout",
       "text": [
        " 2013-02-10"
       ]
      },
      {
       "output_type": "stream",
       "stream": "stdout",
       "text": [
        " 2013-02-11"
       ]
      },
      {
       "output_type": "stream",
       "stream": "stdout",
       "text": [
        " 2013-02-12"
       ]
      },
      {
       "output_type": "stream",
       "stream": "stdout",
       "text": [
        " 2013-02-13"
       ]
      },
      {
       "output_type": "stream",
       "stream": "stdout",
       "text": [
        " 2013-02-14"
       ]
      },
      {
       "output_type": "stream",
       "stream": "stdout",
       "text": [
        " 2013-02-15"
       ]
      },
      {
       "output_type": "stream",
       "stream": "stdout",
       "text": [
        " 2013-02-16"
       ]
      },
      {
       "output_type": "stream",
       "stream": "stdout",
       "text": [
        " 2013-02-17"
       ]
      },
      {
       "output_type": "stream",
       "stream": "stdout",
       "text": [
        " 2013-02-18"
       ]
      },
      {
       "output_type": "stream",
       "stream": "stdout",
       "text": [
        " 2013-02-19"
       ]
      },
      {
       "output_type": "stream",
       "stream": "stdout",
       "text": [
        " 2013-02-20"
       ]
      },
      {
       "output_type": "stream",
       "stream": "stdout",
       "text": [
        " 2013-02-21"
       ]
      },
      {
       "output_type": "stream",
       "stream": "stdout",
       "text": [
        " 2013-02-22"
       ]
      },
      {
       "output_type": "stream",
       "stream": "stdout",
       "text": [
        " 2013-02-23"
       ]
      },
      {
       "output_type": "stream",
       "stream": "stdout",
       "text": [
        " 2013-02-24"
       ]
      },
      {
       "output_type": "stream",
       "stream": "stdout",
       "text": [
        " 2013-02-25"
       ]
      },
      {
       "output_type": "stream",
       "stream": "stdout",
       "text": [
        " 2013-02-26"
       ]
      },
      {
       "output_type": "stream",
       "stream": "stdout",
       "text": [
        " 2013-02-27"
       ]
      },
      {
       "output_type": "stream",
       "stream": "stdout",
       "text": [
        " 2013-02-28"
       ]
      },
      {
       "output_type": "stream",
       "stream": "stdout",
       "text": [
        " 2013-03-01"
       ]
      },
      {
       "output_type": "stream",
       "stream": "stdout",
       "text": [
        " 2013-03-02"
       ]
      },
      {
       "output_type": "stream",
       "stream": "stdout",
       "text": [
        " 2013-03-03"
       ]
      },
      {
       "output_type": "stream",
       "stream": "stdout",
       "text": [
        " 2013-03-04"
       ]
      },
      {
       "output_type": "stream",
       "stream": "stdout",
       "text": [
        " 2013-03-05"
       ]
      },
      {
       "output_type": "stream",
       "stream": "stdout",
       "text": [
        " 2013-03-06"
       ]
      },
      {
       "output_type": "stream",
       "stream": "stdout",
       "text": [
        " 2013-03-07"
       ]
      },
      {
       "output_type": "stream",
       "stream": "stdout",
       "text": [
        " 2013-03-08"
       ]
      },
      {
       "output_type": "stream",
       "stream": "stdout",
       "text": [
        " 2013-03-09"
       ]
      },
      {
       "output_type": "stream",
       "stream": "stdout",
       "text": [
        " 2013-03-10"
       ]
      },
      {
       "output_type": "stream",
       "stream": "stdout",
       "text": [
        " 2013-03-11"
       ]
      },
      {
       "output_type": "stream",
       "stream": "stdout",
       "text": [
        " 2013-03-12"
       ]
      },
      {
       "output_type": "stream",
       "stream": "stdout",
       "text": [
        " 2013-03-13"
       ]
      },
      {
       "output_type": "stream",
       "stream": "stdout",
       "text": [
        " 2013-03-14"
       ]
      },
      {
       "output_type": "stream",
       "stream": "stdout",
       "text": [
        " 2013-03-15"
       ]
      },
      {
       "output_type": "stream",
       "stream": "stdout",
       "text": [
        " 2013-03-16"
       ]
      },
      {
       "output_type": "stream",
       "stream": "stdout",
       "text": [
        " 2013-03-17"
       ]
      },
      {
       "output_type": "stream",
       "stream": "stdout",
       "text": [
        " 2013-03-18"
       ]
      },
      {
       "output_type": "stream",
       "stream": "stdout",
       "text": [
        " 2013-03-19"
       ]
      },
      {
       "output_type": "stream",
       "stream": "stdout",
       "text": [
        " 2013-03-20"
       ]
      },
      {
       "output_type": "stream",
       "stream": "stdout",
       "text": [
        " 2013-03-21"
       ]
      },
      {
       "output_type": "stream",
       "stream": "stdout",
       "text": [
        " 2013-03-22"
       ]
      },
      {
       "output_type": "stream",
       "stream": "stdout",
       "text": [
        " 2013-03-23"
       ]
      },
      {
       "output_type": "stream",
       "stream": "stdout",
       "text": [
        " 2013-03-24"
       ]
      },
      {
       "output_type": "stream",
       "stream": "stdout",
       "text": [
        " 2013-03-25"
       ]
      },
      {
       "output_type": "stream",
       "stream": "stdout",
       "text": [
        " 2013-03-26"
       ]
      },
      {
       "output_type": "stream",
       "stream": "stdout",
       "text": [
        " 2013-03-27"
       ]
      },
      {
       "output_type": "stream",
       "stream": "stdout",
       "text": [
        " 2013-03-28"
       ]
      },
      {
       "output_type": "stream",
       "stream": "stdout",
       "text": [
        " 2013-03-29"
       ]
      },
      {
       "output_type": "stream",
       "stream": "stdout",
       "text": [
        " 2013-03-30"
       ]
      },
      {
       "output_type": "stream",
       "stream": "stdout",
       "text": [
        " 2013-03-31"
       ]
      },
      {
       "output_type": "stream",
       "stream": "stdout",
       "text": [
        " 2013-04-01"
       ]
      },
      {
       "output_type": "stream",
       "stream": "stdout",
       "text": [
        " 2013-04-02"
       ]
      },
      {
       "output_type": "stream",
       "stream": "stdout",
       "text": [
        " 2013-04-03"
       ]
      },
      {
       "output_type": "stream",
       "stream": "stdout",
       "text": [
        " 2013-04-04"
       ]
      },
      {
       "output_type": "stream",
       "stream": "stdout",
       "text": [
        " 2013-04-05"
       ]
      },
      {
       "output_type": "stream",
       "stream": "stdout",
       "text": [
        " 2013-04-06"
       ]
      },
      {
       "output_type": "stream",
       "stream": "stdout",
       "text": [
        " 2013-04-07"
       ]
      },
      {
       "output_type": "stream",
       "stream": "stdout",
       "text": [
        " 2013-04-08"
       ]
      },
      {
       "output_type": "stream",
       "stream": "stdout",
       "text": [
        " 2013-04-09"
       ]
      },
      {
       "output_type": "stream",
       "stream": "stdout",
       "text": [
        " 2013-04-10"
       ]
      },
      {
       "output_type": "stream",
       "stream": "stdout",
       "text": [
        " 2013-04-11"
       ]
      },
      {
       "output_type": "stream",
       "stream": "stdout",
       "text": [
        " 2013-04-12"
       ]
      },
      {
       "output_type": "stream",
       "stream": "stdout",
       "text": [
        " 2013-04-13"
       ]
      },
      {
       "output_type": "stream",
       "stream": "stdout",
       "text": [
        " 2013-04-14"
       ]
      },
      {
       "output_type": "stream",
       "stream": "stdout",
       "text": [
        " 2013-04-15"
       ]
      },
      {
       "output_type": "stream",
       "stream": "stdout",
       "text": [
        " 2013-04-16"
       ]
      },
      {
       "output_type": "stream",
       "stream": "stdout",
       "text": [
        " 2013-04-17"
       ]
      },
      {
       "output_type": "stream",
       "stream": "stdout",
       "text": [
        " 2013-04-18"
       ]
      },
      {
       "output_type": "stream",
       "stream": "stdout",
       "text": [
        " 2013-04-19"
       ]
      },
      {
       "output_type": "stream",
       "stream": "stdout",
       "text": [
        " 2013-04-20"
       ]
      },
      {
       "output_type": "stream",
       "stream": "stdout",
       "text": [
        " 2013-04-21"
       ]
      },
      {
       "output_type": "stream",
       "stream": "stdout",
       "text": [
        " 2013-04-22"
       ]
      },
      {
       "output_type": "stream",
       "stream": "stdout",
       "text": [
        " 2013-04-23"
       ]
      },
      {
       "output_type": "stream",
       "stream": "stdout",
       "text": [
        " 2013-04-24"
       ]
      },
      {
       "output_type": "stream",
       "stream": "stdout",
       "text": [
        " 2013-04-25"
       ]
      },
      {
       "output_type": "stream",
       "stream": "stdout",
       "text": [
        " 2013-04-26"
       ]
      },
      {
       "output_type": "stream",
       "stream": "stdout",
       "text": [
        " 2013-04-27"
       ]
      },
      {
       "output_type": "stream",
       "stream": "stdout",
       "text": [
        " 2013-04-28"
       ]
      },
      {
       "output_type": "stream",
       "stream": "stdout",
       "text": [
        " 2013-04-29"
       ]
      },
      {
       "output_type": "stream",
       "stream": "stdout",
       "text": [
        " 2013-04-30"
       ]
      },
      {
       "output_type": "stream",
       "stream": "stdout",
       "text": [
        " 2013-05-01"
       ]
      },
      {
       "output_type": "stream",
       "stream": "stdout",
       "text": [
        " 2013-05-02"
       ]
      },
      {
       "output_type": "stream",
       "stream": "stdout",
       "text": [
        " 2013-05-03"
       ]
      },
      {
       "output_type": "stream",
       "stream": "stdout",
       "text": [
        " 2013-05-04"
       ]
      },
      {
       "output_type": "stream",
       "stream": "stdout",
       "text": [
        " 2013-05-05"
       ]
      },
      {
       "output_type": "stream",
       "stream": "stdout",
       "text": [
        " 2013-05-06"
       ]
      },
      {
       "output_type": "stream",
       "stream": "stdout",
       "text": [
        " 2013-05-07"
       ]
      },
      {
       "output_type": "stream",
       "stream": "stdout",
       "text": [
        " 2013-05-08"
       ]
      },
      {
       "output_type": "stream",
       "stream": "stdout",
       "text": [
        " 2013-05-09"
       ]
      },
      {
       "output_type": "stream",
       "stream": "stdout",
       "text": [
        " 2013-05-10"
       ]
      },
      {
       "output_type": "stream",
       "stream": "stdout",
       "text": [
        " 2013-05-11"
       ]
      },
      {
       "output_type": "stream",
       "stream": "stdout",
       "text": [
        " 2013-05-12"
       ]
      },
      {
       "output_type": "stream",
       "stream": "stdout",
       "text": [
        " 2013-05-13"
       ]
      },
      {
       "output_type": "stream",
       "stream": "stdout",
       "text": [
        " 2013-05-14"
       ]
      },
      {
       "output_type": "stream",
       "stream": "stdout",
       "text": [
        " 2013-05-15"
       ]
      },
      {
       "output_type": "stream",
       "stream": "stdout",
       "text": [
        " 2013-05-16"
       ]
      },
      {
       "output_type": "stream",
       "stream": "stdout",
       "text": [
        " 2013-05-17"
       ]
      },
      {
       "output_type": "stream",
       "stream": "stdout",
       "text": [
        " 2013-05-18"
       ]
      },
      {
       "output_type": "stream",
       "stream": "stdout",
       "text": [
        " 2013-05-19"
       ]
      },
      {
       "output_type": "stream",
       "stream": "stdout",
       "text": [
        " 2013-05-20"
       ]
      },
      {
       "output_type": "stream",
       "stream": "stdout",
       "text": [
        " 2013-05-21"
       ]
      },
      {
       "output_type": "stream",
       "stream": "stdout",
       "text": [
        " 2013-05-22"
       ]
      },
      {
       "output_type": "stream",
       "stream": "stdout",
       "text": [
        " 2013-05-23"
       ]
      },
      {
       "output_type": "stream",
       "stream": "stdout",
       "text": [
        " 2013-05-24"
       ]
      },
      {
       "output_type": "stream",
       "stream": "stdout",
       "text": [
        " 2013-05-25"
       ]
      },
      {
       "output_type": "stream",
       "stream": "stdout",
       "text": [
        " 2013-05-26"
       ]
      },
      {
       "output_type": "stream",
       "stream": "stdout",
       "text": [
        " 2013-05-27"
       ]
      },
      {
       "output_type": "stream",
       "stream": "stdout",
       "text": [
        " 2013-05-28"
       ]
      },
      {
       "output_type": "stream",
       "stream": "stdout",
       "text": [
        " 2013-05-29"
       ]
      },
      {
       "output_type": "stream",
       "stream": "stdout",
       "text": [
        " 2013-05-30"
       ]
      },
      {
       "output_type": "stream",
       "stream": "stdout",
       "text": [
        " 2013-05-31"
       ]
      },
      {
       "output_type": "stream",
       "stream": "stdout",
       "text": [
        " 2013-06-01"
       ]
      },
      {
       "output_type": "stream",
       "stream": "stdout",
       "text": [
        " 2013-06-02"
       ]
      },
      {
       "output_type": "stream",
       "stream": "stdout",
       "text": [
        " 2013-06-03"
       ]
      },
      {
       "output_type": "stream",
       "stream": "stdout",
       "text": [
        " 2013-06-04"
       ]
      },
      {
       "output_type": "stream",
       "stream": "stdout",
       "text": [
        " 2013-06-05"
       ]
      },
      {
       "output_type": "stream",
       "stream": "stdout",
       "text": [
        " 2013-06-06"
       ]
      },
      {
       "output_type": "stream",
       "stream": "stdout",
       "text": [
        " 2013-06-07"
       ]
      },
      {
       "output_type": "stream",
       "stream": "stdout",
       "text": [
        " 2013-06-08"
       ]
      },
      {
       "output_type": "stream",
       "stream": "stdout",
       "text": [
        " 2013-06-09"
       ]
      },
      {
       "output_type": "stream",
       "stream": "stdout",
       "text": [
        " 2013-06-10"
       ]
      },
      {
       "output_type": "stream",
       "stream": "stdout",
       "text": [
        " 2013-06-11"
       ]
      },
      {
       "output_type": "stream",
       "stream": "stdout",
       "text": [
        " 2013-06-12"
       ]
      },
      {
       "output_type": "stream",
       "stream": "stdout",
       "text": [
        " 2013-06-13"
       ]
      },
      {
       "output_type": "stream",
       "stream": "stdout",
       "text": [
        " 2013-06-14"
       ]
      },
      {
       "output_type": "stream",
       "stream": "stdout",
       "text": [
        " 2013-06-15"
       ]
      },
      {
       "output_type": "stream",
       "stream": "stdout",
       "text": [
        " 2013-06-16"
       ]
      },
      {
       "output_type": "stream",
       "stream": "stdout",
       "text": [
        " 2013-06-17"
       ]
      },
      {
       "output_type": "stream",
       "stream": "stdout",
       "text": [
        " 2013-06-18"
       ]
      },
      {
       "output_type": "stream",
       "stream": "stdout",
       "text": [
        " 2013-06-19"
       ]
      },
      {
       "output_type": "stream",
       "stream": "stdout",
       "text": [
        " 2013-06-20"
       ]
      },
      {
       "output_type": "stream",
       "stream": "stdout",
       "text": [
        " 2013-06-21"
       ]
      },
      {
       "output_type": "stream",
       "stream": "stdout",
       "text": [
        " 2013-06-22"
       ]
      },
      {
       "output_type": "stream",
       "stream": "stdout",
       "text": [
        " 2013-06-23"
       ]
      },
      {
       "output_type": "stream",
       "stream": "stdout",
       "text": [
        " 2013-06-24"
       ]
      },
      {
       "output_type": "stream",
       "stream": "stdout",
       "text": [
        " 2013-06-25"
       ]
      },
      {
       "output_type": "stream",
       "stream": "stdout",
       "text": [
        " 2013-06-26"
       ]
      },
      {
       "output_type": "stream",
       "stream": "stdout",
       "text": [
        " 2013-06-27"
       ]
      },
      {
       "output_type": "stream",
       "stream": "stdout",
       "text": [
        " 2013-06-28"
       ]
      },
      {
       "output_type": "stream",
       "stream": "stdout",
       "text": [
        " 2013-06-29"
       ]
      },
      {
       "output_type": "stream",
       "stream": "stdout",
       "text": [
        " 2013-06-30"
       ]
      },
      {
       "output_type": "stream",
       "stream": "stdout",
       "text": [
        " 2013-07-01"
       ]
      },
      {
       "output_type": "stream",
       "stream": "stdout",
       "text": [
        " 2013-07-02"
       ]
      },
      {
       "output_type": "stream",
       "stream": "stdout",
       "text": [
        " 2013-07-03"
       ]
      },
      {
       "output_type": "stream",
       "stream": "stdout",
       "text": [
        " 2013-07-04"
       ]
      },
      {
       "output_type": "stream",
       "stream": "stdout",
       "text": [
        " 2013-07-05"
       ]
      },
      {
       "output_type": "stream",
       "stream": "stdout",
       "text": [
        " 2013-07-06"
       ]
      },
      {
       "output_type": "stream",
       "stream": "stdout",
       "text": [
        " 2013-07-07"
       ]
      },
      {
       "output_type": "stream",
       "stream": "stdout",
       "text": [
        " 2013-07-08"
       ]
      },
      {
       "output_type": "stream",
       "stream": "stdout",
       "text": [
        " 2013-07-09"
       ]
      },
      {
       "output_type": "stream",
       "stream": "stdout",
       "text": [
        " 2013-07-10"
       ]
      },
      {
       "output_type": "stream",
       "stream": "stdout",
       "text": [
        " 2013-07-11"
       ]
      },
      {
       "output_type": "stream",
       "stream": "stdout",
       "text": [
        " 2013-07-12"
       ]
      },
      {
       "output_type": "stream",
       "stream": "stdout",
       "text": [
        " 2013-07-13"
       ]
      },
      {
       "output_type": "stream",
       "stream": "stdout",
       "text": [
        " 2013-07-14"
       ]
      },
      {
       "output_type": "stream",
       "stream": "stdout",
       "text": [
        " 2013-07-15"
       ]
      },
      {
       "output_type": "stream",
       "stream": "stdout",
       "text": [
        " 2013-07-16"
       ]
      },
      {
       "output_type": "stream",
       "stream": "stdout",
       "text": [
        " 2013-07-17"
       ]
      },
      {
       "output_type": "stream",
       "stream": "stdout",
       "text": [
        " 2013-07-18"
       ]
      },
      {
       "output_type": "stream",
       "stream": "stdout",
       "text": [
        " 2013-07-19"
       ]
      },
      {
       "output_type": "stream",
       "stream": "stdout",
       "text": [
        " 2013-07-20"
       ]
      },
      {
       "output_type": "stream",
       "stream": "stdout",
       "text": [
        " 2013-07-21"
       ]
      },
      {
       "output_type": "stream",
       "stream": "stdout",
       "text": [
        " 2013-07-22"
       ]
      },
      {
       "output_type": "stream",
       "stream": "stdout",
       "text": [
        " 2013-07-23"
       ]
      },
      {
       "output_type": "stream",
       "stream": "stdout",
       "text": [
        " 2013-07-24"
       ]
      },
      {
       "output_type": "stream",
       "stream": "stdout",
       "text": [
        " 2013-07-25"
       ]
      },
      {
       "output_type": "stream",
       "stream": "stdout",
       "text": [
        " 2013-07-26"
       ]
      },
      {
       "output_type": "stream",
       "stream": "stdout",
       "text": [
        " 2013-07-27"
       ]
      },
      {
       "output_type": "stream",
       "stream": "stdout",
       "text": [
        " 2013-07-28"
       ]
      },
      {
       "output_type": "stream",
       "stream": "stdout",
       "text": [
        " 2013-07-29"
       ]
      },
      {
       "output_type": "stream",
       "stream": "stdout",
       "text": [
        " 2013-07-30"
       ]
      },
      {
       "output_type": "stream",
       "stream": "stdout",
       "text": [
        " 2013-07-31"
       ]
      },
      {
       "output_type": "stream",
       "stream": "stdout",
       "text": [
        " 2013-08-01"
       ]
      },
      {
       "output_type": "stream",
       "stream": "stdout",
       "text": [
        " 2013-08-02"
       ]
      },
      {
       "output_type": "stream",
       "stream": "stdout",
       "text": [
        " 2013-08-03"
       ]
      },
      {
       "output_type": "stream",
       "stream": "stdout",
       "text": [
        " 2013-08-04"
       ]
      },
      {
       "output_type": "stream",
       "stream": "stdout",
       "text": [
        " 2013-08-05"
       ]
      },
      {
       "output_type": "stream",
       "stream": "stdout",
       "text": [
        " 2013-08-06"
       ]
      },
      {
       "output_type": "stream",
       "stream": "stdout",
       "text": [
        " 2013-08-07"
       ]
      },
      {
       "output_type": "stream",
       "stream": "stdout",
       "text": [
        " 2013-08-08"
       ]
      },
      {
       "output_type": "stream",
       "stream": "stdout",
       "text": [
        " 2013-08-09"
       ]
      },
      {
       "output_type": "stream",
       "stream": "stdout",
       "text": [
        " 2013-08-10"
       ]
      },
      {
       "output_type": "stream",
       "stream": "stdout",
       "text": [
        " 2013-08-11"
       ]
      },
      {
       "output_type": "stream",
       "stream": "stdout",
       "text": [
        " 2013-08-12"
       ]
      },
      {
       "output_type": "stream",
       "stream": "stdout",
       "text": [
        " 2013-08-13"
       ]
      },
      {
       "output_type": "stream",
       "stream": "stdout",
       "text": [
        " 2013-08-14"
       ]
      },
      {
       "output_type": "stream",
       "stream": "stdout",
       "text": [
        " 2013-08-15"
       ]
      },
      {
       "output_type": "stream",
       "stream": "stdout",
       "text": [
        " 2013-08-16"
       ]
      },
      {
       "output_type": "stream",
       "stream": "stdout",
       "text": [
        " 2013-08-17"
       ]
      },
      {
       "output_type": "stream",
       "stream": "stdout",
       "text": [
        " 2013-08-18"
       ]
      },
      {
       "output_type": "stream",
       "stream": "stdout",
       "text": [
        " 2013-08-19"
       ]
      },
      {
       "output_type": "stream",
       "stream": "stdout",
       "text": [
        " 2013-08-20"
       ]
      },
      {
       "output_type": "stream",
       "stream": "stdout",
       "text": [
        " 2013-08-21"
       ]
      },
      {
       "output_type": "stream",
       "stream": "stdout",
       "text": [
        " 2013-08-22"
       ]
      },
      {
       "output_type": "stream",
       "stream": "stdout",
       "text": [
        " 2013-08-23"
       ]
      },
      {
       "output_type": "stream",
       "stream": "stdout",
       "text": [
        " 2013-08-24"
       ]
      },
      {
       "output_type": "stream",
       "stream": "stdout",
       "text": [
        " 2013-08-25"
       ]
      },
      {
       "output_type": "stream",
       "stream": "stdout",
       "text": [
        " 2013-08-26"
       ]
      },
      {
       "output_type": "stream",
       "stream": "stdout",
       "text": [
        " 2013-08-27"
       ]
      },
      {
       "output_type": "stream",
       "stream": "stdout",
       "text": [
        " 2013-08-28"
       ]
      },
      {
       "output_type": "stream",
       "stream": "stdout",
       "text": [
        " 2013-08-29"
       ]
      },
      {
       "output_type": "stream",
       "stream": "stdout",
       "text": [
        " 2013-08-30"
       ]
      },
      {
       "output_type": "stream",
       "stream": "stdout",
       "text": [
        " 2013-08-31"
       ]
      },
      {
       "output_type": "stream",
       "stream": "stdout",
       "text": [
        " 2013-09-01"
       ]
      },
      {
       "output_type": "stream",
       "stream": "stdout",
       "text": [
        " 2013-09-02"
       ]
      },
      {
       "output_type": "stream",
       "stream": "stdout",
       "text": [
        " 2013-09-03"
       ]
      },
      {
       "output_type": "stream",
       "stream": "stdout",
       "text": [
        " 2013-09-04"
       ]
      },
      {
       "output_type": "stream",
       "stream": "stdout",
       "text": [
        " 2013-09-05"
       ]
      },
      {
       "output_type": "stream",
       "stream": "stdout",
       "text": [
        " 2013-09-06"
       ]
      },
      {
       "output_type": "stream",
       "stream": "stdout",
       "text": [
        " 2013-09-07"
       ]
      },
      {
       "output_type": "stream",
       "stream": "stdout",
       "text": [
        " 2013-09-08"
       ]
      },
      {
       "output_type": "stream",
       "stream": "stdout",
       "text": [
        " 2013-09-09"
       ]
      },
      {
       "output_type": "stream",
       "stream": "stdout",
       "text": [
        " 2013-09-10"
       ]
      },
      {
       "output_type": "stream",
       "stream": "stdout",
       "text": [
        " 2013-09-11"
       ]
      },
      {
       "output_type": "stream",
       "stream": "stdout",
       "text": [
        " 2013-09-12"
       ]
      },
      {
       "output_type": "stream",
       "stream": "stdout",
       "text": [
        " 2013-09-13"
       ]
      },
      {
       "output_type": "stream",
       "stream": "stdout",
       "text": [
        " 2013-09-14"
       ]
      },
      {
       "output_type": "stream",
       "stream": "stdout",
       "text": [
        " 2013-09-15"
       ]
      },
      {
       "output_type": "stream",
       "stream": "stdout",
       "text": [
        " 2013-09-16"
       ]
      },
      {
       "output_type": "stream",
       "stream": "stdout",
       "text": [
        " 2013-09-17"
       ]
      },
      {
       "output_type": "stream",
       "stream": "stdout",
       "text": [
        " 2013-09-18"
       ]
      },
      {
       "output_type": "stream",
       "stream": "stdout",
       "text": [
        " 2013-09-19"
       ]
      },
      {
       "output_type": "stream",
       "stream": "stdout",
       "text": [
        " 2013-09-20"
       ]
      },
      {
       "output_type": "stream",
       "stream": "stdout",
       "text": [
        " 2013-09-21"
       ]
      },
      {
       "output_type": "stream",
       "stream": "stdout",
       "text": [
        " 2013-09-22"
       ]
      },
      {
       "output_type": "stream",
       "stream": "stdout",
       "text": [
        " 2013-09-23"
       ]
      },
      {
       "output_type": "stream",
       "stream": "stdout",
       "text": [
        " 2013-09-24"
       ]
      },
      {
       "output_type": "stream",
       "stream": "stdout",
       "text": [
        " 2013-09-25"
       ]
      },
      {
       "output_type": "stream",
       "stream": "stdout",
       "text": [
        " 2013-09-26"
       ]
      },
      {
       "output_type": "stream",
       "stream": "stdout",
       "text": [
        " 2013-09-27"
       ]
      },
      {
       "output_type": "stream",
       "stream": "stdout",
       "text": [
        " 2013-09-28"
       ]
      },
      {
       "output_type": "stream",
       "stream": "stdout",
       "text": [
        " 2013-09-29"
       ]
      },
      {
       "output_type": "stream",
       "stream": "stdout",
       "text": [
        " 2013-09-30"
       ]
      },
      {
       "output_type": "stream",
       "stream": "stdout",
       "text": [
        " 2013-10-01"
       ]
      },
      {
       "output_type": "stream",
       "stream": "stdout",
       "text": [
        " 2013-10-02"
       ]
      },
      {
       "output_type": "stream",
       "stream": "stdout",
       "text": [
        " 2013-10-03"
       ]
      },
      {
       "output_type": "stream",
       "stream": "stdout",
       "text": [
        " 2013-10-04"
       ]
      },
      {
       "output_type": "stream",
       "stream": "stdout",
       "text": [
        " 2013-10-05"
       ]
      },
      {
       "output_type": "stream",
       "stream": "stdout",
       "text": [
        " 2013-10-06"
       ]
      },
      {
       "output_type": "stream",
       "stream": "stdout",
       "text": [
        " 2013-10-07"
       ]
      },
      {
       "output_type": "stream",
       "stream": "stdout",
       "text": [
        " 2013-10-08"
       ]
      },
      {
       "output_type": "stream",
       "stream": "stdout",
       "text": [
        " 2013-10-09"
       ]
      },
      {
       "output_type": "stream",
       "stream": "stdout",
       "text": [
        " 2013-10-10"
       ]
      },
      {
       "output_type": "stream",
       "stream": "stdout",
       "text": [
        " 2013-10-11"
       ]
      },
      {
       "output_type": "stream",
       "stream": "stdout",
       "text": [
        " 2013-10-12"
       ]
      },
      {
       "output_type": "stream",
       "stream": "stdout",
       "text": [
        " 2013-10-13"
       ]
      },
      {
       "output_type": "stream",
       "stream": "stdout",
       "text": [
        " 2013-10-14"
       ]
      },
      {
       "output_type": "stream",
       "stream": "stdout",
       "text": [
        " 2013-10-15"
       ]
      },
      {
       "output_type": "stream",
       "stream": "stdout",
       "text": [
        " 2013-10-16"
       ]
      },
      {
       "output_type": "stream",
       "stream": "stdout",
       "text": [
        " 2013-10-17"
       ]
      },
      {
       "output_type": "stream",
       "stream": "stdout",
       "text": [
        " 2013-10-18"
       ]
      },
      {
       "output_type": "stream",
       "stream": "stdout",
       "text": [
        " 2013-10-19"
       ]
      },
      {
       "output_type": "stream",
       "stream": "stdout",
       "text": [
        " 2013-10-20"
       ]
      },
      {
       "output_type": "stream",
       "stream": "stdout",
       "text": [
        " 2013-10-21"
       ]
      },
      {
       "output_type": "stream",
       "stream": "stdout",
       "text": [
        " 2013-10-22"
       ]
      },
      {
       "output_type": "stream",
       "stream": "stdout",
       "text": [
        " 2013-10-23"
       ]
      },
      {
       "output_type": "stream",
       "stream": "stdout",
       "text": [
        " 2013-10-24"
       ]
      },
      {
       "output_type": "stream",
       "stream": "stdout",
       "text": [
        " 2013-10-25"
       ]
      },
      {
       "output_type": "stream",
       "stream": "stdout",
       "text": [
        " 2013-10-26"
       ]
      },
      {
       "output_type": "stream",
       "stream": "stdout",
       "text": [
        " 2013-10-27"
       ]
      },
      {
       "output_type": "stream",
       "stream": "stdout",
       "text": [
        " 2013-10-28"
       ]
      },
      {
       "output_type": "stream",
       "stream": "stdout",
       "text": [
        " 2013-10-29"
       ]
      },
      {
       "output_type": "stream",
       "stream": "stdout",
       "text": [
        " 2013-10-30"
       ]
      },
      {
       "output_type": "stream",
       "stream": "stdout",
       "text": [
        " 2013-10-31"
       ]
      },
      {
       "output_type": "stream",
       "stream": "stdout",
       "text": [
        " 2013-11-01"
       ]
      },
      {
       "output_type": "stream",
       "stream": "stdout",
       "text": [
        " 2013-11-02"
       ]
      },
      {
       "output_type": "stream",
       "stream": "stdout",
       "text": [
        " 2013-11-03"
       ]
      },
      {
       "output_type": "stream",
       "stream": "stdout",
       "text": [
        " 2013-11-04"
       ]
      },
      {
       "output_type": "stream",
       "stream": "stdout",
       "text": [
        " 2013-11-05"
       ]
      },
      {
       "output_type": "stream",
       "stream": "stdout",
       "text": [
        " 2013-11-06"
       ]
      },
      {
       "output_type": "stream",
       "stream": "stdout",
       "text": [
        " 2013-11-07"
       ]
      },
      {
       "output_type": "stream",
       "stream": "stdout",
       "text": [
        " 2013-11-08"
       ]
      },
      {
       "output_type": "stream",
       "stream": "stdout",
       "text": [
        " 2013-11-09"
       ]
      },
      {
       "output_type": "stream",
       "stream": "stdout",
       "text": [
        " 2013-11-10"
       ]
      },
      {
       "output_type": "stream",
       "stream": "stdout",
       "text": [
        " 2013-11-11"
       ]
      },
      {
       "output_type": "stream",
       "stream": "stdout",
       "text": [
        " 2013-11-12"
       ]
      },
      {
       "output_type": "stream",
       "stream": "stdout",
       "text": [
        " 2013-11-13"
       ]
      },
      {
       "output_type": "stream",
       "stream": "stdout",
       "text": [
        " 2013-11-14"
       ]
      },
      {
       "output_type": "stream",
       "stream": "stdout",
       "text": [
        " 2013-11-15"
       ]
      },
      {
       "output_type": "stream",
       "stream": "stdout",
       "text": [
        " 2013-11-16"
       ]
      },
      {
       "output_type": "stream",
       "stream": "stdout",
       "text": [
        " 2013-11-17"
       ]
      },
      {
       "output_type": "stream",
       "stream": "stdout",
       "text": [
        " 2013-11-18"
       ]
      },
      {
       "output_type": "stream",
       "stream": "stdout",
       "text": [
        " 2013-11-19"
       ]
      },
      {
       "output_type": "stream",
       "stream": "stdout",
       "text": [
        " 2013-11-20"
       ]
      },
      {
       "output_type": "stream",
       "stream": "stdout",
       "text": [
        " 2013-11-21"
       ]
      },
      {
       "output_type": "stream",
       "stream": "stdout",
       "text": [
        " 2013-11-22"
       ]
      },
      {
       "output_type": "stream",
       "stream": "stdout",
       "text": [
        " 2013-11-23"
       ]
      },
      {
       "output_type": "stream",
       "stream": "stdout",
       "text": [
        " 2013-11-24"
       ]
      },
      {
       "output_type": "stream",
       "stream": "stdout",
       "text": [
        " 2013-11-25"
       ]
      },
      {
       "output_type": "stream",
       "stream": "stdout",
       "text": [
        " 2013-11-26"
       ]
      },
      {
       "output_type": "stream",
       "stream": "stdout",
       "text": [
        " 2013-11-27"
       ]
      },
      {
       "output_type": "stream",
       "stream": "stdout",
       "text": [
        " 2013-11-28"
       ]
      },
      {
       "output_type": "stream",
       "stream": "stdout",
       "text": [
        " 2013-11-29"
       ]
      },
      {
       "output_type": "stream",
       "stream": "stdout",
       "text": [
        " 2013-11-30"
       ]
      },
      {
       "output_type": "stream",
       "stream": "stdout",
       "text": [
        " 2013-12-01"
       ]
      },
      {
       "output_type": "stream",
       "stream": "stdout",
       "text": [
        " 2013-12-02"
       ]
      },
      {
       "output_type": "stream",
       "stream": "stdout",
       "text": [
        " 2013-12-03"
       ]
      },
      {
       "output_type": "stream",
       "stream": "stdout",
       "text": [
        " 2013-12-04"
       ]
      },
      {
       "output_type": "stream",
       "stream": "stdout",
       "text": [
        " 2013-12-05"
       ]
      },
      {
       "output_type": "stream",
       "stream": "stdout",
       "text": [
        " 2013-12-06"
       ]
      },
      {
       "output_type": "stream",
       "stream": "stdout",
       "text": [
        " 2013-12-07"
       ]
      },
      {
       "output_type": "stream",
       "stream": "stdout",
       "text": [
        " 2013-12-08"
       ]
      },
      {
       "output_type": "stream",
       "stream": "stdout",
       "text": [
        " 2013-12-09"
       ]
      },
      {
       "output_type": "stream",
       "stream": "stdout",
       "text": [
        " 2013-12-10"
       ]
      },
      {
       "output_type": "stream",
       "stream": "stdout",
       "text": [
        " 2013-12-11"
       ]
      },
      {
       "output_type": "stream",
       "stream": "stdout",
       "text": [
        " 2013-12-12"
       ]
      },
      {
       "output_type": "stream",
       "stream": "stdout",
       "text": [
        " 2013-12-13"
       ]
      },
      {
       "output_type": "stream",
       "stream": "stdout",
       "text": [
        " 2013-12-14"
       ]
      },
      {
       "output_type": "stream",
       "stream": "stdout",
       "text": [
        " 2013-12-15"
       ]
      },
      {
       "output_type": "stream",
       "stream": "stdout",
       "text": [
        " 2013-12-16"
       ]
      },
      {
       "output_type": "stream",
       "stream": "stdout",
       "text": [
        " 2013-12-17"
       ]
      },
      {
       "output_type": "stream",
       "stream": "stdout",
       "text": [
        " 2013-12-18"
       ]
      },
      {
       "output_type": "stream",
       "stream": "stdout",
       "text": [
        " 2013-12-19"
       ]
      },
      {
       "output_type": "stream",
       "stream": "stdout",
       "text": [
        " 2013-12-20"
       ]
      },
      {
       "output_type": "stream",
       "stream": "stdout",
       "text": [
        " 2013-12-21"
       ]
      },
      {
       "output_type": "stream",
       "stream": "stdout",
       "text": [
        " 2013-12-22"
       ]
      },
      {
       "output_type": "stream",
       "stream": "stdout",
       "text": [
        " 2013-12-23"
       ]
      },
      {
       "output_type": "stream",
       "stream": "stdout",
       "text": [
        " 2013-12-24"
       ]
      },
      {
       "output_type": "stream",
       "stream": "stdout",
       "text": [
        " 2013-12-25"
       ]
      },
      {
       "output_type": "stream",
       "stream": "stdout",
       "text": [
        " 2013-12-26"
       ]
      },
      {
       "output_type": "stream",
       "stream": "stdout",
       "text": [
        " 2013-12-27"
       ]
      },
      {
       "output_type": "stream",
       "stream": "stdout",
       "text": [
        " 2013-12-28"
       ]
      },
      {
       "output_type": "stream",
       "stream": "stdout",
       "text": [
        " 2013-12-29"
       ]
      },
      {
       "output_type": "stream",
       "stream": "stdout",
       "text": [
        " 2013-12-30"
       ]
      },
      {
       "output_type": "stream",
       "stream": "stdout",
       "text": [
        " 2013-12-31"
       ]
      },
      {
       "output_type": "stream",
       "stream": "stdout",
       "text": [
        "\n"
       ]
      }
     ],
     "prompt_number": 3
    },
    {
     "cell_type": "code",
     "collapsed": false,
     "input": [
      "import pickle\n",
      "pickle.dump(month_counter_mp,open('pickle/all_2013_month_map.pck','w'))"
     ],
     "language": "python",
     "metadata": {},
     "outputs": [],
     "prompt_number": 10
    },
    {
     "cell_type": "code",
     "collapsed": false,
     "input": [
      "sub_month_counter_mp = {}\n",
      "\n",
      "for d in datespan(dt(2014,1,1) , dt(2015,3,1)):\n",
      "    print d,\n",
      "    sys.stdout.flush()\n",
      "    month = d.strftime('%B-%Y')\n",
      "    \n",
      "    p_file = open(join(pickle_dir,str(d)) + '.pck', 'r')\n",
      "    sub_to_counter_map = pickle.load(p_file)\n",
      "    \n",
      "    for sub in sub_to_counter_map.keys():\n",
      "        if not sub in sub_month_counter_mp.keys():\n",
      "            sub_month_counter_mp[sub] = {}\n",
      "        if not month in sub_month_counter_mp[sub].keys():\n",
      "            sub_month_counter_mp[sub][month] = Counter()\n",
      "        counter = sub_to_counter_map[sub]\n",
      "        sub_month_counter_mp[sub][month].update(counter)\n",
      "    #print weird_count"
     ],
     "language": "python",
     "metadata": {},
     "outputs": [
      {
       "output_type": "stream",
       "stream": "stdout",
       "text": [
        "2014-01-01"
       ]
      },
      {
       "output_type": "stream",
       "stream": "stdout",
       "text": [
        " 2014-01-02"
       ]
      },
      {
       "output_type": "stream",
       "stream": "stdout",
       "text": [
        " 2014-01-03"
       ]
      },
      {
       "output_type": "stream",
       "stream": "stdout",
       "text": [
        " 2014-01-04"
       ]
      },
      {
       "output_type": "stream",
       "stream": "stdout",
       "text": [
        " 2014-01-05"
       ]
      },
      {
       "output_type": "stream",
       "stream": "stdout",
       "text": [
        " 2014-01-06"
       ]
      },
      {
       "output_type": "stream",
       "stream": "stdout",
       "text": [
        " 2014-01-07"
       ]
      },
      {
       "output_type": "stream",
       "stream": "stdout",
       "text": [
        " 2014-01-08"
       ]
      },
      {
       "output_type": "stream",
       "stream": "stdout",
       "text": [
        " 2014-01-09"
       ]
      },
      {
       "output_type": "stream",
       "stream": "stdout",
       "text": [
        " 2014-01-10"
       ]
      },
      {
       "output_type": "stream",
       "stream": "stdout",
       "text": [
        " 2014-01-11"
       ]
      },
      {
       "output_type": "stream",
       "stream": "stdout",
       "text": [
        " 2014-01-12"
       ]
      },
      {
       "output_type": "stream",
       "stream": "stdout",
       "text": [
        " 2014-01-13"
       ]
      },
      {
       "output_type": "stream",
       "stream": "stdout",
       "text": [
        " 2014-01-14"
       ]
      },
      {
       "output_type": "stream",
       "stream": "stdout",
       "text": [
        " 2014-01-15"
       ]
      },
      {
       "output_type": "stream",
       "stream": "stdout",
       "text": [
        " 2014-01-16"
       ]
      },
      {
       "output_type": "stream",
       "stream": "stdout",
       "text": [
        " 2014-01-17"
       ]
      },
      {
       "output_type": "stream",
       "stream": "stdout",
       "text": [
        " 2014-01-18"
       ]
      },
      {
       "output_type": "stream",
       "stream": "stdout",
       "text": [
        " 2014-01-19"
       ]
      },
      {
       "output_type": "stream",
       "stream": "stdout",
       "text": [
        " 2014-01-20"
       ]
      },
      {
       "output_type": "stream",
       "stream": "stdout",
       "text": [
        " 2014-01-21"
       ]
      },
      {
       "output_type": "stream",
       "stream": "stdout",
       "text": [
        " 2014-01-22"
       ]
      },
      {
       "output_type": "stream",
       "stream": "stdout",
       "text": [
        " 2014-01-23"
       ]
      },
      {
       "output_type": "stream",
       "stream": "stdout",
       "text": [
        " 2014-01-24"
       ]
      },
      {
       "output_type": "stream",
       "stream": "stdout",
       "text": [
        " 2014-01-25"
       ]
      },
      {
       "output_type": "stream",
       "stream": "stdout",
       "text": [
        " 2014-01-26"
       ]
      },
      {
       "output_type": "stream",
       "stream": "stdout",
       "text": [
        " 2014-01-27"
       ]
      },
      {
       "output_type": "stream",
       "stream": "stdout",
       "text": [
        " 2014-01-28"
       ]
      },
      {
       "output_type": "stream",
       "stream": "stdout",
       "text": [
        " 2014-01-29"
       ]
      },
      {
       "output_type": "stream",
       "stream": "stdout",
       "text": [
        " 2014-01-30"
       ]
      },
      {
       "output_type": "stream",
       "stream": "stdout",
       "text": [
        " 2014-01-31"
       ]
      },
      {
       "output_type": "stream",
       "stream": "stdout",
       "text": [
        " 2014-02-01"
       ]
      },
      {
       "output_type": "stream",
       "stream": "stdout",
       "text": [
        " 2014-02-02"
       ]
      },
      {
       "output_type": "stream",
       "stream": "stdout",
       "text": [
        " 2014-02-03"
       ]
      },
      {
       "output_type": "stream",
       "stream": "stdout",
       "text": [
        " 2014-02-04"
       ]
      },
      {
       "output_type": "stream",
       "stream": "stdout",
       "text": [
        " 2014-02-05"
       ]
      },
      {
       "output_type": "stream",
       "stream": "stdout",
       "text": [
        " 2014-02-06"
       ]
      },
      {
       "output_type": "stream",
       "stream": "stdout",
       "text": [
        " 2014-02-07"
       ]
      },
      {
       "output_type": "stream",
       "stream": "stdout",
       "text": [
        " 2014-02-08"
       ]
      },
      {
       "output_type": "stream",
       "stream": "stdout",
       "text": [
        " 2014-02-09"
       ]
      },
      {
       "output_type": "stream",
       "stream": "stdout",
       "text": [
        " 2014-02-10"
       ]
      },
      {
       "output_type": "stream",
       "stream": "stdout",
       "text": [
        " 2014-02-11"
       ]
      },
      {
       "output_type": "stream",
       "stream": "stdout",
       "text": [
        " 2014-02-12"
       ]
      },
      {
       "output_type": "stream",
       "stream": "stdout",
       "text": [
        " 2014-02-13"
       ]
      },
      {
       "output_type": "stream",
       "stream": "stdout",
       "text": [
        " 2014-02-14"
       ]
      },
      {
       "output_type": "stream",
       "stream": "stdout",
       "text": [
        " 2014-02-15"
       ]
      },
      {
       "output_type": "stream",
       "stream": "stdout",
       "text": [
        " 2014-02-16"
       ]
      },
      {
       "output_type": "stream",
       "stream": "stdout",
       "text": [
        " 2014-02-17"
       ]
      },
      {
       "output_type": "stream",
       "stream": "stdout",
       "text": [
        " 2014-02-18"
       ]
      },
      {
       "output_type": "stream",
       "stream": "stdout",
       "text": [
        " 2014-02-19"
       ]
      },
      {
       "output_type": "stream",
       "stream": "stdout",
       "text": [
        " 2014-02-20"
       ]
      },
      {
       "output_type": "stream",
       "stream": "stdout",
       "text": [
        " 2014-02-21"
       ]
      },
      {
       "output_type": "stream",
       "stream": "stdout",
       "text": [
        " 2014-02-22"
       ]
      },
      {
       "output_type": "stream",
       "stream": "stdout",
       "text": [
        " 2014-02-23"
       ]
      },
      {
       "output_type": "stream",
       "stream": "stdout",
       "text": [
        " 2014-02-24"
       ]
      },
      {
       "output_type": "stream",
       "stream": "stdout",
       "text": [
        " 2014-02-25"
       ]
      },
      {
       "output_type": "stream",
       "stream": "stdout",
       "text": [
        " 2014-02-26"
       ]
      },
      {
       "output_type": "stream",
       "stream": "stdout",
       "text": [
        " 2014-02-27"
       ]
      },
      {
       "output_type": "stream",
       "stream": "stdout",
       "text": [
        " 2014-02-28"
       ]
      },
      {
       "output_type": "stream",
       "stream": "stdout",
       "text": [
        " 2014-03-01"
       ]
      },
      {
       "output_type": "stream",
       "stream": "stdout",
       "text": [
        " 2014-03-02"
       ]
      },
      {
       "output_type": "stream",
       "stream": "stdout",
       "text": [
        " 2014-03-03"
       ]
      },
      {
       "output_type": "stream",
       "stream": "stdout",
       "text": [
        " 2014-03-04"
       ]
      },
      {
       "output_type": "stream",
       "stream": "stdout",
       "text": [
        " 2014-03-05"
       ]
      },
      {
       "output_type": "stream",
       "stream": "stdout",
       "text": [
        " 2014-03-06"
       ]
      },
      {
       "output_type": "stream",
       "stream": "stdout",
       "text": [
        " 2014-03-07"
       ]
      },
      {
       "output_type": "stream",
       "stream": "stdout",
       "text": [
        " 2014-03-08"
       ]
      },
      {
       "output_type": "stream",
       "stream": "stdout",
       "text": [
        " 2014-03-09"
       ]
      },
      {
       "output_type": "stream",
       "stream": "stdout",
       "text": [
        " 2014-03-10"
       ]
      },
      {
       "output_type": "stream",
       "stream": "stdout",
       "text": [
        " 2014-03-11"
       ]
      },
      {
       "output_type": "stream",
       "stream": "stdout",
       "text": [
        " 2014-03-12"
       ]
      },
      {
       "output_type": "stream",
       "stream": "stdout",
       "text": [
        " 2014-03-13"
       ]
      },
      {
       "output_type": "stream",
       "stream": "stdout",
       "text": [
        " 2014-03-14"
       ]
      },
      {
       "output_type": "stream",
       "stream": "stdout",
       "text": [
        " 2014-03-15"
       ]
      },
      {
       "output_type": "stream",
       "stream": "stdout",
       "text": [
        " 2014-03-16"
       ]
      },
      {
       "output_type": "stream",
       "stream": "stdout",
       "text": [
        " 2014-03-17"
       ]
      },
      {
       "output_type": "stream",
       "stream": "stdout",
       "text": [
        " 2014-03-18"
       ]
      },
      {
       "output_type": "stream",
       "stream": "stdout",
       "text": [
        " 2014-03-19"
       ]
      },
      {
       "output_type": "stream",
       "stream": "stdout",
       "text": [
        " 2014-03-20"
       ]
      },
      {
       "output_type": "stream",
       "stream": "stdout",
       "text": [
        " 2014-03-21"
       ]
      },
      {
       "output_type": "stream",
       "stream": "stdout",
       "text": [
        " 2014-03-22"
       ]
      },
      {
       "output_type": "stream",
       "stream": "stdout",
       "text": [
        " 2014-03-23"
       ]
      },
      {
       "output_type": "stream",
       "stream": "stdout",
       "text": [
        " 2014-03-24"
       ]
      },
      {
       "output_type": "stream",
       "stream": "stdout",
       "text": [
        " 2014-03-25"
       ]
      },
      {
       "output_type": "stream",
       "stream": "stdout",
       "text": [
        " 2014-03-26"
       ]
      },
      {
       "output_type": "stream",
       "stream": "stdout",
       "text": [
        " 2014-03-27"
       ]
      },
      {
       "output_type": "stream",
       "stream": "stdout",
       "text": [
        " 2014-03-28"
       ]
      },
      {
       "output_type": "stream",
       "stream": "stdout",
       "text": [
        " 2014-03-29"
       ]
      },
      {
       "output_type": "stream",
       "stream": "stdout",
       "text": [
        " 2014-03-30"
       ]
      },
      {
       "output_type": "stream",
       "stream": "stdout",
       "text": [
        " 2014-03-31"
       ]
      },
      {
       "output_type": "stream",
       "stream": "stdout",
       "text": [
        " 2014-04-01"
       ]
      },
      {
       "output_type": "stream",
       "stream": "stdout",
       "text": [
        " 2014-04-02"
       ]
      },
      {
       "output_type": "stream",
       "stream": "stdout",
       "text": [
        " 2014-04-03"
       ]
      },
      {
       "output_type": "stream",
       "stream": "stdout",
       "text": [
        " 2014-04-04"
       ]
      },
      {
       "output_type": "stream",
       "stream": "stdout",
       "text": [
        " 2014-04-05"
       ]
      },
      {
       "output_type": "stream",
       "stream": "stdout",
       "text": [
        " 2014-04-06"
       ]
      },
      {
       "output_type": "stream",
       "stream": "stdout",
       "text": [
        " 2014-04-07"
       ]
      },
      {
       "output_type": "stream",
       "stream": "stdout",
       "text": [
        " 2014-04-08"
       ]
      },
      {
       "output_type": "stream",
       "stream": "stdout",
       "text": [
        " 2014-04-09"
       ]
      },
      {
       "output_type": "stream",
       "stream": "stdout",
       "text": [
        " 2014-04-10"
       ]
      },
      {
       "output_type": "stream",
       "stream": "stdout",
       "text": [
        " 2014-04-11"
       ]
      },
      {
       "output_type": "stream",
       "stream": "stdout",
       "text": [
        " 2014-04-12"
       ]
      },
      {
       "output_type": "stream",
       "stream": "stdout",
       "text": [
        " 2014-04-13"
       ]
      },
      {
       "output_type": "stream",
       "stream": "stdout",
       "text": [
        " 2014-04-14"
       ]
      },
      {
       "output_type": "stream",
       "stream": "stdout",
       "text": [
        " 2014-04-15"
       ]
      },
      {
       "output_type": "stream",
       "stream": "stdout",
       "text": [
        " 2014-04-16"
       ]
      },
      {
       "output_type": "stream",
       "stream": "stdout",
       "text": [
        " 2014-04-17"
       ]
      },
      {
       "output_type": "stream",
       "stream": "stdout",
       "text": [
        " 2014-04-18"
       ]
      },
      {
       "output_type": "stream",
       "stream": "stdout",
       "text": [
        " 2014-04-19"
       ]
      },
      {
       "output_type": "stream",
       "stream": "stdout",
       "text": [
        " 2014-04-20"
       ]
      },
      {
       "output_type": "stream",
       "stream": "stdout",
       "text": [
        " 2014-04-21"
       ]
      },
      {
       "output_type": "stream",
       "stream": "stdout",
       "text": [
        " 2014-04-22"
       ]
      },
      {
       "output_type": "stream",
       "stream": "stdout",
       "text": [
        " 2014-04-23"
       ]
      },
      {
       "output_type": "stream",
       "stream": "stdout",
       "text": [
        " 2014-04-24"
       ]
      },
      {
       "output_type": "stream",
       "stream": "stdout",
       "text": [
        " 2014-04-25"
       ]
      },
      {
       "output_type": "stream",
       "stream": "stdout",
       "text": [
        " 2014-04-26"
       ]
      },
      {
       "output_type": "stream",
       "stream": "stdout",
       "text": [
        " 2014-04-27"
       ]
      },
      {
       "output_type": "stream",
       "stream": "stdout",
       "text": [
        " 2014-04-28"
       ]
      },
      {
       "output_type": "stream",
       "stream": "stdout",
       "text": [
        " 2014-04-29"
       ]
      },
      {
       "output_type": "stream",
       "stream": "stdout",
       "text": [
        " 2014-04-30"
       ]
      },
      {
       "output_type": "stream",
       "stream": "stdout",
       "text": [
        " 2014-05-01"
       ]
      },
      {
       "output_type": "stream",
       "stream": "stdout",
       "text": [
        " 2014-05-02"
       ]
      },
      {
       "output_type": "stream",
       "stream": "stdout",
       "text": [
        " 2014-05-03"
       ]
      },
      {
       "output_type": "stream",
       "stream": "stdout",
       "text": [
        " 2014-05-04"
       ]
      },
      {
       "output_type": "stream",
       "stream": "stdout",
       "text": [
        " 2014-05-05"
       ]
      },
      {
       "output_type": "stream",
       "stream": "stdout",
       "text": [
        " 2014-05-06"
       ]
      },
      {
       "output_type": "stream",
       "stream": "stdout",
       "text": [
        " 2014-05-07"
       ]
      },
      {
       "output_type": "stream",
       "stream": "stdout",
       "text": [
        " 2014-05-08"
       ]
      },
      {
       "output_type": "stream",
       "stream": "stdout",
       "text": [
        " 2014-05-09"
       ]
      },
      {
       "output_type": "stream",
       "stream": "stdout",
       "text": [
        " 2014-05-10"
       ]
      },
      {
       "output_type": "stream",
       "stream": "stdout",
       "text": [
        " 2014-05-11"
       ]
      },
      {
       "output_type": "stream",
       "stream": "stdout",
       "text": [
        " 2014-05-12"
       ]
      },
      {
       "output_type": "stream",
       "stream": "stdout",
       "text": [
        " 2014-05-13"
       ]
      },
      {
       "output_type": "stream",
       "stream": "stdout",
       "text": [
        " 2014-05-14"
       ]
      },
      {
       "output_type": "stream",
       "stream": "stdout",
       "text": [
        " 2014-05-15"
       ]
      },
      {
       "output_type": "stream",
       "stream": "stdout",
       "text": [
        " 2014-05-16"
       ]
      },
      {
       "output_type": "stream",
       "stream": "stdout",
       "text": [
        " 2014-05-17"
       ]
      },
      {
       "output_type": "stream",
       "stream": "stdout",
       "text": [
        " 2014-05-18"
       ]
      },
      {
       "output_type": "stream",
       "stream": "stdout",
       "text": [
        " 2014-05-19"
       ]
      },
      {
       "output_type": "stream",
       "stream": "stdout",
       "text": [
        " 2014-05-20"
       ]
      },
      {
       "output_type": "stream",
       "stream": "stdout",
       "text": [
        " 2014-05-21"
       ]
      },
      {
       "output_type": "stream",
       "stream": "stdout",
       "text": [
        " 2014-05-22"
       ]
      },
      {
       "output_type": "stream",
       "stream": "stdout",
       "text": [
        " 2014-05-23"
       ]
      },
      {
       "output_type": "stream",
       "stream": "stdout",
       "text": [
        " 2014-05-24"
       ]
      },
      {
       "output_type": "stream",
       "stream": "stdout",
       "text": [
        " 2014-05-25"
       ]
      },
      {
       "output_type": "stream",
       "stream": "stdout",
       "text": [
        " 2014-05-26"
       ]
      },
      {
       "output_type": "stream",
       "stream": "stdout",
       "text": [
        " 2014-05-27"
       ]
      },
      {
       "output_type": "stream",
       "stream": "stdout",
       "text": [
        " 2014-05-28"
       ]
      },
      {
       "output_type": "stream",
       "stream": "stdout",
       "text": [
        " 2014-05-29"
       ]
      },
      {
       "output_type": "stream",
       "stream": "stdout",
       "text": [
        " 2014-05-30"
       ]
      },
      {
       "output_type": "stream",
       "stream": "stdout",
       "text": [
        " 2014-05-31"
       ]
      },
      {
       "output_type": "stream",
       "stream": "stdout",
       "text": [
        " 2014-06-01"
       ]
      },
      {
       "output_type": "stream",
       "stream": "stdout",
       "text": [
        " 2014-06-02"
       ]
      },
      {
       "output_type": "stream",
       "stream": "stdout",
       "text": [
        " 2014-06-03"
       ]
      },
      {
       "output_type": "stream",
       "stream": "stdout",
       "text": [
        " 2014-06-04"
       ]
      },
      {
       "output_type": "stream",
       "stream": "stdout",
       "text": [
        " 2014-06-05"
       ]
      },
      {
       "output_type": "stream",
       "stream": "stdout",
       "text": [
        " 2014-06-06"
       ]
      },
      {
       "output_type": "stream",
       "stream": "stdout",
       "text": [
        " 2014-06-07"
       ]
      },
      {
       "output_type": "stream",
       "stream": "stdout",
       "text": [
        " 2014-06-08"
       ]
      },
      {
       "output_type": "stream",
       "stream": "stdout",
       "text": [
        " 2014-06-09"
       ]
      },
      {
       "output_type": "stream",
       "stream": "stdout",
       "text": [
        " 2014-06-10"
       ]
      },
      {
       "output_type": "stream",
       "stream": "stdout",
       "text": [
        " 2014-06-11"
       ]
      },
      {
       "output_type": "stream",
       "stream": "stdout",
       "text": [
        " 2014-06-12"
       ]
      },
      {
       "output_type": "stream",
       "stream": "stdout",
       "text": [
        " 2014-06-13"
       ]
      },
      {
       "output_type": "stream",
       "stream": "stdout",
       "text": [
        " 2014-06-14"
       ]
      },
      {
       "output_type": "stream",
       "stream": "stdout",
       "text": [
        " 2014-06-15"
       ]
      },
      {
       "output_type": "stream",
       "stream": "stdout",
       "text": [
        " 2014-06-16"
       ]
      },
      {
       "output_type": "stream",
       "stream": "stdout",
       "text": [
        " 2014-06-17"
       ]
      },
      {
       "output_type": "stream",
       "stream": "stdout",
       "text": [
        " 2014-06-18"
       ]
      },
      {
       "output_type": "stream",
       "stream": "stdout",
       "text": [
        " 2014-06-19"
       ]
      },
      {
       "output_type": "stream",
       "stream": "stdout",
       "text": [
        " 2014-06-20"
       ]
      },
      {
       "output_type": "stream",
       "stream": "stdout",
       "text": [
        " 2014-06-21"
       ]
      },
      {
       "output_type": "stream",
       "stream": "stdout",
       "text": [
        " 2014-06-22"
       ]
      },
      {
       "output_type": "stream",
       "stream": "stdout",
       "text": [
        " 2014-06-23"
       ]
      },
      {
       "output_type": "stream",
       "stream": "stdout",
       "text": [
        " 2014-06-24"
       ]
      },
      {
       "output_type": "stream",
       "stream": "stdout",
       "text": [
        " 2014-06-25"
       ]
      },
      {
       "output_type": "stream",
       "stream": "stdout",
       "text": [
        " 2014-06-26"
       ]
      },
      {
       "output_type": "stream",
       "stream": "stdout",
       "text": [
        " 2014-06-27"
       ]
      },
      {
       "output_type": "stream",
       "stream": "stdout",
       "text": [
        " 2014-06-28"
       ]
      },
      {
       "output_type": "stream",
       "stream": "stdout",
       "text": [
        " 2014-06-29"
       ]
      },
      {
       "output_type": "stream",
       "stream": "stdout",
       "text": [
        " 2014-06-30"
       ]
      },
      {
       "output_type": "stream",
       "stream": "stdout",
       "text": [
        " 2014-07-01"
       ]
      },
      {
       "output_type": "stream",
       "stream": "stdout",
       "text": [
        " 2014-07-02"
       ]
      },
      {
       "output_type": "stream",
       "stream": "stdout",
       "text": [
        " 2014-07-03"
       ]
      },
      {
       "output_type": "stream",
       "stream": "stdout",
       "text": [
        " 2014-07-04"
       ]
      },
      {
       "output_type": "stream",
       "stream": "stdout",
       "text": [
        " 2014-07-05"
       ]
      },
      {
       "output_type": "stream",
       "stream": "stdout",
       "text": [
        " 2014-07-06"
       ]
      },
      {
       "output_type": "stream",
       "stream": "stdout",
       "text": [
        " 2014-07-07"
       ]
      },
      {
       "output_type": "stream",
       "stream": "stdout",
       "text": [
        " 2014-07-08"
       ]
      },
      {
       "output_type": "stream",
       "stream": "stdout",
       "text": [
        " 2014-07-09"
       ]
      },
      {
       "output_type": "stream",
       "stream": "stdout",
       "text": [
        " 2014-07-10"
       ]
      },
      {
       "output_type": "stream",
       "stream": "stdout",
       "text": [
        " 2014-07-11"
       ]
      },
      {
       "output_type": "stream",
       "stream": "stdout",
       "text": [
        " 2014-07-12"
       ]
      },
      {
       "output_type": "stream",
       "stream": "stdout",
       "text": [
        " 2014-07-13"
       ]
      },
      {
       "output_type": "stream",
       "stream": "stdout",
       "text": [
        " 2014-07-14"
       ]
      },
      {
       "output_type": "stream",
       "stream": "stdout",
       "text": [
        " 2014-07-15"
       ]
      },
      {
       "output_type": "stream",
       "stream": "stdout",
       "text": [
        " 2014-07-16"
       ]
      },
      {
       "output_type": "stream",
       "stream": "stdout",
       "text": [
        " 2014-07-17"
       ]
      },
      {
       "output_type": "stream",
       "stream": "stdout",
       "text": [
        " 2014-07-18"
       ]
      },
      {
       "output_type": "stream",
       "stream": "stdout",
       "text": [
        " 2014-07-19"
       ]
      },
      {
       "output_type": "stream",
       "stream": "stdout",
       "text": [
        " 2014-07-20"
       ]
      },
      {
       "output_type": "stream",
       "stream": "stdout",
       "text": [
        " 2014-07-21"
       ]
      },
      {
       "output_type": "stream",
       "stream": "stdout",
       "text": [
        " 2014-07-22"
       ]
      },
      {
       "output_type": "stream",
       "stream": "stdout",
       "text": [
        " 2014-07-23"
       ]
      },
      {
       "output_type": "stream",
       "stream": "stdout",
       "text": [
        " 2014-07-24"
       ]
      },
      {
       "output_type": "stream",
       "stream": "stdout",
       "text": [
        " 2014-07-25"
       ]
      },
      {
       "output_type": "stream",
       "stream": "stdout",
       "text": [
        " 2014-07-26"
       ]
      },
      {
       "output_type": "stream",
       "stream": "stdout",
       "text": [
        " 2014-07-27"
       ]
      },
      {
       "output_type": "stream",
       "stream": "stdout",
       "text": [
        " 2014-07-28"
       ]
      },
      {
       "output_type": "stream",
       "stream": "stdout",
       "text": [
        " 2014-07-29"
       ]
      },
      {
       "output_type": "stream",
       "stream": "stdout",
       "text": [
        " 2014-07-30"
       ]
      },
      {
       "output_type": "stream",
       "stream": "stdout",
       "text": [
        " 2014-07-31"
       ]
      },
      {
       "output_type": "stream",
       "stream": "stdout",
       "text": [
        " 2014-08-01"
       ]
      },
      {
       "output_type": "stream",
       "stream": "stdout",
       "text": [
        " 2014-08-02"
       ]
      },
      {
       "output_type": "stream",
       "stream": "stdout",
       "text": [
        " 2014-08-03"
       ]
      },
      {
       "output_type": "stream",
       "stream": "stdout",
       "text": [
        " 2014-08-04"
       ]
      },
      {
       "output_type": "stream",
       "stream": "stdout",
       "text": [
        " 2014-08-05"
       ]
      },
      {
       "output_type": "stream",
       "stream": "stdout",
       "text": [
        " 2014-08-06"
       ]
      },
      {
       "output_type": "stream",
       "stream": "stdout",
       "text": [
        " 2014-08-07"
       ]
      },
      {
       "output_type": "stream",
       "stream": "stdout",
       "text": [
        " 2014-08-08"
       ]
      },
      {
       "output_type": "stream",
       "stream": "stdout",
       "text": [
        " 2014-08-09"
       ]
      },
      {
       "output_type": "stream",
       "stream": "stdout",
       "text": [
        " 2014-08-10"
       ]
      },
      {
       "output_type": "stream",
       "stream": "stdout",
       "text": [
        " 2014-08-11"
       ]
      },
      {
       "output_type": "stream",
       "stream": "stdout",
       "text": [
        " 2014-08-12"
       ]
      },
      {
       "output_type": "stream",
       "stream": "stdout",
       "text": [
        " 2014-08-13"
       ]
      },
      {
       "output_type": "stream",
       "stream": "stdout",
       "text": [
        " 2014-08-14"
       ]
      },
      {
       "output_type": "stream",
       "stream": "stdout",
       "text": [
        " 2014-08-15"
       ]
      },
      {
       "output_type": "stream",
       "stream": "stdout",
       "text": [
        " 2014-08-16"
       ]
      },
      {
       "output_type": "stream",
       "stream": "stdout",
       "text": [
        " 2014-08-17"
       ]
      },
      {
       "output_type": "stream",
       "stream": "stdout",
       "text": [
        " 2014-08-18"
       ]
      },
      {
       "output_type": "stream",
       "stream": "stdout",
       "text": [
        " 2014-08-19"
       ]
      },
      {
       "output_type": "stream",
       "stream": "stdout",
       "text": [
        " 2014-08-20"
       ]
      },
      {
       "output_type": "stream",
       "stream": "stdout",
       "text": [
        " 2014-08-21"
       ]
      },
      {
       "output_type": "stream",
       "stream": "stdout",
       "text": [
        " 2014-08-22"
       ]
      },
      {
       "output_type": "stream",
       "stream": "stdout",
       "text": [
        " 2014-08-23"
       ]
      },
      {
       "output_type": "stream",
       "stream": "stdout",
       "text": [
        " 2014-08-24"
       ]
      },
      {
       "output_type": "stream",
       "stream": "stdout",
       "text": [
        " 2014-08-25"
       ]
      },
      {
       "output_type": "stream",
       "stream": "stdout",
       "text": [
        " 2014-08-26"
       ]
      },
      {
       "output_type": "stream",
       "stream": "stdout",
       "text": [
        " 2014-08-27"
       ]
      },
      {
       "output_type": "stream",
       "stream": "stdout",
       "text": [
        " 2014-08-28"
       ]
      },
      {
       "output_type": "stream",
       "stream": "stdout",
       "text": [
        " 2014-08-29"
       ]
      },
      {
       "output_type": "stream",
       "stream": "stdout",
       "text": [
        " 2014-08-30"
       ]
      },
      {
       "output_type": "stream",
       "stream": "stdout",
       "text": [
        " 2014-08-31"
       ]
      },
      {
       "output_type": "stream",
       "stream": "stdout",
       "text": [
        " 2014-09-01"
       ]
      },
      {
       "output_type": "stream",
       "stream": "stdout",
       "text": [
        " 2014-09-02"
       ]
      },
      {
       "output_type": "stream",
       "stream": "stdout",
       "text": [
        " 2014-09-03"
       ]
      },
      {
       "output_type": "stream",
       "stream": "stdout",
       "text": [
        " 2014-09-04"
       ]
      },
      {
       "output_type": "stream",
       "stream": "stdout",
       "text": [
        " 2014-09-05"
       ]
      },
      {
       "output_type": "stream",
       "stream": "stdout",
       "text": [
        " 2014-09-06"
       ]
      },
      {
       "output_type": "stream",
       "stream": "stdout",
       "text": [
        " 2014-09-07"
       ]
      },
      {
       "output_type": "stream",
       "stream": "stdout",
       "text": [
        " 2014-09-08"
       ]
      },
      {
       "output_type": "stream",
       "stream": "stdout",
       "text": [
        " 2014-09-09"
       ]
      },
      {
       "output_type": "stream",
       "stream": "stdout",
       "text": [
        " 2014-09-10"
       ]
      },
      {
       "output_type": "stream",
       "stream": "stdout",
       "text": [
        " 2014-09-11"
       ]
      },
      {
       "output_type": "stream",
       "stream": "stdout",
       "text": [
        " 2014-09-12"
       ]
      },
      {
       "output_type": "stream",
       "stream": "stdout",
       "text": [
        " 2014-09-13"
       ]
      },
      {
       "output_type": "stream",
       "stream": "stdout",
       "text": [
        " 2014-09-14"
       ]
      },
      {
       "output_type": "stream",
       "stream": "stdout",
       "text": [
        " 2014-09-15"
       ]
      },
      {
       "output_type": "stream",
       "stream": "stdout",
       "text": [
        " 2014-09-16"
       ]
      },
      {
       "output_type": "stream",
       "stream": "stdout",
       "text": [
        " 2014-09-17"
       ]
      },
      {
       "output_type": "stream",
       "stream": "stdout",
       "text": [
        " 2014-09-18"
       ]
      },
      {
       "output_type": "stream",
       "stream": "stdout",
       "text": [
        " 2014-09-19"
       ]
      },
      {
       "output_type": "stream",
       "stream": "stdout",
       "text": [
        " 2014-09-20"
       ]
      },
      {
       "output_type": "stream",
       "stream": "stdout",
       "text": [
        " 2014-09-21"
       ]
      },
      {
       "output_type": "stream",
       "stream": "stdout",
       "text": [
        " 2014-09-22"
       ]
      },
      {
       "output_type": "stream",
       "stream": "stdout",
       "text": [
        " 2014-09-23"
       ]
      },
      {
       "output_type": "stream",
       "stream": "stdout",
       "text": [
        " 2014-09-24"
       ]
      },
      {
       "output_type": "stream",
       "stream": "stdout",
       "text": [
        " 2014-09-25"
       ]
      },
      {
       "output_type": "stream",
       "stream": "stdout",
       "text": [
        " 2014-09-26"
       ]
      },
      {
       "output_type": "stream",
       "stream": "stdout",
       "text": [
        " 2014-09-27"
       ]
      },
      {
       "output_type": "stream",
       "stream": "stdout",
       "text": [
        " 2014-09-28"
       ]
      },
      {
       "output_type": "stream",
       "stream": "stdout",
       "text": [
        " 2014-09-29"
       ]
      },
      {
       "output_type": "stream",
       "stream": "stdout",
       "text": [
        " 2014-09-30"
       ]
      },
      {
       "output_type": "stream",
       "stream": "stdout",
       "text": [
        " 2014-10-01"
       ]
      },
      {
       "output_type": "stream",
       "stream": "stdout",
       "text": [
        " 2014-10-02"
       ]
      },
      {
       "output_type": "stream",
       "stream": "stdout",
       "text": [
        " 2014-10-03"
       ]
      },
      {
       "output_type": "stream",
       "stream": "stdout",
       "text": [
        " 2014-10-04"
       ]
      },
      {
       "output_type": "stream",
       "stream": "stdout",
       "text": [
        " 2014-10-05"
       ]
      },
      {
       "output_type": "stream",
       "stream": "stdout",
       "text": [
        " 2014-10-06"
       ]
      },
      {
       "output_type": "stream",
       "stream": "stdout",
       "text": [
        " 2014-10-07"
       ]
      },
      {
       "output_type": "stream",
       "stream": "stdout",
       "text": [
        " 2014-10-08"
       ]
      },
      {
       "output_type": "stream",
       "stream": "stdout",
       "text": [
        " 2014-10-09"
       ]
      },
      {
       "output_type": "stream",
       "stream": "stdout",
       "text": [
        " 2014-10-10"
       ]
      },
      {
       "output_type": "stream",
       "stream": "stdout",
       "text": [
        " 2014-10-11"
       ]
      },
      {
       "output_type": "stream",
       "stream": "stdout",
       "text": [
        " 2014-10-12"
       ]
      },
      {
       "output_type": "stream",
       "stream": "stdout",
       "text": [
        " 2014-10-13"
       ]
      },
      {
       "output_type": "stream",
       "stream": "stdout",
       "text": [
        " 2014-10-14"
       ]
      },
      {
       "output_type": "stream",
       "stream": "stdout",
       "text": [
        " 2014-10-15"
       ]
      },
      {
       "output_type": "stream",
       "stream": "stdout",
       "text": [
        " 2014-10-16"
       ]
      },
      {
       "output_type": "stream",
       "stream": "stdout",
       "text": [
        " 2014-10-17"
       ]
      },
      {
       "output_type": "stream",
       "stream": "stdout",
       "text": [
        " 2014-10-18"
       ]
      },
      {
       "output_type": "stream",
       "stream": "stdout",
       "text": [
        " 2014-10-19"
       ]
      },
      {
       "output_type": "stream",
       "stream": "stdout",
       "text": [
        " 2014-10-20"
       ]
      },
      {
       "output_type": "stream",
       "stream": "stdout",
       "text": [
        " 2014-10-21"
       ]
      },
      {
       "output_type": "stream",
       "stream": "stdout",
       "text": [
        " 2014-10-22"
       ]
      },
      {
       "output_type": "stream",
       "stream": "stdout",
       "text": [
        " 2014-10-23"
       ]
      },
      {
       "output_type": "stream",
       "stream": "stdout",
       "text": [
        " 2014-10-24"
       ]
      },
      {
       "output_type": "stream",
       "stream": "stdout",
       "text": [
        " 2014-10-25"
       ]
      },
      {
       "output_type": "stream",
       "stream": "stdout",
       "text": [
        " 2014-10-26"
       ]
      },
      {
       "output_type": "stream",
       "stream": "stdout",
       "text": [
        " 2014-10-27"
       ]
      },
      {
       "output_type": "stream",
       "stream": "stdout",
       "text": [
        " 2014-10-28"
       ]
      },
      {
       "output_type": "stream",
       "stream": "stdout",
       "text": [
        " 2014-10-29"
       ]
      },
      {
       "output_type": "stream",
       "stream": "stdout",
       "text": [
        " 2014-10-30"
       ]
      },
      {
       "output_type": "stream",
       "stream": "stdout",
       "text": [
        " 2014-10-31"
       ]
      },
      {
       "output_type": "stream",
       "stream": "stdout",
       "text": [
        " 2014-11-01"
       ]
      },
      {
       "output_type": "stream",
       "stream": "stdout",
       "text": [
        " 2014-11-02"
       ]
      },
      {
       "output_type": "stream",
       "stream": "stdout",
       "text": [
        " 2014-11-03"
       ]
      },
      {
       "output_type": "stream",
       "stream": "stdout",
       "text": [
        " 2014-11-04"
       ]
      },
      {
       "output_type": "stream",
       "stream": "stdout",
       "text": [
        " 2014-11-05"
       ]
      },
      {
       "output_type": "stream",
       "stream": "stdout",
       "text": [
        " 2014-11-06"
       ]
      },
      {
       "output_type": "stream",
       "stream": "stdout",
       "text": [
        " 2014-11-07"
       ]
      },
      {
       "output_type": "stream",
       "stream": "stdout",
       "text": [
        " 2014-11-08"
       ]
      },
      {
       "output_type": "stream",
       "stream": "stdout",
       "text": [
        " 2014-11-09"
       ]
      },
      {
       "output_type": "stream",
       "stream": "stdout",
       "text": [
        " 2014-11-10"
       ]
      },
      {
       "output_type": "stream",
       "stream": "stdout",
       "text": [
        " 2014-11-11"
       ]
      },
      {
       "output_type": "stream",
       "stream": "stdout",
       "text": [
        " 2014-11-12"
       ]
      },
      {
       "output_type": "stream",
       "stream": "stdout",
       "text": [
        " 2014-11-13"
       ]
      },
      {
       "output_type": "stream",
       "stream": "stdout",
       "text": [
        " 2014-11-14"
       ]
      },
      {
       "output_type": "stream",
       "stream": "stdout",
       "text": [
        " 2014-11-15"
       ]
      },
      {
       "output_type": "stream",
       "stream": "stdout",
       "text": [
        " 2014-11-16"
       ]
      },
      {
       "output_type": "stream",
       "stream": "stdout",
       "text": [
        " 2014-11-17"
       ]
      },
      {
       "output_type": "stream",
       "stream": "stdout",
       "text": [
        " 2014-11-18"
       ]
      },
      {
       "output_type": "stream",
       "stream": "stdout",
       "text": [
        " 2014-11-19"
       ]
      },
      {
       "output_type": "stream",
       "stream": "stdout",
       "text": [
        " 2014-11-20"
       ]
      },
      {
       "output_type": "stream",
       "stream": "stdout",
       "text": [
        " 2014-11-21"
       ]
      },
      {
       "output_type": "stream",
       "stream": "stdout",
       "text": [
        " 2014-11-22"
       ]
      },
      {
       "output_type": "stream",
       "stream": "stdout",
       "text": [
        " 2014-11-23"
       ]
      },
      {
       "output_type": "stream",
       "stream": "stdout",
       "text": [
        " 2014-11-24"
       ]
      },
      {
       "output_type": "stream",
       "stream": "stdout",
       "text": [
        " 2014-11-25"
       ]
      },
      {
       "output_type": "stream",
       "stream": "stdout",
       "text": [
        " 2014-11-26"
       ]
      },
      {
       "output_type": "stream",
       "stream": "stdout",
       "text": [
        " 2014-11-27"
       ]
      },
      {
       "output_type": "stream",
       "stream": "stdout",
       "text": [
        " 2014-11-28"
       ]
      },
      {
       "output_type": "stream",
       "stream": "stdout",
       "text": [
        " 2014-11-29"
       ]
      },
      {
       "output_type": "stream",
       "stream": "stdout",
       "text": [
        " 2014-11-30"
       ]
      },
      {
       "output_type": "stream",
       "stream": "stdout",
       "text": [
        " 2014-12-01"
       ]
      },
      {
       "output_type": "stream",
       "stream": "stdout",
       "text": [
        " 2014-12-02"
       ]
      },
      {
       "output_type": "stream",
       "stream": "stdout",
       "text": [
        " 2014-12-03"
       ]
      },
      {
       "output_type": "stream",
       "stream": "stdout",
       "text": [
        " 2014-12-04"
       ]
      },
      {
       "output_type": "stream",
       "stream": "stdout",
       "text": [
        " 2014-12-05"
       ]
      },
      {
       "output_type": "stream",
       "stream": "stdout",
       "text": [
        " 2014-12-06"
       ]
      },
      {
       "output_type": "stream",
       "stream": "stdout",
       "text": [
        " 2014-12-07"
       ]
      },
      {
       "output_type": "stream",
       "stream": "stdout",
       "text": [
        " 2014-12-08"
       ]
      },
      {
       "output_type": "stream",
       "stream": "stdout",
       "text": [
        " 2014-12-09"
       ]
      },
      {
       "output_type": "stream",
       "stream": "stdout",
       "text": [
        " 2014-12-10"
       ]
      },
      {
       "output_type": "stream",
       "stream": "stdout",
       "text": [
        " 2014-12-11"
       ]
      },
      {
       "output_type": "stream",
       "stream": "stdout",
       "text": [
        " 2014-12-12"
       ]
      },
      {
       "output_type": "stream",
       "stream": "stdout",
       "text": [
        " 2014-12-13"
       ]
      },
      {
       "output_type": "stream",
       "stream": "stdout",
       "text": [
        " 2014-12-14"
       ]
      },
      {
       "output_type": "stream",
       "stream": "stdout",
       "text": [
        " 2014-12-15"
       ]
      },
      {
       "output_type": "stream",
       "stream": "stdout",
       "text": [
        " 2014-12-16"
       ]
      },
      {
       "output_type": "stream",
       "stream": "stdout",
       "text": [
        " 2014-12-17"
       ]
      },
      {
       "output_type": "stream",
       "stream": "stdout",
       "text": [
        " 2014-12-18"
       ]
      },
      {
       "output_type": "stream",
       "stream": "stdout",
       "text": [
        " 2014-12-19"
       ]
      },
      {
       "output_type": "stream",
       "stream": "stdout",
       "text": [
        " 2014-12-20"
       ]
      },
      {
       "output_type": "stream",
       "stream": "stdout",
       "text": [
        " 2014-12-21"
       ]
      },
      {
       "output_type": "stream",
       "stream": "stdout",
       "text": [
        " 2014-12-22"
       ]
      },
      {
       "output_type": "stream",
       "stream": "stdout",
       "text": [
        " 2014-12-23"
       ]
      },
      {
       "output_type": "stream",
       "stream": "stdout",
       "text": [
        " 2014-12-24"
       ]
      },
      {
       "output_type": "stream",
       "stream": "stdout",
       "text": [
        " 2014-12-25"
       ]
      },
      {
       "output_type": "stream",
       "stream": "stdout",
       "text": [
        " 2014-12-26"
       ]
      },
      {
       "output_type": "stream",
       "stream": "stdout",
       "text": [
        " 2014-12-27"
       ]
      },
      {
       "output_type": "stream",
       "stream": "stdout",
       "text": [
        " 2014-12-28"
       ]
      },
      {
       "output_type": "stream",
       "stream": "stdout",
       "text": [
        " 2014-12-29"
       ]
      },
      {
       "output_type": "stream",
       "stream": "stdout",
       "text": [
        " 2014-12-30"
       ]
      },
      {
       "output_type": "stream",
       "stream": "stdout",
       "text": [
        " 2014-12-31"
       ]
      },
      {
       "output_type": "stream",
       "stream": "stdout",
       "text": [
        " 2015-01-01"
       ]
      },
      {
       "output_type": "stream",
       "stream": "stdout",
       "text": [
        " 2015-01-02"
       ]
      },
      {
       "output_type": "stream",
       "stream": "stdout",
       "text": [
        " 2015-01-03"
       ]
      },
      {
       "output_type": "stream",
       "stream": "stdout",
       "text": [
        " 2015-01-04"
       ]
      },
      {
       "output_type": "stream",
       "stream": "stdout",
       "text": [
        " 2015-01-05"
       ]
      },
      {
       "output_type": "stream",
       "stream": "stdout",
       "text": [
        " 2015-01-06"
       ]
      },
      {
       "output_type": "stream",
       "stream": "stdout",
       "text": [
        " 2015-01-07"
       ]
      },
      {
       "output_type": "stream",
       "stream": "stdout",
       "text": [
        " 2015-01-08"
       ]
      },
      {
       "output_type": "stream",
       "stream": "stdout",
       "text": [
        " 2015-01-09"
       ]
      },
      {
       "output_type": "stream",
       "stream": "stdout",
       "text": [
        " 2015-01-10"
       ]
      },
      {
       "output_type": "stream",
       "stream": "stdout",
       "text": [
        " 2015-01-11"
       ]
      },
      {
       "output_type": "stream",
       "stream": "stdout",
       "text": [
        " 2015-01-12"
       ]
      },
      {
       "output_type": "stream",
       "stream": "stdout",
       "text": [
        " 2015-01-13"
       ]
      },
      {
       "output_type": "stream",
       "stream": "stdout",
       "text": [
        " 2015-01-14"
       ]
      },
      {
       "output_type": "stream",
       "stream": "stdout",
       "text": [
        " 2015-01-15"
       ]
      },
      {
       "output_type": "stream",
       "stream": "stdout",
       "text": [
        " 2015-01-16"
       ]
      },
      {
       "output_type": "stream",
       "stream": "stdout",
       "text": [
        " 2015-01-17"
       ]
      },
      {
       "output_type": "stream",
       "stream": "stdout",
       "text": [
        " 2015-01-18"
       ]
      },
      {
       "output_type": "stream",
       "stream": "stdout",
       "text": [
        " 2015-01-19"
       ]
      },
      {
       "output_type": "stream",
       "stream": "stdout",
       "text": [
        " 2015-01-20"
       ]
      },
      {
       "output_type": "stream",
       "stream": "stdout",
       "text": [
        " 2015-01-21"
       ]
      },
      {
       "output_type": "stream",
       "stream": "stdout",
       "text": [
        " 2015-01-22"
       ]
      },
      {
       "output_type": "stream",
       "stream": "stdout",
       "text": [
        " 2015-01-23"
       ]
      },
      {
       "output_type": "stream",
       "stream": "stdout",
       "text": [
        " 2015-01-24"
       ]
      },
      {
       "output_type": "stream",
       "stream": "stdout",
       "text": [
        " 2015-01-25"
       ]
      },
      {
       "output_type": "stream",
       "stream": "stdout",
       "text": [
        " 2015-01-26"
       ]
      },
      {
       "output_type": "stream",
       "stream": "stdout",
       "text": [
        " 2015-01-27"
       ]
      },
      {
       "output_type": "stream",
       "stream": "stdout",
       "text": [
        " 2015-01-28"
       ]
      },
      {
       "output_type": "stream",
       "stream": "stdout",
       "text": [
        " 2015-01-29"
       ]
      },
      {
       "output_type": "stream",
       "stream": "stdout",
       "text": [
        " 2015-01-30"
       ]
      },
      {
       "output_type": "stream",
       "stream": "stdout",
       "text": [
        " 2015-01-31"
       ]
      },
      {
       "output_type": "stream",
       "stream": "stdout",
       "text": [
        " 2015-02-01"
       ]
      },
      {
       "output_type": "stream",
       "stream": "stdout",
       "text": [
        " 2015-02-02"
       ]
      },
      {
       "output_type": "stream",
       "stream": "stdout",
       "text": [
        " 2015-02-03"
       ]
      },
      {
       "output_type": "stream",
       "stream": "stdout",
       "text": [
        " 2015-02-04"
       ]
      },
      {
       "output_type": "stream",
       "stream": "stdout",
       "text": [
        " 2015-02-05"
       ]
      },
      {
       "output_type": "stream",
       "stream": "stdout",
       "text": [
        " 2015-02-06"
       ]
      },
      {
       "output_type": "stream",
       "stream": "stdout",
       "text": [
        " 2015-02-07"
       ]
      },
      {
       "output_type": "stream",
       "stream": "stdout",
       "text": [
        " 2015-02-08"
       ]
      },
      {
       "output_type": "stream",
       "stream": "stdout",
       "text": [
        " 2015-02-09"
       ]
      },
      {
       "output_type": "stream",
       "stream": "stdout",
       "text": [
        " 2015-02-10"
       ]
      },
      {
       "output_type": "stream",
       "stream": "stdout",
       "text": [
        " 2015-02-11"
       ]
      },
      {
       "output_type": "stream",
       "stream": "stdout",
       "text": [
        " 2015-02-12"
       ]
      },
      {
       "output_type": "stream",
       "stream": "stdout",
       "text": [
        " 2015-02-13"
       ]
      },
      {
       "output_type": "stream",
       "stream": "stdout",
       "text": [
        " 2015-02-14"
       ]
      },
      {
       "output_type": "stream",
       "stream": "stdout",
       "text": [
        " 2015-02-15"
       ]
      },
      {
       "output_type": "stream",
       "stream": "stdout",
       "text": [
        " 2015-02-16"
       ]
      },
      {
       "output_type": "stream",
       "stream": "stdout",
       "text": [
        " 2015-02-17"
       ]
      },
      {
       "output_type": "stream",
       "stream": "stdout",
       "text": [
        " 2015-02-18"
       ]
      },
      {
       "output_type": "stream",
       "stream": "stdout",
       "text": [
        " 2015-02-19"
       ]
      },
      {
       "output_type": "stream",
       "stream": "stdout",
       "text": [
        " 2015-02-20"
       ]
      },
      {
       "output_type": "stream",
       "stream": "stdout",
       "text": [
        " 2015-02-21"
       ]
      },
      {
       "output_type": "stream",
       "stream": "stdout",
       "text": [
        " 2015-02-22"
       ]
      },
      {
       "output_type": "stream",
       "stream": "stdout",
       "text": [
        " 2015-02-23"
       ]
      },
      {
       "output_type": "stream",
       "stream": "stdout",
       "text": [
        " 2015-02-24"
       ]
      },
      {
       "output_type": "stream",
       "stream": "stdout",
       "text": [
        " 2015-02-25"
       ]
      },
      {
       "output_type": "stream",
       "stream": "stdout",
       "text": [
        " 2015-02-26"
       ]
      },
      {
       "output_type": "stream",
       "stream": "stdout",
       "text": [
        " 2015-02-27"
       ]
      },
      {
       "output_type": "stream",
       "stream": "stdout",
       "text": [
        " 2015-02-28"
       ]
      },
      {
       "output_type": "stream",
       "stream": "stdout",
       "text": [
        "\n"
       ]
      }
     ],
     "prompt_number": 12
    },
    {
     "cell_type": "code",
     "collapsed": false,
     "input": [
      "size_map = list()\n",
      "for sub in sub_month_counter_mp.keys():\n",
      "    total = 0 \n",
      "    for month in sub_month_counter_mp[sub].keys():\n",
      "        total += sum(sub_month_counter_mp[sub][month].values())\n",
      "    size_map.append((sub, total))\n",
      "size_map = sorted(size_map, key= operator.itemgetter(1))\n",
      "size_map.reverse()\n",
      "print size_map[:20]"
     ],
     "language": "python",
     "metadata": {},
     "outputs": [
      {
       "output_type": "stream",
       "stream": "stdout",
       "text": [
        "[('funny', 14442858), ('todayilearned', 13140062), ('pics', 11695569), ('AskReddit', 10498517), ('worldnews', 10201324), ('gaming', 9284943), ('news', 9273953), ('videos', 8175222), ('science', 7389275), ('aww', 7381643), ('gifs', 6791143), ('movies', 6740026), ('IAmA', 6599846), ('AdviceAnimals', 6282387), ('explainlikeimfive', 5594829), ('mildlyinteresting', 3612888), ('Music', 3589429), ('Showerthoughts', 3311977), ('television', 3233428), ('books', 3123889)]\n"
       ]
      }
     ],
     "prompt_number": 15
    },
    {
     "cell_type": "code",
     "collapsed": false,
     "input": [
      "import pickle\n",
      "pickle.dump(size_map[:20],open('pickle/sub_names.pck','w'))\n",
      "for pair in size_map[:20]:\n",
      "    sub = pair[0]\n",
      "    pickle.dump(sub_month_counter_mp[sub],open('pickle/' + sub + '_month_map.pck','w'))"
     ],
     "language": "python",
     "metadata": {},
     "outputs": [],
     "prompt_number": 16
    },
    {
     "cell_type": "code",
     "collapsed": false,
     "input": [],
     "language": "python",
     "metadata": {},
     "outputs": []
    }
   ],
   "metadata": {}
  }
 ]
}