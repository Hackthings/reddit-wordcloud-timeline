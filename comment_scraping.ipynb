{
 "metadata": {
  "name": "",
  "signature": "sha256:e167684e6157b5fde876b51a0b1ec185ee417a4458d718816c2a6fbfb9b0cf6c"
 },
 "nbformat": 3,
 "nbformat_minor": 0,
 "worksheets": [
  {
   "cells": [
    {
     "cell_type": "code",
     "collapsed": false,
     "input": [
      "# year to be processed\n",
      "year = 2014\n",
      "\n",
      "import datetime\n",
      "def datespan(startDate, endDate, delta=datetime.timedelta(days=1)):\n",
      "    currentDate = startDate\n",
      "    while currentDate <= endDate:\n",
      "        yield currentDate\n",
      "        currentDate += delta"
     ],
     "language": "python",
     "metadata": {},
     "outputs": []
    },
    {
     "cell_type": "code",
     "collapsed": false,
     "input": [
      "start_date = datetime.datetime(2014, 3, 1)\n",
      "end_date = datetime.datetime(2015, 3, 1)\n",
      "            \n",
      "date_span = list(datespan(start_date, end_date))"
     ],
     "language": "python",
     "metadata": {},
     "outputs": []
    },
    {
     "cell_type": "code",
     "collapsed": false,
     "input": [
      "import time\n",
      "from threading import Thread\n",
      "from comment_scraping import process_date\n",
      "import sys\n",
      "  \n",
      "  for i in range(1, 12):\n",
      "    def thread_func():\n",
      "        print 'thread ', i\n",
      "        sys.stdout.flush()\n",
      "        start_date = datetime.datetime(year, i, 1)\n",
      "        if i < 12:\n",
      "            end_date = datetime.datetime(year, i + 1, 1)\n",
      "        else:\n",
      "            end_date = datetime.datetime(year + 1, 1, 1)\n",
      "            \n",
      "        for date in list(datespan(start_date, end_date)):\n",
      "            process_date(date)\n",
      "\n",
      "    \n",
      "    t = Thread(target=thread_func, args=())\n",
      "    t.start()\n",
      "    "
     ],
     "language": "python",
     "metadata": {},
     "outputs": []
    },
    {
     "cell_type": "code",
     "collapsed": false,
     "input": [],
     "language": "python",
     "metadata": {},
     "outputs": []
    }
   ],
   "metadata": {}
  }
 ]
}