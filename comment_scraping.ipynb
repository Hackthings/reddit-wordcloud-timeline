{
 "metadata": {
  "name": "",
  "signature": "sha256:49058daf6421e388d396a7de253c1cc9dc5f8f3e70d86db6ddbfd28c15eb5093"
 },
 "nbformat": 3,
 "nbformat_minor": 0,
 "worksheets": [
  {
   "cells": [
    {
     "cell_type": "code",
     "collapsed": false,
     "input": [
      "import datetime\n",
      "def datespan(startDate, endDate, delta=datetime.timedelta(days=1)):\n",
      "    currentDate = startDate\n",
      "    while currentDate <= endDate:\n",
      "        yield currentDate\n",
      "        currentDate += delta"
     ],
     "language": "python",
     "metadata": {},
     "outputs": []
    },
    {
     "cell_type": "code",
     "collapsed": false,
     "input": [
      "start_date = datetime.datetime(2014, 3, 1)\n",
      "end_date = datetime.datetime(2015, 3, 1)\n",
      "            \n",
      "date_span = list(datespan(start_date, end_date))\n",
      "\n",
      "import time\n",
      "from threading import Thread\n",
      "from comment_scraping import process_date\n",
      "\n",
      "year = 2012\n",
      "\n",
      "import sys\n",
      "  "
     ],
     "language": "python",
     "metadata": {},
     "outputs": []
    },
    {
     "cell_type": "code",
     "collapsed": false,
     "input": [
      "  for i in range(1, 12):\n",
      "    def thread_func():\n",
      "        print 'thread ', i\n",
      "        sys.stdout.flush()\n",
      "        start_date = datetime.datetime(year, i, 1)\n",
      "        if i < 12:\n",
      "            end_date = datetime.datetime(year, i + 1, 1)\n",
      "        else:\n",
      "            end_date = datetime.datetime(year + 1, 1, 1)\n",
      "            \n",
      "        for date in list(datespan(start_date, end_date)):\n",
      "            process_date(date)\n",
      "\n",
      "    \n",
      "    t = Thread(target=thread_func, args=())\n",
      "    t.start()\n",
      "    "
     ],
     "language": "python",
     "metadata": {},
     "outputs": [
      {
       "output_type": "stream",
       "stream": "stdout",
       "text": [
        "thread  1\n",
        "2012-01-01\n",
        "thread  2\n",
        "2012-02-01\n",
        "thread  3\n",
        "2012-03-01\n",
        "thread  4\n",
        "2012-06-01\n",
        "thread  6\n",
        "2012-06-01\n",
        "thread  6\n",
        "2012-06-01\n",
        "thread  7\n",
        "2012-07-01\n",
        "thread  8\n",
        "2012-08-01\n",
        "thread  9\n",
        "2012-10-01\n",
        "thread  10\n",
        "2012-10-01\n",
        "thread  11\n",
        "2012-11-01\n"
       ]
      },
      {
       "output_type": "stream",
       "stream": "stdout",
       "text": [
        "2012-01-02\n"
       ]
      }
     ],
     "prompt_number": 3
    },
    {
     "cell_type": "code",
     "collapsed": false,
     "input": [],
     "language": "python",
     "metadata": {},
     "outputs": []
    }
   ],
   "metadata": {}
  }
 ]
}