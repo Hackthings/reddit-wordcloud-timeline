{
 "metadata": {
  "name": "",
  "signature": "sha256:01010a4832da9a543be60c38ee467dc812e833e8081755cbcc6d0869a9b1812b"
 },
 "nbformat": 3,
 "nbformat_minor": 0,
 "worksheets": [
  {
   "cells": [
    {
     "cell_type": "code",
     "collapsed": false,
     "input": [
      "import pickle\n",
      "import PIL\n",
      "from PIL import ImageFont\n",
      "from PIL import Image\n",
      "from PIL import ImageDraw\n",
      "import numpy as np\n",
      "import pyximport\n",
      "pyximport.install()\n",
      "import sys\n",
      "from wordcloud.wordcloud_mod import WordCloud\n",
      "import numpy as np\n",
      "import math\n",
      "from matplotlib.dates import datestr2num\n",
      "import matplotlib.pyplot as plt\n",
      "from datetime import datetime, timedelta\n",
      "from datetime import date as dt\n",
      "import sys\n",
      "from collections import defaultdict, Counter\n",
      "import operator\n",
      "from IPython.display import Image as ipImage\n",
      "from matplotlib.pyplot import imshow\n"
     ],
     "language": "python",
     "metadata": {},
     "outputs": [],
     "prompt_number": 120
    },
    {
     "cell_type": "code",
     "collapsed": false,
     "input": [
      "def datespan(startDate, endDate, delta=timedelta(days=1)):\n",
      "    currentDate = startDate\n",
      "    while currentDate < endDate:\n",
      "        yield currentDate\n",
      "        currentDate += delta\n",
      "\n",
      "start_date = dt(2014,1,1)\n",
      "end_date = dt(2015, 3, 1)\n",
      "            \n",
      "date_span = list(datespan(start_date, end_date))"
     ],
     "language": "python",
     "metadata": {},
     "outputs": [],
     "prompt_number": 121
    },
    {
     "cell_type": "code",
     "collapsed": false,
     "input": [
      "def counter_map():\n",
      "    return defaultdict(Counter)\n",
      "\n",
      "def split_into_sub_month(date_range):\n",
      "    print 'aggregating date range into months'\n",
      "    month_out = defaultdict(counter_map)\n",
      "    for date in date_range:\n",
      "        print date, \n",
      "        month = date.strftime('%B-%Y')\n",
      "        \n",
      "        date_string = datetime.strftime(date,'%Y-%m-%d')\n",
      "        map_counter = pickle.load(open('pickle/counters/' + date_string + '.pck','r'))\n",
      "        \n",
      "        for sub in map_counter:\n",
      "            month_out[sub][month].update(map_counter[sub])  \n",
      "            \n",
      "    return month_out\n",
      "split_sub_month  = split_into_sub_month(date_span)"
     ],
     "language": "python",
     "metadata": {},
     "outputs": [
      {
       "output_type": "stream",
       "stream": "stdout",
       "text": [
        "aggregating date range into months and weekdays\n",
        "2014-01-01 "
       ]
      },
      {
       "output_type": "stream",
       "stream": "stdout",
       "text": [
        "2014-01-02 "
       ]
      },
      {
       "output_type": "stream",
       "stream": "stdout",
       "text": [
        "2014-01-03 "
       ]
      },
      {
       "output_type": "stream",
       "stream": "stdout",
       "text": [
        "2014-01-04 "
       ]
      },
      {
       "output_type": "stream",
       "stream": "stdout",
       "text": [
        "2014-01-05 "
       ]
      },
      {
       "output_type": "stream",
       "stream": "stdout",
       "text": [
        "2014-01-06 "
       ]
      },
      {
       "output_type": "stream",
       "stream": "stdout",
       "text": [
        "2014-01-07 "
       ]
      },
      {
       "output_type": "stream",
       "stream": "stdout",
       "text": [
        "2014-01-08 "
       ]
      },
      {
       "output_type": "stream",
       "stream": "stdout",
       "text": [
        "2014-01-09 "
       ]
      },
      {
       "output_type": "stream",
       "stream": "stdout",
       "text": [
        "2014-01-10 "
       ]
      },
      {
       "output_type": "stream",
       "stream": "stdout",
       "text": [
        "2014-01-11 "
       ]
      },
      {
       "output_type": "stream",
       "stream": "stdout",
       "text": [
        "2014-01-12 "
       ]
      },
      {
       "output_type": "stream",
       "stream": "stdout",
       "text": [
        "2014-01-13 "
       ]
      },
      {
       "output_type": "stream",
       "stream": "stdout",
       "text": [
        "2014-01-14 "
       ]
      },
      {
       "output_type": "stream",
       "stream": "stdout",
       "text": [
        "2014-01-15 "
       ]
      },
      {
       "output_type": "stream",
       "stream": "stdout",
       "text": [
        "2014-01-16 "
       ]
      },
      {
       "output_type": "stream",
       "stream": "stdout",
       "text": [
        "2014-01-17 "
       ]
      },
      {
       "output_type": "stream",
       "stream": "stdout",
       "text": [
        "2014-01-18 "
       ]
      },
      {
       "output_type": "stream",
       "stream": "stdout",
       "text": [
        "2014-01-19 "
       ]
      },
      {
       "output_type": "stream",
       "stream": "stdout",
       "text": [
        "2014-01-20 "
       ]
      },
      {
       "output_type": "stream",
       "stream": "stdout",
       "text": [
        "2014-01-21 "
       ]
      },
      {
       "output_type": "stream",
       "stream": "stdout",
       "text": [
        "2014-01-22 "
       ]
      },
      {
       "output_type": "stream",
       "stream": "stdout",
       "text": [
        "2014-01-23 "
       ]
      },
      {
       "output_type": "stream",
       "stream": "stdout",
       "text": [
        "2014-01-24 "
       ]
      },
      {
       "output_type": "stream",
       "stream": "stdout",
       "text": [
        "2014-01-25 "
       ]
      },
      {
       "output_type": "stream",
       "stream": "stdout",
       "text": [
        "2014-01-26 "
       ]
      },
      {
       "output_type": "stream",
       "stream": "stdout",
       "text": [
        "2014-01-27 "
       ]
      },
      {
       "output_type": "stream",
       "stream": "stdout",
       "text": [
        "2014-01-28 "
       ]
      },
      {
       "output_type": "stream",
       "stream": "stdout",
       "text": [
        "2014-01-29 "
       ]
      },
      {
       "output_type": "stream",
       "stream": "stdout",
       "text": [
        "2014-01-30 "
       ]
      },
      {
       "output_type": "stream",
       "stream": "stdout",
       "text": [
        "2014-01-31 "
       ]
      },
      {
       "output_type": "stream",
       "stream": "stdout",
       "text": [
        "2014-02-01 "
       ]
      },
      {
       "output_type": "stream",
       "stream": "stdout",
       "text": [
        "2014-02-02 "
       ]
      },
      {
       "output_type": "stream",
       "stream": "stdout",
       "text": [
        "2014-02-03 "
       ]
      },
      {
       "output_type": "stream",
       "stream": "stdout",
       "text": [
        "2014-02-04 "
       ]
      },
      {
       "output_type": "stream",
       "stream": "stdout",
       "text": [
        "2014-02-05 "
       ]
      },
      {
       "output_type": "stream",
       "stream": "stdout",
       "text": [
        "2014-02-06 "
       ]
      },
      {
       "output_type": "stream",
       "stream": "stdout",
       "text": [
        "2014-02-07 "
       ]
      },
      {
       "output_type": "stream",
       "stream": "stdout",
       "text": [
        "2014-02-08 "
       ]
      },
      {
       "output_type": "stream",
       "stream": "stdout",
       "text": [
        "2014-02-09 "
       ]
      },
      {
       "output_type": "stream",
       "stream": "stdout",
       "text": [
        "2014-02-10 "
       ]
      },
      {
       "output_type": "stream",
       "stream": "stdout",
       "text": [
        "2014-02-11 "
       ]
      },
      {
       "output_type": "stream",
       "stream": "stdout",
       "text": [
        "2014-02-12 "
       ]
      },
      {
       "output_type": "stream",
       "stream": "stdout",
       "text": [
        "2014-02-13 "
       ]
      },
      {
       "output_type": "stream",
       "stream": "stdout",
       "text": [
        "2014-02-14 "
       ]
      },
      {
       "output_type": "stream",
       "stream": "stdout",
       "text": [
        "2014-02-15 "
       ]
      },
      {
       "output_type": "stream",
       "stream": "stdout",
       "text": [
        "2014-02-16 "
       ]
      },
      {
       "output_type": "stream",
       "stream": "stdout",
       "text": [
        "2014-02-17 "
       ]
      },
      {
       "output_type": "stream",
       "stream": "stdout",
       "text": [
        "2014-02-18 "
       ]
      },
      {
       "output_type": "stream",
       "stream": "stdout",
       "text": [
        "2014-02-19 "
       ]
      },
      {
       "output_type": "stream",
       "stream": "stdout",
       "text": [
        "2014-02-20 "
       ]
      },
      {
       "output_type": "stream",
       "stream": "stdout",
       "text": [
        "2014-02-21 "
       ]
      },
      {
       "output_type": "stream",
       "stream": "stdout",
       "text": [
        "2014-02-22 "
       ]
      },
      {
       "output_type": "stream",
       "stream": "stdout",
       "text": [
        "2014-02-23 "
       ]
      },
      {
       "output_type": "stream",
       "stream": "stdout",
       "text": [
        "2014-02-24 "
       ]
      },
      {
       "output_type": "stream",
       "stream": "stdout",
       "text": [
        "2014-02-25 "
       ]
      },
      {
       "output_type": "stream",
       "stream": "stdout",
       "text": [
        "2014-02-26 "
       ]
      },
      {
       "output_type": "stream",
       "stream": "stdout",
       "text": [
        "2014-02-27 "
       ]
      },
      {
       "output_type": "stream",
       "stream": "stdout",
       "text": [
        "2014-02-28 "
       ]
      },
      {
       "output_type": "stream",
       "stream": "stdout",
       "text": [
        "2014-03-01 "
       ]
      },
      {
       "output_type": "stream",
       "stream": "stdout",
       "text": [
        "2014-03-02 "
       ]
      },
      {
       "output_type": "stream",
       "stream": "stdout",
       "text": [
        "2014-03-03 "
       ]
      },
      {
       "output_type": "stream",
       "stream": "stdout",
       "text": [
        "2014-03-04 "
       ]
      },
      {
       "output_type": "stream",
       "stream": "stdout",
       "text": [
        "2014-03-05 "
       ]
      },
      {
       "output_type": "stream",
       "stream": "stdout",
       "text": [
        "2014-03-06 "
       ]
      },
      {
       "output_type": "stream",
       "stream": "stdout",
       "text": [
        "2014-03-07 "
       ]
      },
      {
       "output_type": "stream",
       "stream": "stdout",
       "text": [
        "2014-03-08 "
       ]
      },
      {
       "output_type": "stream",
       "stream": "stdout",
       "text": [
        "2014-03-09 "
       ]
      },
      {
       "output_type": "stream",
       "stream": "stdout",
       "text": [
        "2014-03-10 "
       ]
      },
      {
       "output_type": "stream",
       "stream": "stdout",
       "text": [
        "2014-03-11 "
       ]
      },
      {
       "output_type": "stream",
       "stream": "stdout",
       "text": [
        "2014-03-12 "
       ]
      },
      {
       "output_type": "stream",
       "stream": "stdout",
       "text": [
        "2014-03-13 "
       ]
      },
      {
       "output_type": "stream",
       "stream": "stdout",
       "text": [
        "2014-03-14 "
       ]
      },
      {
       "output_type": "stream",
       "stream": "stdout",
       "text": [
        "2014-03-15 "
       ]
      },
      {
       "output_type": "stream",
       "stream": "stdout",
       "text": [
        "2014-03-16 "
       ]
      },
      {
       "output_type": "stream",
       "stream": "stdout",
       "text": [
        "2014-03-17 "
       ]
      },
      {
       "output_type": "stream",
       "stream": "stdout",
       "text": [
        "2014-03-18 "
       ]
      },
      {
       "output_type": "stream",
       "stream": "stdout",
       "text": [
        "2014-03-19 "
       ]
      },
      {
       "output_type": "stream",
       "stream": "stdout",
       "text": [
        "2014-03-20 "
       ]
      },
      {
       "output_type": "stream",
       "stream": "stdout",
       "text": [
        "2014-03-21 "
       ]
      },
      {
       "output_type": "stream",
       "stream": "stdout",
       "text": [
        "2014-03-22 "
       ]
      },
      {
       "output_type": "stream",
       "stream": "stdout",
       "text": [
        "2014-03-23 "
       ]
      },
      {
       "output_type": "stream",
       "stream": "stdout",
       "text": [
        "2014-03-24 "
       ]
      },
      {
       "output_type": "stream",
       "stream": "stdout",
       "text": [
        "2014-03-25 "
       ]
      },
      {
       "output_type": "stream",
       "stream": "stdout",
       "text": [
        "2014-03-26 "
       ]
      },
      {
       "output_type": "stream",
       "stream": "stdout",
       "text": [
        "2014-03-27 "
       ]
      },
      {
       "output_type": "stream",
       "stream": "stdout",
       "text": [
        "2014-03-28 "
       ]
      },
      {
       "output_type": "stream",
       "stream": "stdout",
       "text": [
        "2014-03-29 "
       ]
      },
      {
       "output_type": "stream",
       "stream": "stdout",
       "text": [
        "2014-03-30 "
       ]
      },
      {
       "output_type": "stream",
       "stream": "stdout",
       "text": [
        "2014-03-31 "
       ]
      },
      {
       "output_type": "stream",
       "stream": "stdout",
       "text": [
        "2014-04-01 "
       ]
      },
      {
       "output_type": "stream",
       "stream": "stdout",
       "text": [
        "2014-04-02 "
       ]
      },
      {
       "output_type": "stream",
       "stream": "stdout",
       "text": [
        "2014-04-03 "
       ]
      },
      {
       "output_type": "stream",
       "stream": "stdout",
       "text": [
        "2014-04-04 "
       ]
      },
      {
       "output_type": "stream",
       "stream": "stdout",
       "text": [
        "2014-04-05 "
       ]
      },
      {
       "output_type": "stream",
       "stream": "stdout",
       "text": [
        "2014-04-06 "
       ]
      },
      {
       "output_type": "stream",
       "stream": "stdout",
       "text": [
        "2014-04-07 "
       ]
      },
      {
       "output_type": "stream",
       "stream": "stdout",
       "text": [
        "2014-04-08 "
       ]
      },
      {
       "output_type": "stream",
       "stream": "stdout",
       "text": [
        "2014-04-09 "
       ]
      },
      {
       "output_type": "stream",
       "stream": "stdout",
       "text": [
        "2014-04-10 "
       ]
      },
      {
       "output_type": "stream",
       "stream": "stdout",
       "text": [
        "2014-04-11 "
       ]
      },
      {
       "output_type": "stream",
       "stream": "stdout",
       "text": [
        "2014-04-12 "
       ]
      },
      {
       "output_type": "stream",
       "stream": "stdout",
       "text": [
        "2014-04-13 "
       ]
      },
      {
       "output_type": "stream",
       "stream": "stdout",
       "text": [
        "2014-04-14 "
       ]
      },
      {
       "output_type": "stream",
       "stream": "stdout",
       "text": [
        "2014-04-15 "
       ]
      },
      {
       "output_type": "stream",
       "stream": "stdout",
       "text": [
        "2014-04-16 "
       ]
      },
      {
       "output_type": "stream",
       "stream": "stdout",
       "text": [
        "2014-04-17 "
       ]
      },
      {
       "output_type": "stream",
       "stream": "stdout",
       "text": [
        "2014-04-18 "
       ]
      },
      {
       "output_type": "stream",
       "stream": "stdout",
       "text": [
        "2014-04-19 "
       ]
      },
      {
       "output_type": "stream",
       "stream": "stdout",
       "text": [
        "2014-04-20 "
       ]
      },
      {
       "output_type": "stream",
       "stream": "stdout",
       "text": [
        "2014-04-21 "
       ]
      },
      {
       "output_type": "stream",
       "stream": "stdout",
       "text": [
        "2014-04-22 "
       ]
      },
      {
       "output_type": "stream",
       "stream": "stdout",
       "text": [
        "2014-04-23 "
       ]
      },
      {
       "output_type": "stream",
       "stream": "stdout",
       "text": [
        "2014-04-24 "
       ]
      },
      {
       "output_type": "stream",
       "stream": "stdout",
       "text": [
        "2014-04-25 "
       ]
      },
      {
       "output_type": "stream",
       "stream": "stdout",
       "text": [
        "2014-04-26 "
       ]
      },
      {
       "output_type": "stream",
       "stream": "stdout",
       "text": [
        "2014-04-27 "
       ]
      },
      {
       "output_type": "stream",
       "stream": "stdout",
       "text": [
        "2014-04-28 "
       ]
      },
      {
       "output_type": "stream",
       "stream": "stdout",
       "text": [
        "2014-04-29 "
       ]
      },
      {
       "output_type": "stream",
       "stream": "stdout",
       "text": [
        "2014-04-30 "
       ]
      },
      {
       "output_type": "stream",
       "stream": "stdout",
       "text": [
        "2014-05-01 "
       ]
      },
      {
       "output_type": "stream",
       "stream": "stdout",
       "text": [
        "2014-05-02 "
       ]
      },
      {
       "output_type": "stream",
       "stream": "stdout",
       "text": [
        "2014-05-03 "
       ]
      },
      {
       "output_type": "stream",
       "stream": "stdout",
       "text": [
        "2014-05-04 "
       ]
      },
      {
       "output_type": "stream",
       "stream": "stdout",
       "text": [
        "2014-05-05 "
       ]
      },
      {
       "output_type": "stream",
       "stream": "stdout",
       "text": [
        "2014-05-06 "
       ]
      },
      {
       "output_type": "stream",
       "stream": "stdout",
       "text": [
        "2014-05-07 "
       ]
      },
      {
       "output_type": "stream",
       "stream": "stdout",
       "text": [
        "2014-05-08 "
       ]
      },
      {
       "output_type": "stream",
       "stream": "stdout",
       "text": [
        "2014-05-09 "
       ]
      },
      {
       "output_type": "stream",
       "stream": "stdout",
       "text": [
        "2014-05-10 "
       ]
      },
      {
       "output_type": "stream",
       "stream": "stdout",
       "text": [
        "2014-05-11 "
       ]
      },
      {
       "output_type": "stream",
       "stream": "stdout",
       "text": [
        "2014-05-12 "
       ]
      },
      {
       "output_type": "stream",
       "stream": "stdout",
       "text": [
        "2014-05-13 "
       ]
      },
      {
       "output_type": "stream",
       "stream": "stdout",
       "text": [
        "2014-05-14 "
       ]
      },
      {
       "output_type": "stream",
       "stream": "stdout",
       "text": [
        "2014-05-15 "
       ]
      },
      {
       "output_type": "stream",
       "stream": "stdout",
       "text": [
        "2014-05-16 "
       ]
      },
      {
       "output_type": "stream",
       "stream": "stdout",
       "text": [
        "2014-05-17 "
       ]
      },
      {
       "output_type": "stream",
       "stream": "stdout",
       "text": [
        "2014-05-18 "
       ]
      },
      {
       "output_type": "stream",
       "stream": "stdout",
       "text": [
        "2014-05-19 "
       ]
      },
      {
       "output_type": "stream",
       "stream": "stdout",
       "text": [
        "2014-05-20 "
       ]
      },
      {
       "output_type": "stream",
       "stream": "stdout",
       "text": [
        "2014-05-21 "
       ]
      },
      {
       "output_type": "stream",
       "stream": "stdout",
       "text": [
        "2014-05-22 "
       ]
      },
      {
       "output_type": "stream",
       "stream": "stdout",
       "text": [
        "2014-05-23 "
       ]
      },
      {
       "output_type": "stream",
       "stream": "stdout",
       "text": [
        "2014-05-24 "
       ]
      },
      {
       "output_type": "stream",
       "stream": "stdout",
       "text": [
        "2014-05-25 "
       ]
      },
      {
       "output_type": "stream",
       "stream": "stdout",
       "text": [
        "2014-05-26 "
       ]
      },
      {
       "output_type": "stream",
       "stream": "stdout",
       "text": [
        "2014-05-27 "
       ]
      },
      {
       "output_type": "stream",
       "stream": "stdout",
       "text": [
        "2014-05-28 "
       ]
      },
      {
       "output_type": "stream",
       "stream": "stdout",
       "text": [
        "2014-05-29 "
       ]
      },
      {
       "output_type": "stream",
       "stream": "stdout",
       "text": [
        "2014-05-30 "
       ]
      },
      {
       "output_type": "stream",
       "stream": "stdout",
       "text": [
        "2014-05-31 "
       ]
      },
      {
       "output_type": "stream",
       "stream": "stdout",
       "text": [
        "2014-06-01 "
       ]
      },
      {
       "output_type": "stream",
       "stream": "stdout",
       "text": [
        "2014-06-02 "
       ]
      },
      {
       "output_type": "stream",
       "stream": "stdout",
       "text": [
        "2014-06-03 "
       ]
      },
      {
       "output_type": "stream",
       "stream": "stdout",
       "text": [
        "2014-06-04 "
       ]
      },
      {
       "output_type": "stream",
       "stream": "stdout",
       "text": [
        "2014-06-05 "
       ]
      },
      {
       "output_type": "stream",
       "stream": "stdout",
       "text": [
        "2014-06-06 "
       ]
      },
      {
       "output_type": "stream",
       "stream": "stdout",
       "text": [
        "2014-06-07 "
       ]
      },
      {
       "output_type": "stream",
       "stream": "stdout",
       "text": [
        "2014-06-08 "
       ]
      },
      {
       "output_type": "stream",
       "stream": "stdout",
       "text": [
        "2014-06-09 "
       ]
      },
      {
       "output_type": "stream",
       "stream": "stdout",
       "text": [
        "2014-06-10 "
       ]
      },
      {
       "output_type": "stream",
       "stream": "stdout",
       "text": [
        "2014-06-11 "
       ]
      },
      {
       "output_type": "stream",
       "stream": "stdout",
       "text": [
        "2014-06-12 "
       ]
      },
      {
       "output_type": "stream",
       "stream": "stdout",
       "text": [
        "2014-06-13 "
       ]
      },
      {
       "output_type": "stream",
       "stream": "stdout",
       "text": [
        "2014-06-14 "
       ]
      },
      {
       "output_type": "stream",
       "stream": "stdout",
       "text": [
        "2014-06-15 "
       ]
      },
      {
       "output_type": "stream",
       "stream": "stdout",
       "text": [
        "2014-06-16 "
       ]
      },
      {
       "output_type": "stream",
       "stream": "stdout",
       "text": [
        "2014-06-17 "
       ]
      },
      {
       "output_type": "stream",
       "stream": "stdout",
       "text": [
        "2014-06-18 "
       ]
      },
      {
       "output_type": "stream",
       "stream": "stdout",
       "text": [
        "2014-06-19 "
       ]
      },
      {
       "output_type": "stream",
       "stream": "stdout",
       "text": [
        "2014-06-20 "
       ]
      },
      {
       "output_type": "stream",
       "stream": "stdout",
       "text": [
        "2014-06-21 "
       ]
      },
      {
       "output_type": "stream",
       "stream": "stdout",
       "text": [
        "2014-06-22 "
       ]
      },
      {
       "output_type": "stream",
       "stream": "stdout",
       "text": [
        "2014-06-23 "
       ]
      },
      {
       "output_type": "stream",
       "stream": "stdout",
       "text": [
        "2014-06-24 "
       ]
      },
      {
       "output_type": "stream",
       "stream": "stdout",
       "text": [
        "2014-06-25 "
       ]
      },
      {
       "output_type": "stream",
       "stream": "stdout",
       "text": [
        "2014-06-26 "
       ]
      },
      {
       "output_type": "stream",
       "stream": "stdout",
       "text": [
        "2014-06-27 "
       ]
      },
      {
       "output_type": "stream",
       "stream": "stdout",
       "text": [
        "2014-06-28 "
       ]
      },
      {
       "output_type": "stream",
       "stream": "stdout",
       "text": [
        "2014-06-29 "
       ]
      },
      {
       "output_type": "stream",
       "stream": "stdout",
       "text": [
        "2014-06-30 "
       ]
      },
      {
       "output_type": "stream",
       "stream": "stdout",
       "text": [
        "2014-07-01 "
       ]
      },
      {
       "output_type": "stream",
       "stream": "stdout",
       "text": [
        "2014-07-02 "
       ]
      },
      {
       "output_type": "stream",
       "stream": "stdout",
       "text": [
        "2014-07-03 "
       ]
      },
      {
       "output_type": "stream",
       "stream": "stdout",
       "text": [
        "2014-07-04 "
       ]
      },
      {
       "output_type": "stream",
       "stream": "stdout",
       "text": [
        "2014-07-05 "
       ]
      },
      {
       "output_type": "stream",
       "stream": "stdout",
       "text": [
        "2014-07-06 "
       ]
      },
      {
       "output_type": "stream",
       "stream": "stdout",
       "text": [
        "2014-07-07 "
       ]
      },
      {
       "output_type": "stream",
       "stream": "stdout",
       "text": [
        "2014-07-08 "
       ]
      },
      {
       "output_type": "stream",
       "stream": "stdout",
       "text": [
        "2014-07-09 "
       ]
      },
      {
       "output_type": "stream",
       "stream": "stdout",
       "text": [
        "2014-07-10 "
       ]
      },
      {
       "output_type": "stream",
       "stream": "stdout",
       "text": [
        "2014-07-11 "
       ]
      },
      {
       "output_type": "stream",
       "stream": "stdout",
       "text": [
        "2014-07-12 "
       ]
      },
      {
       "output_type": "stream",
       "stream": "stdout",
       "text": [
        "2014-07-13 "
       ]
      },
      {
       "output_type": "stream",
       "stream": "stdout",
       "text": [
        "2014-07-14 "
       ]
      },
      {
       "output_type": "stream",
       "stream": "stdout",
       "text": [
        "2014-07-15 "
       ]
      },
      {
       "output_type": "stream",
       "stream": "stdout",
       "text": [
        "2014-07-16 "
       ]
      },
      {
       "output_type": "stream",
       "stream": "stdout",
       "text": [
        "2014-07-17 "
       ]
      },
      {
       "output_type": "stream",
       "stream": "stdout",
       "text": [
        "2014-07-18 "
       ]
      },
      {
       "output_type": "stream",
       "stream": "stdout",
       "text": [
        "2014-07-19 "
       ]
      },
      {
       "output_type": "stream",
       "stream": "stdout",
       "text": [
        "2014-07-20 "
       ]
      },
      {
       "output_type": "stream",
       "stream": "stdout",
       "text": [
        "2014-07-21 "
       ]
      },
      {
       "output_type": "stream",
       "stream": "stdout",
       "text": [
        "2014-07-22 "
       ]
      },
      {
       "output_type": "stream",
       "stream": "stdout",
       "text": [
        "2014-07-23 "
       ]
      },
      {
       "output_type": "stream",
       "stream": "stdout",
       "text": [
        "2014-07-24 "
       ]
      },
      {
       "output_type": "stream",
       "stream": "stdout",
       "text": [
        "2014-07-25 "
       ]
      },
      {
       "output_type": "stream",
       "stream": "stdout",
       "text": [
        "2014-07-26 "
       ]
      },
      {
       "output_type": "stream",
       "stream": "stdout",
       "text": [
        "2014-07-27 "
       ]
      },
      {
       "output_type": "stream",
       "stream": "stdout",
       "text": [
        "2014-07-28 "
       ]
      },
      {
       "output_type": "stream",
       "stream": "stdout",
       "text": [
        "2014-07-29 "
       ]
      },
      {
       "output_type": "stream",
       "stream": "stdout",
       "text": [
        "2014-07-30 "
       ]
      },
      {
       "output_type": "stream",
       "stream": "stdout",
       "text": [
        "2014-07-31 "
       ]
      },
      {
       "output_type": "stream",
       "stream": "stdout",
       "text": [
        "2014-08-01 "
       ]
      },
      {
       "output_type": "stream",
       "stream": "stdout",
       "text": [
        "2014-08-02 "
       ]
      },
      {
       "output_type": "stream",
       "stream": "stdout",
       "text": [
        "2014-08-03 "
       ]
      },
      {
       "output_type": "stream",
       "stream": "stdout",
       "text": [
        "2014-08-04 "
       ]
      },
      {
       "output_type": "stream",
       "stream": "stdout",
       "text": [
        "2014-08-05 "
       ]
      },
      {
       "output_type": "stream",
       "stream": "stdout",
       "text": [
        "2014-08-06 "
       ]
      },
      {
       "output_type": "stream",
       "stream": "stdout",
       "text": [
        "2014-08-07 "
       ]
      },
      {
       "output_type": "stream",
       "stream": "stdout",
       "text": [
        "2014-08-08 "
       ]
      },
      {
       "output_type": "stream",
       "stream": "stdout",
       "text": [
        "2014-08-09 "
       ]
      },
      {
       "output_type": "stream",
       "stream": "stdout",
       "text": [
        "2014-08-10 "
       ]
      },
      {
       "output_type": "stream",
       "stream": "stdout",
       "text": [
        "2014-08-11 "
       ]
      },
      {
       "output_type": "stream",
       "stream": "stdout",
       "text": [
        "2014-08-12 "
       ]
      },
      {
       "output_type": "stream",
       "stream": "stdout",
       "text": [
        "2014-08-13 "
       ]
      },
      {
       "output_type": "stream",
       "stream": "stdout",
       "text": [
        "2014-08-14 "
       ]
      },
      {
       "output_type": "stream",
       "stream": "stdout",
       "text": [
        "2014-08-15 "
       ]
      },
      {
       "output_type": "stream",
       "stream": "stdout",
       "text": [
        "2014-08-16 "
       ]
      },
      {
       "output_type": "stream",
       "stream": "stdout",
       "text": [
        "2014-08-17 "
       ]
      },
      {
       "output_type": "stream",
       "stream": "stdout",
       "text": [
        "2014-08-18 "
       ]
      },
      {
       "output_type": "stream",
       "stream": "stdout",
       "text": [
        "2014-08-19 "
       ]
      },
      {
       "output_type": "stream",
       "stream": "stdout",
       "text": [
        "2014-08-20 "
       ]
      },
      {
       "output_type": "stream",
       "stream": "stdout",
       "text": [
        "2014-08-21 "
       ]
      },
      {
       "output_type": "stream",
       "stream": "stdout",
       "text": [
        "2014-08-22 "
       ]
      },
      {
       "output_type": "stream",
       "stream": "stdout",
       "text": [
        "2014-08-23 "
       ]
      },
      {
       "output_type": "stream",
       "stream": "stdout",
       "text": [
        "2014-08-24 "
       ]
      },
      {
       "output_type": "stream",
       "stream": "stdout",
       "text": [
        "2014-08-25 "
       ]
      },
      {
       "output_type": "stream",
       "stream": "stdout",
       "text": [
        "2014-08-26 "
       ]
      },
      {
       "output_type": "stream",
       "stream": "stdout",
       "text": [
        "2014-08-27 "
       ]
      },
      {
       "output_type": "stream",
       "stream": "stdout",
       "text": [
        "2014-08-28 "
       ]
      },
      {
       "output_type": "stream",
       "stream": "stdout",
       "text": [
        "2014-08-29 "
       ]
      },
      {
       "output_type": "stream",
       "stream": "stdout",
       "text": [
        "2014-08-30 "
       ]
      },
      {
       "output_type": "stream",
       "stream": "stdout",
       "text": [
        "2014-08-31 "
       ]
      },
      {
       "output_type": "stream",
       "stream": "stdout",
       "text": [
        "2014-09-01 "
       ]
      },
      {
       "output_type": "stream",
       "stream": "stdout",
       "text": [
        "2014-09-02 "
       ]
      },
      {
       "output_type": "stream",
       "stream": "stdout",
       "text": [
        "2014-09-03 "
       ]
      },
      {
       "output_type": "stream",
       "stream": "stdout",
       "text": [
        "2014-09-04 "
       ]
      },
      {
       "output_type": "stream",
       "stream": "stdout",
       "text": [
        "2014-09-05 "
       ]
      },
      {
       "output_type": "stream",
       "stream": "stdout",
       "text": [
        "2014-09-06 "
       ]
      },
      {
       "output_type": "stream",
       "stream": "stdout",
       "text": [
        "2014-09-07 "
       ]
      },
      {
       "output_type": "stream",
       "stream": "stdout",
       "text": [
        "2014-09-08 "
       ]
      },
      {
       "output_type": "stream",
       "stream": "stdout",
       "text": [
        "2014-09-09 "
       ]
      },
      {
       "output_type": "stream",
       "stream": "stdout",
       "text": [
        "2014-09-10 "
       ]
      },
      {
       "output_type": "stream",
       "stream": "stdout",
       "text": [
        "2014-09-11 "
       ]
      },
      {
       "output_type": "stream",
       "stream": "stdout",
       "text": [
        "2014-09-12 "
       ]
      },
      {
       "output_type": "stream",
       "stream": "stdout",
       "text": [
        "2014-09-13 "
       ]
      },
      {
       "output_type": "stream",
       "stream": "stdout",
       "text": [
        "2014-09-14 "
       ]
      },
      {
       "output_type": "stream",
       "stream": "stdout",
       "text": [
        "2014-09-15 "
       ]
      },
      {
       "output_type": "stream",
       "stream": "stdout",
       "text": [
        "2014-09-16 "
       ]
      },
      {
       "output_type": "stream",
       "stream": "stdout",
       "text": [
        "2014-09-17 "
       ]
      },
      {
       "output_type": "stream",
       "stream": "stdout",
       "text": [
        "2014-09-18 "
       ]
      },
      {
       "output_type": "stream",
       "stream": "stdout",
       "text": [
        "2014-09-19 "
       ]
      },
      {
       "output_type": "stream",
       "stream": "stdout",
       "text": [
        "2014-09-20 "
       ]
      },
      {
       "output_type": "stream",
       "stream": "stdout",
       "text": [
        "2014-09-21 "
       ]
      },
      {
       "output_type": "stream",
       "stream": "stdout",
       "text": [
        "2014-09-22 "
       ]
      },
      {
       "output_type": "stream",
       "stream": "stdout",
       "text": [
        "2014-09-23 "
       ]
      },
      {
       "output_type": "stream",
       "stream": "stdout",
       "text": [
        "2014-09-24 "
       ]
      },
      {
       "output_type": "stream",
       "stream": "stdout",
       "text": [
        "2014-09-25 "
       ]
      },
      {
       "output_type": "stream",
       "stream": "stdout",
       "text": [
        "2014-09-26 "
       ]
      },
      {
       "output_type": "stream",
       "stream": "stdout",
       "text": [
        "2014-09-27 "
       ]
      },
      {
       "output_type": "stream",
       "stream": "stdout",
       "text": [
        "2014-09-28 "
       ]
      },
      {
       "output_type": "stream",
       "stream": "stdout",
       "text": [
        "2014-09-29 "
       ]
      },
      {
       "output_type": "stream",
       "stream": "stdout",
       "text": [
        "2014-09-30 "
       ]
      },
      {
       "output_type": "stream",
       "stream": "stdout",
       "text": [
        "2014-10-01 "
       ]
      },
      {
       "output_type": "stream",
       "stream": "stdout",
       "text": [
        "2014-10-02 "
       ]
      },
      {
       "output_type": "stream",
       "stream": "stdout",
       "text": [
        "2014-10-03 "
       ]
      },
      {
       "output_type": "stream",
       "stream": "stdout",
       "text": [
        "2014-10-04 "
       ]
      },
      {
       "output_type": "stream",
       "stream": "stdout",
       "text": [
        "2014-10-05 "
       ]
      },
      {
       "output_type": "stream",
       "stream": "stdout",
       "text": [
        "2014-10-06 "
       ]
      },
      {
       "output_type": "stream",
       "stream": "stdout",
       "text": [
        "2014-10-07 "
       ]
      },
      {
       "output_type": "stream",
       "stream": "stdout",
       "text": [
        "2014-10-08 "
       ]
      },
      {
       "output_type": "stream",
       "stream": "stdout",
       "text": [
        "2014-10-09 "
       ]
      },
      {
       "output_type": "stream",
       "stream": "stdout",
       "text": [
        "2014-10-10 "
       ]
      },
      {
       "output_type": "stream",
       "stream": "stdout",
       "text": [
        "2014-10-11 "
       ]
      },
      {
       "output_type": "stream",
       "stream": "stdout",
       "text": [
        "2014-10-12 "
       ]
      },
      {
       "output_type": "stream",
       "stream": "stdout",
       "text": [
        "2014-10-13 "
       ]
      },
      {
       "output_type": "stream",
       "stream": "stdout",
       "text": [
        "2014-10-14 "
       ]
      },
      {
       "output_type": "stream",
       "stream": "stdout",
       "text": [
        "2014-10-15 "
       ]
      },
      {
       "output_type": "stream",
       "stream": "stdout",
       "text": [
        "2014-10-16 "
       ]
      },
      {
       "output_type": "stream",
       "stream": "stdout",
       "text": [
        "2014-10-17 "
       ]
      },
      {
       "output_type": "stream",
       "stream": "stdout",
       "text": [
        "2014-10-18 "
       ]
      },
      {
       "output_type": "stream",
       "stream": "stdout",
       "text": [
        "2014-10-19 "
       ]
      },
      {
       "output_type": "stream",
       "stream": "stdout",
       "text": [
        "2014-10-20 "
       ]
      },
      {
       "output_type": "stream",
       "stream": "stdout",
       "text": [
        "2014-10-21 "
       ]
      },
      {
       "output_type": "stream",
       "stream": "stdout",
       "text": [
        "2014-10-22 "
       ]
      },
      {
       "output_type": "stream",
       "stream": "stdout",
       "text": [
        "2014-10-23 "
       ]
      },
      {
       "output_type": "stream",
       "stream": "stdout",
       "text": [
        "2014-10-24 "
       ]
      },
      {
       "output_type": "stream",
       "stream": "stdout",
       "text": [
        "2014-10-25 "
       ]
      },
      {
       "output_type": "stream",
       "stream": "stdout",
       "text": [
        "2014-10-26 "
       ]
      },
      {
       "output_type": "stream",
       "stream": "stdout",
       "text": [
        "2014-10-27 "
       ]
      },
      {
       "output_type": "stream",
       "stream": "stdout",
       "text": [
        "2014-10-28 "
       ]
      },
      {
       "output_type": "stream",
       "stream": "stdout",
       "text": [
        "2014-10-29 "
       ]
      },
      {
       "output_type": "stream",
       "stream": "stdout",
       "text": [
        "2014-10-30 "
       ]
      },
      {
       "output_type": "stream",
       "stream": "stdout",
       "text": [
        "2014-10-31 "
       ]
      },
      {
       "output_type": "stream",
       "stream": "stdout",
       "text": [
        "2014-11-01 "
       ]
      },
      {
       "output_type": "stream",
       "stream": "stdout",
       "text": [
        "2014-11-02 "
       ]
      },
      {
       "output_type": "stream",
       "stream": "stdout",
       "text": [
        "2014-11-03 "
       ]
      },
      {
       "output_type": "stream",
       "stream": "stdout",
       "text": [
        "2014-11-04 "
       ]
      },
      {
       "output_type": "stream",
       "stream": "stdout",
       "text": [
        "2014-11-05 "
       ]
      },
      {
       "output_type": "stream",
       "stream": "stdout",
       "text": [
        "2014-11-06 "
       ]
      },
      {
       "output_type": "stream",
       "stream": "stdout",
       "text": [
        "2014-11-07 "
       ]
      },
      {
       "output_type": "stream",
       "stream": "stdout",
       "text": [
        "2014-11-08 "
       ]
      },
      {
       "output_type": "stream",
       "stream": "stdout",
       "text": [
        "2014-11-09 "
       ]
      },
      {
       "output_type": "stream",
       "stream": "stdout",
       "text": [
        "2014-11-10 "
       ]
      },
      {
       "output_type": "stream",
       "stream": "stdout",
       "text": [
        "2014-11-11 "
       ]
      },
      {
       "output_type": "stream",
       "stream": "stdout",
       "text": [
        "2014-11-12 "
       ]
      },
      {
       "output_type": "stream",
       "stream": "stdout",
       "text": [
        "2014-11-13 "
       ]
      },
      {
       "output_type": "stream",
       "stream": "stdout",
       "text": [
        "2014-11-14 "
       ]
      },
      {
       "output_type": "stream",
       "stream": "stdout",
       "text": [
        "2014-11-15 "
       ]
      },
      {
       "output_type": "stream",
       "stream": "stdout",
       "text": [
        "2014-11-16 "
       ]
      },
      {
       "output_type": "stream",
       "stream": "stdout",
       "text": [
        "2014-11-17 "
       ]
      },
      {
       "output_type": "stream",
       "stream": "stdout",
       "text": [
        "2014-11-18 "
       ]
      },
      {
       "output_type": "stream",
       "stream": "stdout",
       "text": [
        "2014-11-19 "
       ]
      },
      {
       "output_type": "stream",
       "stream": "stdout",
       "text": [
        "2014-11-20 "
       ]
      },
      {
       "output_type": "stream",
       "stream": "stdout",
       "text": [
        "2014-11-21 "
       ]
      },
      {
       "output_type": "stream",
       "stream": "stdout",
       "text": [
        "2014-11-22 "
       ]
      },
      {
       "output_type": "stream",
       "stream": "stdout",
       "text": [
        "2014-11-23 "
       ]
      },
      {
       "output_type": "stream",
       "stream": "stdout",
       "text": [
        "2014-11-24 "
       ]
      },
      {
       "output_type": "stream",
       "stream": "stdout",
       "text": [
        "2014-11-25 "
       ]
      },
      {
       "output_type": "stream",
       "stream": "stdout",
       "text": [
        "2014-11-26 "
       ]
      },
      {
       "output_type": "stream",
       "stream": "stdout",
       "text": [
        "2014-11-27 "
       ]
      },
      {
       "output_type": "stream",
       "stream": "stdout",
       "text": [
        "2014-11-28 "
       ]
      },
      {
       "output_type": "stream",
       "stream": "stdout",
       "text": [
        "2014-11-29 "
       ]
      },
      {
       "output_type": "stream",
       "stream": "stdout",
       "text": [
        "2014-11-30 "
       ]
      },
      {
       "output_type": "stream",
       "stream": "stdout",
       "text": [
        "2014-12-01 "
       ]
      },
      {
       "output_type": "stream",
       "stream": "stdout",
       "text": [
        "2014-12-02 "
       ]
      },
      {
       "output_type": "stream",
       "stream": "stdout",
       "text": [
        "2014-12-03 "
       ]
      },
      {
       "output_type": "stream",
       "stream": "stdout",
       "text": [
        "2014-12-04 "
       ]
      },
      {
       "output_type": "stream",
       "stream": "stdout",
       "text": [
        "2014-12-05 "
       ]
      },
      {
       "output_type": "stream",
       "stream": "stdout",
       "text": [
        "2014-12-06 "
       ]
      },
      {
       "output_type": "stream",
       "stream": "stdout",
       "text": [
        "2014-12-07 "
       ]
      },
      {
       "output_type": "stream",
       "stream": "stdout",
       "text": [
        "2014-12-08 "
       ]
      },
      {
       "output_type": "stream",
       "stream": "stdout",
       "text": [
        "2014-12-09 "
       ]
      },
      {
       "output_type": "stream",
       "stream": "stdout",
       "text": [
        "2014-12-10 "
       ]
      },
      {
       "output_type": "stream",
       "stream": "stdout",
       "text": [
        "2014-12-11 "
       ]
      },
      {
       "output_type": "stream",
       "stream": "stdout",
       "text": [
        "2014-12-12 "
       ]
      },
      {
       "output_type": "stream",
       "stream": "stdout",
       "text": [
        "2014-12-13 "
       ]
      },
      {
       "output_type": "stream",
       "stream": "stdout",
       "text": [
        "2014-12-14 "
       ]
      },
      {
       "output_type": "stream",
       "stream": "stdout",
       "text": [
        "2014-12-15 "
       ]
      },
      {
       "output_type": "stream",
       "stream": "stdout",
       "text": [
        "2014-12-16 "
       ]
      },
      {
       "output_type": "stream",
       "stream": "stdout",
       "text": [
        "2014-12-17 "
       ]
      },
      {
       "output_type": "stream",
       "stream": "stdout",
       "text": [
        "2014-12-18 "
       ]
      },
      {
       "output_type": "stream",
       "stream": "stdout",
       "text": [
        "2014-12-19 "
       ]
      },
      {
       "output_type": "stream",
       "stream": "stdout",
       "text": [
        "2014-12-20 "
       ]
      },
      {
       "output_type": "stream",
       "stream": "stdout",
       "text": [
        "2014-12-21 "
       ]
      },
      {
       "output_type": "stream",
       "stream": "stdout",
       "text": [
        "2014-12-22 "
       ]
      },
      {
       "output_type": "stream",
       "stream": "stdout",
       "text": [
        "2014-12-23 "
       ]
      },
      {
       "output_type": "stream",
       "stream": "stdout",
       "text": [
        "2014-12-24 "
       ]
      },
      {
       "output_type": "stream",
       "stream": "stdout",
       "text": [
        "2014-12-25 "
       ]
      },
      {
       "output_type": "stream",
       "stream": "stdout",
       "text": [
        "2014-12-26 "
       ]
      },
      {
       "output_type": "stream",
       "stream": "stdout",
       "text": [
        "2014-12-27 "
       ]
      },
      {
       "output_type": "stream",
       "stream": "stdout",
       "text": [
        "2014-12-28 "
       ]
      },
      {
       "output_type": "stream",
       "stream": "stdout",
       "text": [
        "2014-12-29 "
       ]
      },
      {
       "output_type": "stream",
       "stream": "stdout",
       "text": [
        "2014-12-30 "
       ]
      },
      {
       "output_type": "stream",
       "stream": "stdout",
       "text": [
        "2014-12-31 "
       ]
      },
      {
       "output_type": "stream",
       "stream": "stdout",
       "text": [
        "2015-01-01 "
       ]
      },
      {
       "output_type": "stream",
       "stream": "stdout",
       "text": [
        "2015-01-02 "
       ]
      },
      {
       "output_type": "stream",
       "stream": "stdout",
       "text": [
        "2015-01-03 "
       ]
      },
      {
       "output_type": "stream",
       "stream": "stdout",
       "text": [
        "2015-01-04 "
       ]
      },
      {
       "output_type": "stream",
       "stream": "stdout",
       "text": [
        "2015-01-05 "
       ]
      },
      {
       "output_type": "stream",
       "stream": "stdout",
       "text": [
        "2015-01-06 "
       ]
      },
      {
       "output_type": "stream",
       "stream": "stdout",
       "text": [
        "2015-01-07 "
       ]
      },
      {
       "output_type": "stream",
       "stream": "stdout",
       "text": [
        "2015-01-08 "
       ]
      },
      {
       "output_type": "stream",
       "stream": "stdout",
       "text": [
        "2015-01-09 "
       ]
      },
      {
       "output_type": "stream",
       "stream": "stdout",
       "text": [
        "2015-01-10 "
       ]
      },
      {
       "output_type": "stream",
       "stream": "stdout",
       "text": [
        "2015-01-11 "
       ]
      },
      {
       "output_type": "stream",
       "stream": "stdout",
       "text": [
        "2015-01-12 "
       ]
      },
      {
       "output_type": "stream",
       "stream": "stdout",
       "text": [
        "2015-01-13 "
       ]
      },
      {
       "output_type": "stream",
       "stream": "stdout",
       "text": [
        "2015-01-14 "
       ]
      },
      {
       "output_type": "stream",
       "stream": "stdout",
       "text": [
        "2015-01-15 "
       ]
      },
      {
       "output_type": "stream",
       "stream": "stdout",
       "text": [
        "2015-01-16 "
       ]
      },
      {
       "output_type": "stream",
       "stream": "stdout",
       "text": [
        "2015-01-17 "
       ]
      },
      {
       "output_type": "stream",
       "stream": "stdout",
       "text": [
        "2015-01-18 "
       ]
      },
      {
       "output_type": "stream",
       "stream": "stdout",
       "text": [
        "2015-01-19 "
       ]
      },
      {
       "output_type": "stream",
       "stream": "stdout",
       "text": [
        "2015-01-20 "
       ]
      },
      {
       "output_type": "stream",
       "stream": "stdout",
       "text": [
        "2015-01-21 "
       ]
      },
      {
       "output_type": "stream",
       "stream": "stdout",
       "text": [
        "2015-01-22 "
       ]
      },
      {
       "output_type": "stream",
       "stream": "stdout",
       "text": [
        "2015-01-23 "
       ]
      },
      {
       "output_type": "stream",
       "stream": "stdout",
       "text": [
        "2015-01-24 "
       ]
      },
      {
       "output_type": "stream",
       "stream": "stdout",
       "text": [
        "2015-01-25 "
       ]
      },
      {
       "output_type": "stream",
       "stream": "stdout",
       "text": [
        "2015-01-26 "
       ]
      },
      {
       "output_type": "stream",
       "stream": "stdout",
       "text": [
        "2015-01-27 "
       ]
      },
      {
       "output_type": "stream",
       "stream": "stdout",
       "text": [
        "2015-01-28 "
       ]
      },
      {
       "output_type": "stream",
       "stream": "stdout",
       "text": [
        "2015-01-29 "
       ]
      },
      {
       "output_type": "stream",
       "stream": "stdout",
       "text": [
        "2015-01-30 "
       ]
      },
      {
       "output_type": "stream",
       "stream": "stdout",
       "text": [
        "2015-01-31 "
       ]
      },
      {
       "output_type": "stream",
       "stream": "stdout",
       "text": [
        "2015-02-01 "
       ]
      },
      {
       "output_type": "stream",
       "stream": "stdout",
       "text": [
        "2015-02-02 "
       ]
      },
      {
       "output_type": "stream",
       "stream": "stdout",
       "text": [
        "2015-02-03 "
       ]
      },
      {
       "output_type": "stream",
       "stream": "stdout",
       "text": [
        "2015-02-04 "
       ]
      },
      {
       "output_type": "stream",
       "stream": "stdout",
       "text": [
        "2015-02-05 "
       ]
      },
      {
       "output_type": "stream",
       "stream": "stdout",
       "text": [
        "2015-02-06 "
       ]
      },
      {
       "output_type": "stream",
       "stream": "stdout",
       "text": [
        "2015-02-07 "
       ]
      },
      {
       "output_type": "stream",
       "stream": "stdout",
       "text": [
        "2015-02-08 "
       ]
      },
      {
       "output_type": "stream",
       "stream": "stdout",
       "text": [
        "2015-02-09 "
       ]
      },
      {
       "output_type": "stream",
       "stream": "stdout",
       "text": [
        "2015-02-10 "
       ]
      },
      {
       "output_type": "stream",
       "stream": "stdout",
       "text": [
        "2015-02-11 "
       ]
      },
      {
       "output_type": "stream",
       "stream": "stdout",
       "text": [
        "2015-02-12 "
       ]
      },
      {
       "output_type": "stream",
       "stream": "stdout",
       "text": [
        "2015-02-13 "
       ]
      },
      {
       "output_type": "stream",
       "stream": "stdout",
       "text": [
        "2015-02-14 "
       ]
      },
      {
       "output_type": "stream",
       "stream": "stdout",
       "text": [
        "2015-02-15 "
       ]
      },
      {
       "output_type": "stream",
       "stream": "stdout",
       "text": [
        "2015-02-16 "
       ]
      },
      {
       "output_type": "stream",
       "stream": "stdout",
       "text": [
        "2015-02-17 "
       ]
      },
      {
       "output_type": "stream",
       "stream": "stdout",
       "text": [
        "2015-02-18 "
       ]
      },
      {
       "output_type": "stream",
       "stream": "stdout",
       "text": [
        "2015-02-19 "
       ]
      },
      {
       "output_type": "stream",
       "stream": "stdout",
       "text": [
        "2015-02-20 "
       ]
      },
      {
       "output_type": "stream",
       "stream": "stdout",
       "text": [
        "2015-02-21 "
       ]
      },
      {
       "output_type": "stream",
       "stream": "stdout",
       "text": [
        "2015-02-22 "
       ]
      },
      {
       "output_type": "stream",
       "stream": "stdout",
       "text": [
        "2015-02-23 "
       ]
      },
      {
       "output_type": "stream",
       "stream": "stdout",
       "text": [
        "2015-02-24 "
       ]
      },
      {
       "output_type": "stream",
       "stream": "stdout",
       "text": [
        "2015-02-25 "
       ]
      },
      {
       "output_type": "stream",
       "stream": "stdout",
       "text": [
        "2015-02-26 "
       ]
      },
      {
       "output_type": "stream",
       "stream": "stdout",
       "text": [
        "2015-02-27 "
       ]
      },
      {
       "output_type": "stream",
       "stream": "stdout",
       "text": [
        "2015-02-28\n"
       ]
      }
     ],
     "prompt_number": 122
    },
    {
     "cell_type": "code",
     "collapsed": false,
     "input": [
      "def combine_split_map(split):\n",
      "    out = defaultdict(Counter)\n",
      "    for sub in split.keys():\n",
      "        for month in split[sub].keys():\n",
      "            out[month].update(split[sub][month])\n",
      "    return out"
     ],
     "language": "python",
     "metadata": {},
     "outputs": [],
     "prompt_number": 123
    },
    {
     "cell_type": "code",
     "collapsed": false,
     "input": [
      "\n",
      "combined = combine_split_map(split_sub_month)"
     ],
     "language": "python",
     "metadata": {},
     "outputs": [],
     "prompt_number": 140
    },
    {
     "cell_type": "code",
     "collapsed": false,
     "input": [
      "tot = 0\n",
      "for month in combined.keys():\n",
      "    tot += sum(combined[month].values())\n",
      "\n",
      "print tot"
     ],
     "language": "python",
     "metadata": {},
     "outputs": [
      {
       "output_type": "stream",
       "stream": "stdout",
       "text": [
        "195648117\n"
       ]
      }
     ],
     "prompt_number": 143
    },
    {
     "cell_type": "code",
     "collapsed": false,
     "input": [
      "def get_counters_from_subreddit(sub):\n",
      "    if sub == 'all':\n",
      "        return combine_split_map(split_sub_month)\n",
      "    else:\n",
      "        return split_sub_month[sub]"
     ],
     "language": "python",
     "metadata": {},
     "outputs": [],
     "prompt_number": 124
    },
    {
     "cell_type": "code",
     "collapsed": false,
     "input": [
      "def get_total_map(in_map):\n",
      "    out = Counter()\n",
      "    for month in in_map.keys():\n",
      "        out.update(in_map[month])\n",
      "    return out"
     ],
     "language": "python",
     "metadata": {},
     "outputs": [],
     "prompt_number": 125
    },
    {
     "cell_type": "code",
     "collapsed": false,
     "input": [
      "def get_frequencies_from_counter(counter):\n",
      "    total = sum(counter.values())\n",
      "    out_map = {}\n",
      "    for key in counter.keys():\n",
      "        out_map[key] = counter[key] * 1. / total\n",
      "    return out_map"
     ],
     "language": "python",
     "metadata": {},
     "outputs": [],
     "prompt_number": 126
    },
    {
     "cell_type": "code",
     "collapsed": false,
     "input": [
      "def get_tf_idf(key, fun):\n",
      "    tfidf_map = {}\n",
      "    idf_map = get_frequencies_from_counter(month_counter_mp[key])\n",
      "    for key in idf_map.keys():\n",
      "        idf = idf_map[key]\n",
      "        tf = tf_map[key]\n",
      "        tfidf_map[key] = fun(tf, idf)\n",
      "    ret = sorted(tfidf_map.items(), key= operator.itemgetter(1))\n",
      "    filtered = filter(lambda x : x[0] in keep_words, ret)\n",
      "    filtered.reverse()\n",
      "    return filtered"
     ],
     "language": "python",
     "metadata": {},
     "outputs": [],
     "prompt_number": 127
    },
    {
     "cell_type": "code",
     "collapsed": false,
     "input": [
      "def beta_log_power(x):\n",
      "    if x == 0:\n",
      "        return 0\n",
      "    else:\n",
      "        return (x-0.5) * np.log(x)\n",
      "def log_beta_approx(x,y):\n",
      "    return np.log(np.sqrt(2 * np.pi)) + beta_log_power(x) + beta_log_power(y) - beta_log_power(x + y)\n",
      "import numpy as np\n",
      "from scipy.special import beta, digamma\n",
      "def surprise(prior_N, prior_n, post_N, post_n):\n",
      "    if prior_n == 0:\n",
      "        return 0\n",
      "    a , b = prior_n, prior_N - prior_n \n",
      "    a_, b_ = a + post_n, b + post_N - post_n  \n",
      "    return (log_beta_approx(a,b) - log_beta_approx(a_, b_) - \\\n",
      "        post_n * (digamma(a + b + post_N) - digamma(a + post_n)) - \\\n",
      "        (post_N - post_n) * (digamma(a + b + post_N) - digamma(b + post_N - post_n)) ) / np.log(2)"
     ],
     "language": "python",
     "metadata": {},
     "outputs": [],
     "prompt_number": 128
    },
    {
     "cell_type": "code",
     "collapsed": false,
     "input": [
      "# this code tries to find the baseline rate of the word (we remove the most extreme month, and the month we are looking at)\n",
      "def get_surprises_from_word(word, month_map, total_map, month_totals, total_words, sorted_months):\n",
      "    scores = {}\n",
      "    max_month = sorted_months[np.argmax([month_map[month][word] * 1. / month_totals[month] for month in sorted_months])]\n",
      "    for month in sorted_months:\n",
      "        month_counter = month_map[month]\n",
      "        post_N = month_totals[month]\n",
      "        prior_N = total_words - post_N\n",
      "        if month != max_month:\n",
      "            prior_N -= month_totals[max_month]\n",
      "            pass\n",
      "        \n",
      "        post_n = month_counter[word]\n",
      "        prior_n = total_map[word] - post_n\n",
      "        if month != max_month:\n",
      "            prior_n -= month_map[max_month][word]\n",
      "            pass\n",
      "        #print prior_n, prior_N, post_n, post_N\n",
      "        if prior_n * 1. / prior_N > post_n * 1. / post_N:\n",
      "            scores[month] = surprise(prior_N, prior_n, post_N, post_n) / 100\n",
      "        else:\n",
      "            scores[month] = surprise(prior_N, prior_n, post_N, post_n)\n",
      "    return scores"
     ],
     "language": "python",
     "metadata": {},
     "outputs": [],
     "prompt_number": 129
    },
    {
     "cell_type": "code",
     "collapsed": false,
     "input": [
      "def get_month_scores(month_map, total_map, sorted_months):\n",
      "    print 'getting scores'\n",
      "    sorted_total = sorted(total_map.items(), key = operator.itemgetter(1))\n",
      "    sorted_total.reverse()\n",
      "    keep_words = set([x[0] for x in sorted_total[:20000]])\n",
      "    \n",
      "    \n",
      "    month_totals = {}\n",
      "    for month in sorted_months:\n",
      "        month_totals[month] = sum(month_map[month].values())\n",
      "    total_words = sum(total_map.values())\n",
      "\n",
      "    month_scores = defaultdict(list)\n",
      "    \n",
      "    count = 0\n",
      "    for word in list(keep_words):\n",
      "        count += 1\n",
      "        word_scores = get_surprises_from_word(word, month_map, total_map, month_totals, total_words, sorted_months)\n",
      "        for month in sorted_months:\n",
      "            score = word_scores[month]\n",
      "            month_scores[month].append((word, score))\n",
      "            \n",
      "    for month in sorted_months:\n",
      "        scores = sorted(month_scores[month], key= operator.itemgetter(1))\n",
      "        scores.reverse()\n",
      "        month_scores[month] = scores\n",
      "    return month_scores"
     ],
     "language": "python",
     "metadata": {},
     "outputs": [],
     "prompt_number": 130
    },
    {
     "cell_type": "code",
     "collapsed": false,
     "input": [
      "WIDTH = 800\n",
      "HEIGHT = 400\n",
      "\n",
      "# we scale all the scores to try and make sure that the maximum word just about \n",
      "# stretches across the word cloud (doesn't work perfectly)\n",
      "\n",
      "\n",
      "wc = WordCloud(background_color=\"white\", max_words = 2000, width = WIDTH, height = HEIGHT)\n",
      "\n",
      "def make_text_image(text, width, height, fontsize = 40, align = 'center', rotate = False,\n",
      "                    font_loc = \"/usr/share/fonts/truetype/ttf-dejavu/DejaVuSans.ttf\"):\n",
      "    font = ImageFont.truetype(font_loc, fontsize)\n",
      "    img=Image.new(\"RGBA\", (width,height),(255,255,255))\n",
      "    draw = ImageDraw.Draw(img)\n",
      "    w, h = font.getsize(text)\n",
      "    start = 0\n",
      "    if align == 'center':\n",
      "        start = (width-w)/2\n",
      "    elif align == 'right':\n",
      "        start = width - w\n",
      "    elif align == 'left':\n",
      "        start = 0\n",
      "    draw.text((start,0), text, fill=\"black\", font = font)\n",
      "    out = img\n",
      "    if rotate:\n",
      "        out = img.rotate(270)\n",
      "    #out.save('wordcloud/months/text_image_' + text + '.png')\n",
      "    return out\n",
      "\n",
      "def make_wordcloud(sub, month_scores, sorted_months, adjust = 1, imgs_rendered = False, title = False):\n",
      "    print 'making word clouds : '\n",
      "    file_text =  sub + '_' + str(start_date) + '_' + str(end_date) + '_' + str(adjust)\n",
      "    \n",
      "    volume_scale = max([math.sqrt(scores[0][1]) for scores in month_scores.values()])\n",
      "    volume_scale *= adjust * 450. / WIDTH\n",
      "\n",
      "    if not imgs_rendered:\n",
      "        for month in sorted_months:\n",
      "\n",
      "            print month,\n",
      "            scores = month_scores[month]\n",
      "            scaled_scores = [(pair[0], math.sqrt(pair[1]) / volume_scale) for pair in scores]\n",
      "\n",
      "            wc.generate_from_word_sizes(scaled_scores)\n",
      "            wc.to_file('wordcloud/month_imgs/' + file_text + '_' + month + '.png')\n",
      "            plt.axis(\"off\")\n",
      "        \n",
      "    print 'concatenating image'\n",
      "    \n",
      "    TITLE_HEIGHT = 100\n",
      "    if not title:\n",
      "        TITLE_HEIGHT = 0\n",
      "    \n",
      "    concat_im = Image.new('RGB', (WIDTH + 50, TITLE_HEIGHT +  HEIGHT * len(sorted_months)))\n",
      "    \n",
      "    if title:\n",
      "        title = '  /r/' + sub \n",
      "        title_font = \"/usr/share/fonts/truetype/ttf-dejavu/DejaVuSans-Bold.ttf\"\n",
      "        concat_im = Image.new('RGB', (WIDTH + 50, TITLE_HEIGHT +  HEIGHT * len(sorted_months)))\n",
      "        title_im = make_text_image(title , WIDTH + 50 , TITLE_HEIGHT , font_loc = title_font,\n",
      "                                   fontsize = 80, rotate = False, align = 'left')\n",
      "        concat_im.paste(title_im, (0, 0))\n",
      "    \n",
      "    for index, month in enumerate(sorted_months):\n",
      "        im = Image.open('wordcloud/month_imgs/' + file_text + '_' + month + '.png')\n",
      "        text_im = make_text_image(month, HEIGHT, 50, rotate = True)\n",
      "        \n",
      "        concat_im.paste(im, (50, TITLE_HEIGHT + HEIGHT * index))\n",
      "        concat_im.paste(text_im,(0, TITLE_HEIGHT + HEIGHT * index))\n",
      "    big_file_name = 'wordcloud/timeline_outputs/' + file_text + '.png'\n",
      "    concat_im.save(big_file_name)\n",
      "\n",
      "    #ipImage(big_file_name)\n"
     ],
     "language": "python",
     "metadata": {},
     "outputs": [],
     "prompt_number": 131
    },
    {
     "cell_type": "code",
     "collapsed": false,
     "input": [
      "def make_wordcloud_from_sub(sub):\n",
      "    print 'making word cloud for subreddit : ', sub \n",
      "    month_map = get_counters_from_subreddit(sub)\n",
      "    total_map = get_total_map(month_map)\n",
      "    sorted_months = sorted(month_map.keys(), key= lambda string : datestr2num(string))\n",
      "    month_scores = get_month_scores(month_map, total_map, sorted_months)\n",
      "    make_wordcloud(sub, month_scores, sorted_months)"
     ],
     "language": "python",
     "metadata": {},
     "outputs": [],
     "prompt_number": 132
    },
    {
     "cell_type": "code",
     "collapsed": false,
     "input": [
      "def pickle_scores_for_month(sub):\n",
      "    print 'making word cloud for subreddit : ', sub \n",
      "    month_map = get_counters_from_subreddit(sub)\n",
      "    total_map = get_total_map(month_map)\n",
      "    sorted_months = sorted(month_map.keys(), key= lambda string : datestr2num(string))\n",
      "    month_scores = get_month_scores(month_map, total_map, sorted_months)\n",
      "    pickle.dump(month_scores,open('pickle/word_scores/' + sub +  '_' + str(start_date) + \"_\" + str(end_date) + '.pkl','w'))"
     ],
     "language": "python",
     "metadata": {},
     "outputs": [],
     "prompt_number": 133
    },
    {
     "cell_type": "code",
     "collapsed": false,
     "input": [
      "size_map = list()\n",
      "for sub in split_sub_month.keys():\n",
      "    total = 0 \n",
      "    for month in split_sub_month[sub].keys():\n",
      "        total += sum(split_sub_month[sub][month].values())\n",
      "    size_map.append((sub, total))\n",
      "size_map = sorted(size_map, key= operator.itemgetter(1))\n",
      "size_map.reverse()"
     ],
     "language": "python",
     "metadata": {},
     "outputs": [],
     "prompt_number": 134
    },
    {
     "cell_type": "code",
     "collapsed": false,
     "input": [
      "subreddits = [pair[0] for pair in size_map[:30]]\n",
      "subreddits.append('all')"
     ],
     "language": "python",
     "metadata": {},
     "outputs": [],
     "prompt_number": 135
    },
    {
     "cell_type": "code",
     "collapsed": false,
     "input": [
      "pickle_scores_for_month('all')"
     ],
     "language": "python",
     "metadata": {},
     "outputs": [
      {
       "output_type": "stream",
       "stream": "stdout",
       "text": [
        "making word cloud for subreddit :  all\n",
        "getting scores"
       ]
      },
      {
       "output_type": "stream",
       "stream": "stdout",
       "text": [
        "\n"
       ]
      }
     ],
     "prompt_number": 136
    },
    {
     "cell_type": "code",
     "collapsed": false,
     "input": [
      "for sub in subreddits:\n",
      "    pickle_scores_for_month(sub)\n",
      "    for adjust in list([0.75, 1.0]):\n",
      "        print sub\n",
      "        month_scores = pickle.load(open('pickle/word_scores/' + sub + '_' + str(start_date) + \"_\" + str(end_date) + '.pkl','r'))\n",
      "        sorted_months = sorted(month_scores.keys(), key= lambda string : datestr2num(string))\n",
      "        make_wordcloud(sub, month_scores, sorted_months, adjust = adjust, imgs_rendered = False, title = True)\n",
      "        #ipImage('wordcloud/timeline_outputs/' + sub + '.png')"
     ],
     "language": "python",
     "metadata": {},
     "outputs": [
      {
       "output_type": "stream",
       "stream": "stdout",
       "text": [
        "making word cloud for subreddit :  funny\n",
        "getting scores"
       ]
      },
      {
       "output_type": "stream",
       "stream": "stdout",
       "text": [
        "\n",
        "funny"
       ]
      },
      {
       "output_type": "stream",
       "stream": "stdout",
       "text": [
        "\n",
        "making word clouds : "
       ]
      },
      {
       "output_type": "stream",
       "stream": "stdout",
       "text": [
        "\n",
        "January-2014 "
       ]
      },
      {
       "output_type": "stream",
       "stream": "stdout",
       "text": [
        "February-2014 "
       ]
      },
      {
       "output_type": "stream",
       "stream": "stdout",
       "text": [
        "March-2014 "
       ]
      },
      {
       "output_type": "stream",
       "stream": "stdout",
       "text": [
        "April-2014 "
       ]
      },
      {
       "output_type": "stream",
       "stream": "stdout",
       "text": [
        "May-2014 "
       ]
      },
      {
       "output_type": "stream",
       "stream": "stdout",
       "text": [
        "June-2014 "
       ]
      },
      {
       "output_type": "stream",
       "stream": "stdout",
       "text": [
        "July-2014 "
       ]
      },
      {
       "output_type": "stream",
       "stream": "stdout",
       "text": [
        "August-2014 "
       ]
      },
      {
       "output_type": "stream",
       "stream": "stdout",
       "text": [
        "September-2014 "
       ]
      },
      {
       "output_type": "stream",
       "stream": "stdout",
       "text": [
        "October-2014 "
       ]
      },
      {
       "output_type": "stream",
       "stream": "stdout",
       "text": [
        "November-2014 "
       ]
      },
      {
       "output_type": "stream",
       "stream": "stdout",
       "text": [
        "December-2014 "
       ]
      },
      {
       "output_type": "stream",
       "stream": "stdout",
       "text": [
        "January-2015 "
       ]
      },
      {
       "output_type": "stream",
       "stream": "stdout",
       "text": [
        "February-2015 "
       ]
      },
      {
       "output_type": "stream",
       "stream": "stdout",
       "text": [
        "concatenating image\n",
        "funny"
       ]
      },
      {
       "output_type": "stream",
       "stream": "stdout",
       "text": [
        "\n",
        "making word clouds : "
       ]
      },
      {
       "output_type": "stream",
       "stream": "stdout",
       "text": [
        "\n",
        "January-2014 "
       ]
      },
      {
       "output_type": "stream",
       "stream": "stdout",
       "text": [
        "February-2014 "
       ]
      },
      {
       "output_type": "stream",
       "stream": "stdout",
       "text": [
        "March-2014 "
       ]
      },
      {
       "output_type": "stream",
       "stream": "stdout",
       "text": [
        "April-2014 "
       ]
      },
      {
       "output_type": "stream",
       "stream": "stdout",
       "text": [
        "May-2014 "
       ]
      },
      {
       "output_type": "stream",
       "stream": "stdout",
       "text": [
        "June-2014 "
       ]
      },
      {
       "output_type": "stream",
       "stream": "stdout",
       "text": [
        "July-2014 "
       ]
      },
      {
       "output_type": "stream",
       "stream": "stdout",
       "text": [
        "August-2014 "
       ]
      },
      {
       "output_type": "stream",
       "stream": "stdout",
       "text": [
        "September-2014 "
       ]
      },
      {
       "output_type": "stream",
       "stream": "stdout",
       "text": [
        "October-2014 "
       ]
      },
      {
       "output_type": "stream",
       "stream": "stdout",
       "text": [
        "November-2014 "
       ]
      },
      {
       "output_type": "stream",
       "stream": "stdout",
       "text": [
        "December-2014 "
       ]
      },
      {
       "output_type": "stream",
       "stream": "stdout",
       "text": [
        "January-2015 "
       ]
      },
      {
       "output_type": "stream",
       "stream": "stdout",
       "text": [
        "February-2015 "
       ]
      },
      {
       "output_type": "stream",
       "stream": "stdout",
       "text": [
        "concatenating image\n",
        "making word cloud for subreddit : "
       ]
      },
      {
       "output_type": "stream",
       "stream": "stdout",
       "text": [
        " todayilearned\n",
        "getting scores"
       ]
      },
      {
       "output_type": "stream",
       "stream": "stdout",
       "text": [
        "\n",
        "todayilearned"
       ]
      },
      {
       "output_type": "stream",
       "stream": "stdout",
       "text": [
        "\n",
        "making word clouds : "
       ]
      },
      {
       "output_type": "stream",
       "stream": "stdout",
       "text": [
        "\n",
        "January-2014 "
       ]
      },
      {
       "output_type": "stream",
       "stream": "stdout",
       "text": [
        "February-2014 "
       ]
      },
      {
       "output_type": "stream",
       "stream": "stdout",
       "text": [
        "March-2014 "
       ]
      },
      {
       "output_type": "stream",
       "stream": "stdout",
       "text": [
        "April-2014 "
       ]
      },
      {
       "output_type": "stream",
       "stream": "stdout",
       "text": [
        "May-2014 "
       ]
      },
      {
       "output_type": "stream",
       "stream": "stdout",
       "text": [
        "June-2014 "
       ]
      },
      {
       "output_type": "stream",
       "stream": "stdout",
       "text": [
        "July-2014 "
       ]
      },
      {
       "output_type": "stream",
       "stream": "stdout",
       "text": [
        "August-2014 "
       ]
      },
      {
       "output_type": "stream",
       "stream": "stdout",
       "text": [
        "September-2014 "
       ]
      },
      {
       "output_type": "stream",
       "stream": "stdout",
       "text": [
        "October-2014 "
       ]
      },
      {
       "output_type": "stream",
       "stream": "stdout",
       "text": [
        "November-2014 "
       ]
      },
      {
       "output_type": "stream",
       "stream": "stdout",
       "text": [
        "December-2014 "
       ]
      },
      {
       "output_type": "stream",
       "stream": "stdout",
       "text": [
        "January-2015 "
       ]
      },
      {
       "output_type": "stream",
       "stream": "stdout",
       "text": [
        "February-2015 "
       ]
      },
      {
       "output_type": "stream",
       "stream": "stdout",
       "text": [
        "concatenating image\n",
        "todayilearned"
       ]
      },
      {
       "output_type": "stream",
       "stream": "stdout",
       "text": [
        "\n",
        "making word clouds : "
       ]
      },
      {
       "output_type": "stream",
       "stream": "stdout",
       "text": [
        "\n",
        "January-2014 "
       ]
      },
      {
       "output_type": "stream",
       "stream": "stdout",
       "text": [
        "February-2014 "
       ]
      },
      {
       "output_type": "stream",
       "stream": "stdout",
       "text": [
        "March-2014 "
       ]
      },
      {
       "output_type": "stream",
       "stream": "stdout",
       "text": [
        "April-2014 "
       ]
      },
      {
       "output_type": "stream",
       "stream": "stdout",
       "text": [
        "May-2014 "
       ]
      },
      {
       "output_type": "stream",
       "stream": "stdout",
       "text": [
        "June-2014 "
       ]
      },
      {
       "output_type": "stream",
       "stream": "stdout",
       "text": [
        "July-2014 "
       ]
      },
      {
       "output_type": "stream",
       "stream": "stdout",
       "text": [
        "August-2014 "
       ]
      },
      {
       "output_type": "stream",
       "stream": "stdout",
       "text": [
        "September-2014 "
       ]
      },
      {
       "output_type": "stream",
       "stream": "stdout",
       "text": [
        "October-2014 "
       ]
      },
      {
       "output_type": "stream",
       "stream": "stdout",
       "text": [
        "November-2014 "
       ]
      },
      {
       "output_type": "stream",
       "stream": "stdout",
       "text": [
        "December-2014 "
       ]
      },
      {
       "output_type": "stream",
       "stream": "stdout",
       "text": [
        "January-2015 "
       ]
      },
      {
       "output_type": "stream",
       "stream": "stdout",
       "text": [
        "February-2015 "
       ]
      },
      {
       "output_type": "stream",
       "stream": "stdout",
       "text": [
        "concatenating image\n",
        "making word cloud for subreddit : "
       ]
      },
      {
       "output_type": "stream",
       "stream": "stdout",
       "text": [
        " pics\n",
        "getting scores"
       ]
      },
      {
       "output_type": "stream",
       "stream": "stdout",
       "text": [
        "\n",
        "pics"
       ]
      },
      {
       "output_type": "stream",
       "stream": "stdout",
       "text": [
        "\n",
        "making word clouds : "
       ]
      },
      {
       "output_type": "stream",
       "stream": "stdout",
       "text": [
        "\n",
        "January-2014 "
       ]
      },
      {
       "output_type": "stream",
       "stream": "stdout",
       "text": [
        "February-2014 "
       ]
      },
      {
       "output_type": "stream",
       "stream": "stdout",
       "text": [
        "March-2014 "
       ]
      },
      {
       "output_type": "stream",
       "stream": "stdout",
       "text": [
        "April-2014 "
       ]
      },
      {
       "output_type": "stream",
       "stream": "stdout",
       "text": [
        "May-2014 "
       ]
      },
      {
       "output_type": "stream",
       "stream": "stdout",
       "text": [
        "June-2014 "
       ]
      },
      {
       "output_type": "stream",
       "stream": "stdout",
       "text": [
        "July-2014 "
       ]
      },
      {
       "output_type": "stream",
       "stream": "stdout",
       "text": [
        "August-2014 "
       ]
      },
      {
       "output_type": "stream",
       "stream": "stdout",
       "text": [
        "September-2014 "
       ]
      },
      {
       "output_type": "stream",
       "stream": "stdout",
       "text": [
        "October-2014 "
       ]
      },
      {
       "output_type": "stream",
       "stream": "stdout",
       "text": [
        "November-2014 "
       ]
      },
      {
       "output_type": "stream",
       "stream": "stdout",
       "text": [
        "December-2014 "
       ]
      },
      {
       "output_type": "stream",
       "stream": "stdout",
       "text": [
        "January-2015 "
       ]
      },
      {
       "output_type": "stream",
       "stream": "stdout",
       "text": [
        "February-2015 "
       ]
      },
      {
       "output_type": "stream",
       "stream": "stdout",
       "text": [
        "concatenating image\n",
        "pics"
       ]
      },
      {
       "output_type": "stream",
       "stream": "stdout",
       "text": [
        "\n",
        "making word clouds : "
       ]
      },
      {
       "output_type": "stream",
       "stream": "stdout",
       "text": [
        "\n",
        "January-2014 "
       ]
      },
      {
       "output_type": "stream",
       "stream": "stdout",
       "text": [
        "February-2014 "
       ]
      },
      {
       "output_type": "stream",
       "stream": "stdout",
       "text": [
        "March-2014 "
       ]
      },
      {
       "output_type": "stream",
       "stream": "stdout",
       "text": [
        "April-2014 "
       ]
      },
      {
       "output_type": "stream",
       "stream": "stdout",
       "text": [
        "May-2014 "
       ]
      },
      {
       "output_type": "stream",
       "stream": "stdout",
       "text": [
        "June-2014 "
       ]
      },
      {
       "output_type": "stream",
       "stream": "stdout",
       "text": [
        "July-2014 "
       ]
      },
      {
       "output_type": "stream",
       "stream": "stdout",
       "text": [
        "August-2014 "
       ]
      },
      {
       "output_type": "stream",
       "stream": "stdout",
       "text": [
        "September-2014 "
       ]
      },
      {
       "output_type": "stream",
       "stream": "stdout",
       "text": [
        "October-2014 "
       ]
      },
      {
       "output_type": "stream",
       "stream": "stdout",
       "text": [
        "November-2014 "
       ]
      },
      {
       "output_type": "stream",
       "stream": "stdout",
       "text": [
        "December-2014 "
       ]
      },
      {
       "output_type": "stream",
       "stream": "stdout",
       "text": [
        "January-2015 "
       ]
      },
      {
       "output_type": "stream",
       "stream": "stdout",
       "text": [
        "February-2015 "
       ]
      },
      {
       "output_type": "stream",
       "stream": "stdout",
       "text": [
        "concatenating image\n",
        "making word cloud for subreddit : "
       ]
      },
      {
       "output_type": "stream",
       "stream": "stdout",
       "text": [
        " AskReddit\n",
        "getting scores"
       ]
      },
      {
       "output_type": "stream",
       "stream": "stdout",
       "text": [
        "\n",
        "AskReddit"
       ]
      },
      {
       "output_type": "stream",
       "stream": "stdout",
       "text": [
        "\n",
        "making word clouds : "
       ]
      },
      {
       "output_type": "stream",
       "stream": "stdout",
       "text": [
        "\n",
        "January-2014 "
       ]
      },
      {
       "output_type": "stream",
       "stream": "stdout",
       "text": [
        "February-2014 "
       ]
      },
      {
       "output_type": "stream",
       "stream": "stdout",
       "text": [
        "March-2014 "
       ]
      },
      {
       "output_type": "stream",
       "stream": "stdout",
       "text": [
        "April-2014 "
       ]
      },
      {
       "output_type": "stream",
       "stream": "stdout",
       "text": [
        "May-2014 "
       ]
      },
      {
       "output_type": "stream",
       "stream": "stdout",
       "text": [
        "June-2014 "
       ]
      },
      {
       "output_type": "stream",
       "stream": "stdout",
       "text": [
        "July-2014 "
       ]
      },
      {
       "output_type": "stream",
       "stream": "stdout",
       "text": [
        "August-2014 "
       ]
      },
      {
       "output_type": "stream",
       "stream": "stdout",
       "text": [
        "September-2014 "
       ]
      },
      {
       "output_type": "stream",
       "stream": "stdout",
       "text": [
        "October-2014 "
       ]
      },
      {
       "output_type": "stream",
       "stream": "stdout",
       "text": [
        "November-2014 "
       ]
      },
      {
       "output_type": "stream",
       "stream": "stdout",
       "text": [
        "December-2014 "
       ]
      },
      {
       "output_type": "stream",
       "stream": "stdout",
       "text": [
        "January-2015 "
       ]
      },
      {
       "output_type": "stream",
       "stream": "stdout",
       "text": [
        "February-2015 "
       ]
      },
      {
       "output_type": "stream",
       "stream": "stdout",
       "text": [
        "concatenating image\n",
        "AskReddit"
       ]
      },
      {
       "output_type": "stream",
       "stream": "stdout",
       "text": [
        "\n",
        "making word clouds : "
       ]
      },
      {
       "output_type": "stream",
       "stream": "stdout",
       "text": [
        "\n",
        "January-2014 "
       ]
      },
      {
       "output_type": "stream",
       "stream": "stdout",
       "text": [
        "February-2014 "
       ]
      },
      {
       "output_type": "stream",
       "stream": "stdout",
       "text": [
        "March-2014 "
       ]
      },
      {
       "output_type": "stream",
       "stream": "stdout",
       "text": [
        "April-2014 "
       ]
      },
      {
       "output_type": "stream",
       "stream": "stdout",
       "text": [
        "May-2014 "
       ]
      },
      {
       "output_type": "stream",
       "stream": "stdout",
       "text": [
        "June-2014 "
       ]
      },
      {
       "output_type": "stream",
       "stream": "stdout",
       "text": [
        "July-2014 "
       ]
      },
      {
       "output_type": "stream",
       "stream": "stdout",
       "text": [
        "August-2014 "
       ]
      },
      {
       "output_type": "stream",
       "stream": "stdout",
       "text": [
        "September-2014 "
       ]
      },
      {
       "output_type": "stream",
       "stream": "stdout",
       "text": [
        "October-2014 "
       ]
      },
      {
       "output_type": "stream",
       "stream": "stdout",
       "text": [
        "November-2014 "
       ]
      },
      {
       "output_type": "stream",
       "stream": "stdout",
       "text": [
        "December-2014 "
       ]
      },
      {
       "output_type": "stream",
       "stream": "stdout",
       "text": [
        "January-2015 "
       ]
      },
      {
       "output_type": "stream",
       "stream": "stdout",
       "text": [
        "February-2015 "
       ]
      },
      {
       "output_type": "stream",
       "stream": "stdout",
       "text": [
        "concatenating image\n",
        "making word cloud for subreddit : "
       ]
      },
      {
       "output_type": "stream",
       "stream": "stdout",
       "text": [
        " worldnews\n",
        "getting scores"
       ]
      },
      {
       "output_type": "stream",
       "stream": "stdout",
       "text": [
        "\n",
        "worldnews"
       ]
      },
      {
       "output_type": "stream",
       "stream": "stdout",
       "text": [
        "\n",
        "making word clouds : "
       ]
      },
      {
       "output_type": "stream",
       "stream": "stdout",
       "text": [
        "\n",
        "January-2014 "
       ]
      },
      {
       "output_type": "stream",
       "stream": "stdout",
       "text": [
        "February-2014 "
       ]
      },
      {
       "output_type": "stream",
       "stream": "stdout",
       "text": [
        "March-2014 "
       ]
      },
      {
       "output_type": "stream",
       "stream": "stdout",
       "text": [
        "April-2014 "
       ]
      },
      {
       "output_type": "stream",
       "stream": "stdout",
       "text": [
        "May-2014 "
       ]
      },
      {
       "output_type": "stream",
       "stream": "stdout",
       "text": [
        "June-2014 "
       ]
      },
      {
       "output_type": "stream",
       "stream": "stdout",
       "text": [
        "July-2014 "
       ]
      },
      {
       "output_type": "stream",
       "stream": "stdout",
       "text": [
        "August-2014 "
       ]
      },
      {
       "output_type": "stream",
       "stream": "stdout",
       "text": [
        "September-2014 "
       ]
      },
      {
       "output_type": "stream",
       "stream": "stdout",
       "text": [
        "October-2014 "
       ]
      },
      {
       "output_type": "stream",
       "stream": "stdout",
       "text": [
        "November-2014 "
       ]
      },
      {
       "output_type": "stream",
       "stream": "stdout",
       "text": [
        "December-2014 "
       ]
      },
      {
       "output_type": "stream",
       "stream": "stdout",
       "text": [
        "January-2015 "
       ]
      },
      {
       "output_type": "stream",
       "stream": "stdout",
       "text": [
        "February-2015 "
       ]
      },
      {
       "output_type": "stream",
       "stream": "stdout",
       "text": [
        "concatenating image\n",
        "worldnews"
       ]
      },
      {
       "output_type": "stream",
       "stream": "stdout",
       "text": [
        "\n",
        "making word clouds : "
       ]
      },
      {
       "output_type": "stream",
       "stream": "stdout",
       "text": [
        "\n",
        "January-2014 "
       ]
      },
      {
       "output_type": "stream",
       "stream": "stdout",
       "text": [
        "February-2014 "
       ]
      },
      {
       "output_type": "stream",
       "stream": "stdout",
       "text": [
        "March-2014 "
       ]
      },
      {
       "output_type": "stream",
       "stream": "stdout",
       "text": [
        "April-2014 "
       ]
      },
      {
       "output_type": "stream",
       "stream": "stdout",
       "text": [
        "May-2014 "
       ]
      },
      {
       "output_type": "stream",
       "stream": "stdout",
       "text": [
        "June-2014 "
       ]
      },
      {
       "output_type": "stream",
       "stream": "stdout",
       "text": [
        "July-2014 "
       ]
      },
      {
       "output_type": "stream",
       "stream": "stdout",
       "text": [
        "August-2014 "
       ]
      },
      {
       "output_type": "stream",
       "stream": "stdout",
       "text": [
        "September-2014 "
       ]
      },
      {
       "output_type": "stream",
       "stream": "stdout",
       "text": [
        "October-2014 "
       ]
      },
      {
       "output_type": "stream",
       "stream": "stdout",
       "text": [
        "November-2014 "
       ]
      },
      {
       "output_type": "stream",
       "stream": "stdout",
       "text": [
        "December-2014 "
       ]
      },
      {
       "output_type": "stream",
       "stream": "stdout",
       "text": [
        "January-2015 "
       ]
      },
      {
       "output_type": "stream",
       "stream": "stdout",
       "text": [
        "February-2015 "
       ]
      },
      {
       "output_type": "stream",
       "stream": "stdout",
       "text": [
        "concatenating image\n",
        "making word cloud for subreddit : "
       ]
      },
      {
       "output_type": "stream",
       "stream": "stdout",
       "text": [
        " gaming\n",
        "getting scores"
       ]
      },
      {
       "output_type": "stream",
       "stream": "stdout",
       "text": [
        "\n",
        "gaming"
       ]
      },
      {
       "output_type": "stream",
       "stream": "stdout",
       "text": [
        "\n",
        "making word clouds : "
       ]
      },
      {
       "output_type": "stream",
       "stream": "stdout",
       "text": [
        "\n",
        "January-2014 "
       ]
      },
      {
       "output_type": "stream",
       "stream": "stdout",
       "text": [
        "February-2014 "
       ]
      },
      {
       "output_type": "stream",
       "stream": "stdout",
       "text": [
        "March-2014 "
       ]
      },
      {
       "output_type": "stream",
       "stream": "stdout",
       "text": [
        "April-2014 "
       ]
      },
      {
       "output_type": "stream",
       "stream": "stdout",
       "text": [
        "May-2014 "
       ]
      },
      {
       "output_type": "stream",
       "stream": "stdout",
       "text": [
        "June-2014 "
       ]
      },
      {
       "output_type": "stream",
       "stream": "stdout",
       "text": [
        "July-2014 "
       ]
      },
      {
       "output_type": "stream",
       "stream": "stdout",
       "text": [
        "August-2014 "
       ]
      },
      {
       "output_type": "stream",
       "stream": "stdout",
       "text": [
        "September-2014 "
       ]
      },
      {
       "output_type": "stream",
       "stream": "stdout",
       "text": [
        "October-2014 "
       ]
      },
      {
       "output_type": "stream",
       "stream": "stdout",
       "text": [
        "November-2014 "
       ]
      },
      {
       "output_type": "stream",
       "stream": "stdout",
       "text": [
        "December-2014 "
       ]
      },
      {
       "output_type": "stream",
       "stream": "stdout",
       "text": [
        "January-2015 "
       ]
      },
      {
       "output_type": "stream",
       "stream": "stdout",
       "text": [
        "February-2015 "
       ]
      },
      {
       "output_type": "stream",
       "stream": "stdout",
       "text": [
        "concatenating image\n",
        "gaming"
       ]
      },
      {
       "output_type": "stream",
       "stream": "stdout",
       "text": [
        "\n",
        "making word clouds : "
       ]
      },
      {
       "output_type": "stream",
       "stream": "stdout",
       "text": [
        "\n",
        "January-2014 "
       ]
      },
      {
       "output_type": "stream",
       "stream": "stdout",
       "text": [
        "February-2014 "
       ]
      },
      {
       "output_type": "stream",
       "stream": "stdout",
       "text": [
        "March-2014 "
       ]
      },
      {
       "output_type": "stream",
       "stream": "stdout",
       "text": [
        "April-2014 "
       ]
      },
      {
       "output_type": "stream",
       "stream": "stdout",
       "text": [
        "May-2014 "
       ]
      },
      {
       "output_type": "stream",
       "stream": "stdout",
       "text": [
        "June-2014 "
       ]
      },
      {
       "output_type": "stream",
       "stream": "stdout",
       "text": [
        "July-2014 "
       ]
      },
      {
       "output_type": "stream",
       "stream": "stdout",
       "text": [
        "August-2014 "
       ]
      },
      {
       "output_type": "stream",
       "stream": "stdout",
       "text": [
        "September-2014 "
       ]
      },
      {
       "output_type": "stream",
       "stream": "stdout",
       "text": [
        "October-2014 "
       ]
      },
      {
       "output_type": "stream",
       "stream": "stdout",
       "text": [
        "November-2014 "
       ]
      },
      {
       "output_type": "stream",
       "stream": "stdout",
       "text": [
        "December-2014 "
       ]
      },
      {
       "output_type": "stream",
       "stream": "stdout",
       "text": [
        "January-2015 "
       ]
      },
      {
       "output_type": "stream",
       "stream": "stdout",
       "text": [
        "February-2015 "
       ]
      },
      {
       "output_type": "stream",
       "stream": "stdout",
       "text": [
        "concatenating image\n",
        "making word cloud for subreddit : "
       ]
      },
      {
       "output_type": "stream",
       "stream": "stdout",
       "text": [
        " news\n",
        "getting scores"
       ]
      },
      {
       "output_type": "stream",
       "stream": "stdout",
       "text": [
        "\n",
        "news"
       ]
      },
      {
       "output_type": "stream",
       "stream": "stdout",
       "text": [
        "\n",
        "making word clouds : "
       ]
      },
      {
       "output_type": "stream",
       "stream": "stdout",
       "text": [
        "\n",
        "January-2014 "
       ]
      },
      {
       "output_type": "stream",
       "stream": "stdout",
       "text": [
        "February-2014 "
       ]
      },
      {
       "output_type": "stream",
       "stream": "stdout",
       "text": [
        "March-2014 "
       ]
      },
      {
       "output_type": "stream",
       "stream": "stdout",
       "text": [
        "April-2014 "
       ]
      },
      {
       "output_type": "stream",
       "stream": "stdout",
       "text": [
        "May-2014 "
       ]
      },
      {
       "output_type": "stream",
       "stream": "stdout",
       "text": [
        "June-2014 "
       ]
      },
      {
       "output_type": "stream",
       "stream": "stdout",
       "text": [
        "July-2014 "
       ]
      },
      {
       "output_type": "stream",
       "stream": "stdout",
       "text": [
        "August-2014 "
       ]
      },
      {
       "output_type": "stream",
       "stream": "stdout",
       "text": [
        "September-2014 "
       ]
      },
      {
       "output_type": "stream",
       "stream": "stdout",
       "text": [
        "October-2014 "
       ]
      },
      {
       "output_type": "stream",
       "stream": "stdout",
       "text": [
        "November-2014 "
       ]
      },
      {
       "output_type": "stream",
       "stream": "stdout",
       "text": [
        "December-2014 "
       ]
      },
      {
       "output_type": "stream",
       "stream": "stdout",
       "text": [
        "January-2015 "
       ]
      },
      {
       "output_type": "stream",
       "stream": "stdout",
       "text": [
        "February-2015 "
       ]
      },
      {
       "output_type": "stream",
       "stream": "stdout",
       "text": [
        "concatenating image\n",
        "news"
       ]
      },
      {
       "output_type": "stream",
       "stream": "stdout",
       "text": [
        "\n",
        "making word clouds : "
       ]
      },
      {
       "output_type": "stream",
       "stream": "stdout",
       "text": [
        "\n",
        "January-2014 "
       ]
      },
      {
       "output_type": "stream",
       "stream": "stdout",
       "text": [
        "February-2014 "
       ]
      },
      {
       "output_type": "stream",
       "stream": "stdout",
       "text": [
        "March-2014 "
       ]
      },
      {
       "output_type": "stream",
       "stream": "stdout",
       "text": [
        "April-2014 "
       ]
      },
      {
       "output_type": "stream",
       "stream": "stdout",
       "text": [
        "May-2014 "
       ]
      },
      {
       "output_type": "stream",
       "stream": "stdout",
       "text": [
        "June-2014 "
       ]
      },
      {
       "output_type": "stream",
       "stream": "stdout",
       "text": [
        "July-2014 "
       ]
      },
      {
       "output_type": "stream",
       "stream": "stdout",
       "text": [
        "August-2014 "
       ]
      },
      {
       "output_type": "stream",
       "stream": "stdout",
       "text": [
        "September-2014 "
       ]
      },
      {
       "output_type": "stream",
       "stream": "stdout",
       "text": [
        "October-2014 "
       ]
      },
      {
       "output_type": "stream",
       "stream": "stdout",
       "text": [
        "November-2014 "
       ]
      },
      {
       "output_type": "stream",
       "stream": "stdout",
       "text": [
        "December-2014 "
       ]
      },
      {
       "output_type": "stream",
       "stream": "stdout",
       "text": [
        "January-2015 "
       ]
      },
      {
       "output_type": "stream",
       "stream": "stdout",
       "text": [
        "February-2015 "
       ]
      },
      {
       "output_type": "stream",
       "stream": "stdout",
       "text": [
        "concatenating image\n",
        "making word cloud for subreddit : "
       ]
      },
      {
       "output_type": "stream",
       "stream": "stdout",
       "text": [
        " videos\n",
        "getting scores"
       ]
      },
      {
       "output_type": "stream",
       "stream": "stdout",
       "text": [
        "\n",
        "videos"
       ]
      },
      {
       "output_type": "stream",
       "stream": "stdout",
       "text": [
        "\n",
        "making word clouds : "
       ]
      },
      {
       "output_type": "stream",
       "stream": "stdout",
       "text": [
        "\n",
        "January-2014 "
       ]
      },
      {
       "output_type": "stream",
       "stream": "stdout",
       "text": [
        "February-2014 "
       ]
      },
      {
       "output_type": "stream",
       "stream": "stdout",
       "text": [
        "March-2014 "
       ]
      },
      {
       "output_type": "stream",
       "stream": "stdout",
       "text": [
        "April-2014 "
       ]
      },
      {
       "output_type": "stream",
       "stream": "stdout",
       "text": [
        "May-2014 "
       ]
      },
      {
       "output_type": "stream",
       "stream": "stdout",
       "text": [
        "June-2014 "
       ]
      },
      {
       "output_type": "stream",
       "stream": "stdout",
       "text": [
        "July-2014 "
       ]
      },
      {
       "output_type": "stream",
       "stream": "stdout",
       "text": [
        "August-2014 "
       ]
      },
      {
       "output_type": "stream",
       "stream": "stdout",
       "text": [
        "September-2014 "
       ]
      },
      {
       "output_type": "stream",
       "stream": "stdout",
       "text": [
        "October-2014 "
       ]
      },
      {
       "output_type": "stream",
       "stream": "stdout",
       "text": [
        "November-2014 "
       ]
      },
      {
       "output_type": "stream",
       "stream": "stdout",
       "text": [
        "December-2014 "
       ]
      },
      {
       "output_type": "stream",
       "stream": "stdout",
       "text": [
        "January-2015 "
       ]
      },
      {
       "output_type": "stream",
       "stream": "stdout",
       "text": [
        "February-2015 "
       ]
      },
      {
       "output_type": "stream",
       "stream": "stdout",
       "text": [
        "concatenating image\n",
        "videos"
       ]
      },
      {
       "output_type": "stream",
       "stream": "stdout",
       "text": [
        "\n",
        "making word clouds : "
       ]
      },
      {
       "output_type": "stream",
       "stream": "stdout",
       "text": [
        "\n",
        "January-2014 "
       ]
      },
      {
       "output_type": "stream",
       "stream": "stdout",
       "text": [
        "February-2014 "
       ]
      },
      {
       "output_type": "stream",
       "stream": "stdout",
       "text": [
        "March-2014 "
       ]
      },
      {
       "output_type": "stream",
       "stream": "stdout",
       "text": [
        "April-2014 "
       ]
      },
      {
       "output_type": "stream",
       "stream": "stdout",
       "text": [
        "May-2014 "
       ]
      },
      {
       "output_type": "stream",
       "stream": "stdout",
       "text": [
        "June-2014 "
       ]
      },
      {
       "output_type": "stream",
       "stream": "stdout",
       "text": [
        "July-2014 "
       ]
      },
      {
       "output_type": "stream",
       "stream": "stdout",
       "text": [
        "August-2014 "
       ]
      },
      {
       "output_type": "stream",
       "stream": "stdout",
       "text": [
        "September-2014 "
       ]
      },
      {
       "output_type": "stream",
       "stream": "stdout",
       "text": [
        "October-2014 "
       ]
      },
      {
       "output_type": "stream",
       "stream": "stdout",
       "text": [
        "November-2014 "
       ]
      },
      {
       "output_type": "stream",
       "stream": "stdout",
       "text": [
        "December-2014 "
       ]
      },
      {
       "output_type": "stream",
       "stream": "stdout",
       "text": [
        "January-2015 "
       ]
      },
      {
       "output_type": "stream",
       "stream": "stdout",
       "text": [
        "February-2015 "
       ]
      },
      {
       "output_type": "stream",
       "stream": "stdout",
       "text": [
        "concatenating image\n",
        "making word cloud for subreddit : "
       ]
      },
      {
       "output_type": "stream",
       "stream": "stdout",
       "text": [
        " science\n",
        "getting scores"
       ]
      },
      {
       "output_type": "stream",
       "stream": "stdout",
       "text": [
        "\n",
        "science"
       ]
      },
      {
       "output_type": "stream",
       "stream": "stdout",
       "text": [
        "\n",
        "making word clouds : "
       ]
      },
      {
       "output_type": "stream",
       "stream": "stdout",
       "text": [
        "\n",
        "January-2014 "
       ]
      },
      {
       "output_type": "stream",
       "stream": "stdout",
       "text": [
        "February-2014 "
       ]
      },
      {
       "output_type": "stream",
       "stream": "stdout",
       "text": [
        "March-2014 "
       ]
      },
      {
       "output_type": "stream",
       "stream": "stdout",
       "text": [
        "April-2014 "
       ]
      },
      {
       "output_type": "stream",
       "stream": "stdout",
       "text": [
        "May-2014 "
       ]
      },
      {
       "output_type": "stream",
       "stream": "stdout",
       "text": [
        "June-2014 "
       ]
      },
      {
       "output_type": "stream",
       "stream": "stdout",
       "text": [
        "July-2014 "
       ]
      },
      {
       "output_type": "stream",
       "stream": "stdout",
       "text": [
        "August-2014 "
       ]
      },
      {
       "output_type": "stream",
       "stream": "stdout",
       "text": [
        "September-2014 "
       ]
      },
      {
       "output_type": "stream",
       "stream": "stdout",
       "text": [
        "October-2014 "
       ]
      },
      {
       "output_type": "stream",
       "stream": "stdout",
       "text": [
        "November-2014 "
       ]
      },
      {
       "output_type": "stream",
       "stream": "stdout",
       "text": [
        "December-2014 "
       ]
      },
      {
       "output_type": "stream",
       "stream": "stdout",
       "text": [
        "January-2015 "
       ]
      },
      {
       "output_type": "stream",
       "stream": "stdout",
       "text": [
        "February-2015 "
       ]
      },
      {
       "output_type": "stream",
       "stream": "stdout",
       "text": [
        "concatenating image\n",
        "science"
       ]
      },
      {
       "output_type": "stream",
       "stream": "stdout",
       "text": [
        "\n",
        "making word clouds : "
       ]
      },
      {
       "output_type": "stream",
       "stream": "stdout",
       "text": [
        "\n",
        "January-2014 "
       ]
      },
      {
       "output_type": "stream",
       "stream": "stdout",
       "text": [
        "February-2014 "
       ]
      },
      {
       "output_type": "stream",
       "stream": "stdout",
       "text": [
        "March-2014 "
       ]
      },
      {
       "output_type": "stream",
       "stream": "stdout",
       "text": [
        "April-2014 "
       ]
      },
      {
       "output_type": "stream",
       "stream": "stdout",
       "text": [
        "May-2014 "
       ]
      },
      {
       "output_type": "stream",
       "stream": "stdout",
       "text": [
        "June-2014 "
       ]
      },
      {
       "output_type": "stream",
       "stream": "stdout",
       "text": [
        "July-2014 "
       ]
      },
      {
       "output_type": "stream",
       "stream": "stdout",
       "text": [
        "August-2014 "
       ]
      },
      {
       "output_type": "stream",
       "stream": "stdout",
       "text": [
        "September-2014 "
       ]
      },
      {
       "output_type": "stream",
       "stream": "stdout",
       "text": [
        "October-2014 "
       ]
      },
      {
       "output_type": "stream",
       "stream": "stdout",
       "text": [
        "November-2014 "
       ]
      },
      {
       "output_type": "stream",
       "stream": "stdout",
       "text": [
        "December-2014 "
       ]
      },
      {
       "output_type": "stream",
       "stream": "stdout",
       "text": [
        "January-2015 "
       ]
      },
      {
       "output_type": "stream",
       "stream": "stdout",
       "text": [
        "February-2015 "
       ]
      },
      {
       "output_type": "stream",
       "stream": "stdout",
       "text": [
        "concatenating image\n",
        "making word cloud for subreddit : "
       ]
      },
      {
       "output_type": "stream",
       "stream": "stdout",
       "text": [
        " aww\n",
        "getting scores"
       ]
      },
      {
       "output_type": "stream",
       "stream": "stdout",
       "text": [
        "\n",
        "aww"
       ]
      },
      {
       "output_type": "stream",
       "stream": "stdout",
       "text": [
        "\n",
        "making word clouds : "
       ]
      },
      {
       "output_type": "stream",
       "stream": "stdout",
       "text": [
        "\n",
        "January-2014 "
       ]
      },
      {
       "output_type": "stream",
       "stream": "stdout",
       "text": [
        "February-2014 "
       ]
      },
      {
       "output_type": "stream",
       "stream": "stdout",
       "text": [
        "March-2014 "
       ]
      },
      {
       "output_type": "stream",
       "stream": "stdout",
       "text": [
        "April-2014 "
       ]
      },
      {
       "output_type": "stream",
       "stream": "stdout",
       "text": [
        "May-2014 "
       ]
      },
      {
       "output_type": "stream",
       "stream": "stdout",
       "text": [
        "June-2014 "
       ]
      },
      {
       "output_type": "stream",
       "stream": "stdout",
       "text": [
        "July-2014 "
       ]
      },
      {
       "output_type": "stream",
       "stream": "stdout",
       "text": [
        "August-2014 "
       ]
      },
      {
       "output_type": "stream",
       "stream": "stdout",
       "text": [
        "September-2014 "
       ]
      },
      {
       "output_type": "stream",
       "stream": "stdout",
       "text": [
        "October-2014 "
       ]
      },
      {
       "output_type": "stream",
       "stream": "stdout",
       "text": [
        "November-2014 "
       ]
      },
      {
       "output_type": "stream",
       "stream": "stdout",
       "text": [
        "December-2014 "
       ]
      },
      {
       "output_type": "stream",
       "stream": "stdout",
       "text": [
        "January-2015 "
       ]
      },
      {
       "output_type": "stream",
       "stream": "stdout",
       "text": [
        "February-2015 "
       ]
      },
      {
       "output_type": "stream",
       "stream": "stdout",
       "text": [
        "concatenating image\n",
        "aww"
       ]
      },
      {
       "output_type": "stream",
       "stream": "stdout",
       "text": [
        "\n",
        "making word clouds : "
       ]
      },
      {
       "output_type": "stream",
       "stream": "stdout",
       "text": [
        "\n",
        "January-2014 "
       ]
      },
      {
       "output_type": "stream",
       "stream": "stdout",
       "text": [
        "February-2014 "
       ]
      },
      {
       "output_type": "stream",
       "stream": "stdout",
       "text": [
        "March-2014 "
       ]
      },
      {
       "output_type": "stream",
       "stream": "stdout",
       "text": [
        "April-2014 "
       ]
      },
      {
       "output_type": "stream",
       "stream": "stdout",
       "text": [
        "May-2014 "
       ]
      },
      {
       "output_type": "stream",
       "stream": "stdout",
       "text": [
        "June-2014 "
       ]
      },
      {
       "output_type": "stream",
       "stream": "stdout",
       "text": [
        "July-2014 "
       ]
      },
      {
       "output_type": "stream",
       "stream": "stdout",
       "text": [
        "August-2014 "
       ]
      },
      {
       "output_type": "stream",
       "stream": "stdout",
       "text": [
        "September-2014 "
       ]
      },
      {
       "output_type": "stream",
       "stream": "stdout",
       "text": [
        "October-2014 "
       ]
      },
      {
       "output_type": "stream",
       "stream": "stdout",
       "text": [
        "November-2014 "
       ]
      },
      {
       "output_type": "stream",
       "stream": "stdout",
       "text": [
        "December-2014 "
       ]
      },
      {
       "output_type": "stream",
       "stream": "stdout",
       "text": [
        "January-2015 "
       ]
      },
      {
       "output_type": "stream",
       "stream": "stdout",
       "text": [
        "February-2015 "
       ]
      },
      {
       "output_type": "stream",
       "stream": "stdout",
       "text": [
        "concatenating image\n",
        "making word cloud for subreddit : "
       ]
      },
      {
       "output_type": "stream",
       "stream": "stdout",
       "text": [
        " gifs\n",
        "getting scores"
       ]
      },
      {
       "output_type": "stream",
       "stream": "stdout",
       "text": [
        "\n",
        "gifs"
       ]
      },
      {
       "output_type": "stream",
       "stream": "stdout",
       "text": [
        "\n",
        "making word clouds : "
       ]
      },
      {
       "output_type": "stream",
       "stream": "stdout",
       "text": [
        "\n",
        "January-2014 "
       ]
      },
      {
       "output_type": "stream",
       "stream": "stdout",
       "text": [
        "February-2014 "
       ]
      },
      {
       "output_type": "stream",
       "stream": "stdout",
       "text": [
        "March-2014 "
       ]
      },
      {
       "output_type": "stream",
       "stream": "stdout",
       "text": [
        "April-2014 "
       ]
      },
      {
       "output_type": "stream",
       "stream": "stdout",
       "text": [
        "May-2014 "
       ]
      },
      {
       "output_type": "stream",
       "stream": "stdout",
       "text": [
        "June-2014 "
       ]
      },
      {
       "output_type": "stream",
       "stream": "stdout",
       "text": [
        "July-2014 "
       ]
      },
      {
       "output_type": "stream",
       "stream": "stdout",
       "text": [
        "August-2014 "
       ]
      },
      {
       "output_type": "stream",
       "stream": "stdout",
       "text": [
        "September-2014 "
       ]
      },
      {
       "output_type": "stream",
       "stream": "stdout",
       "text": [
        "October-2014 "
       ]
      },
      {
       "output_type": "stream",
       "stream": "stdout",
       "text": [
        "November-2014 "
       ]
      },
      {
       "output_type": "stream",
       "stream": "stdout",
       "text": [
        "December-2014 "
       ]
      },
      {
       "output_type": "stream",
       "stream": "stdout",
       "text": [
        "January-2015 "
       ]
      },
      {
       "output_type": "stream",
       "stream": "stdout",
       "text": [
        "February-2015 "
       ]
      },
      {
       "output_type": "stream",
       "stream": "stdout",
       "text": [
        "concatenating image\n",
        "gifs"
       ]
      },
      {
       "output_type": "stream",
       "stream": "stdout",
       "text": [
        "\n",
        "making word clouds : "
       ]
      },
      {
       "output_type": "stream",
       "stream": "stdout",
       "text": [
        "\n",
        "January-2014 "
       ]
      },
      {
       "output_type": "stream",
       "stream": "stdout",
       "text": [
        "February-2014 "
       ]
      },
      {
       "output_type": "stream",
       "stream": "stdout",
       "text": [
        "March-2014 "
       ]
      },
      {
       "output_type": "stream",
       "stream": "stdout",
       "text": [
        "April-2014 "
       ]
      },
      {
       "output_type": "stream",
       "stream": "stdout",
       "text": [
        "May-2014 "
       ]
      },
      {
       "output_type": "stream",
       "stream": "stdout",
       "text": [
        "June-2014 "
       ]
      },
      {
       "output_type": "stream",
       "stream": "stdout",
       "text": [
        "July-2014 "
       ]
      },
      {
       "output_type": "stream",
       "stream": "stdout",
       "text": [
        "August-2014 "
       ]
      },
      {
       "output_type": "stream",
       "stream": "stdout",
       "text": [
        "September-2014 "
       ]
      },
      {
       "output_type": "stream",
       "stream": "stdout",
       "text": [
        "October-2014 "
       ]
      },
      {
       "output_type": "stream",
       "stream": "stdout",
       "text": [
        "November-2014 "
       ]
      },
      {
       "output_type": "stream",
       "stream": "stdout",
       "text": [
        "December-2014 "
       ]
      },
      {
       "output_type": "stream",
       "stream": "stdout",
       "text": [
        "January-2015 "
       ]
      },
      {
       "output_type": "stream",
       "stream": "stdout",
       "text": [
        "February-2015 "
       ]
      },
      {
       "output_type": "stream",
       "stream": "stdout",
       "text": [
        "concatenating image\n",
        "making word cloud for subreddit : "
       ]
      },
      {
       "output_type": "stream",
       "stream": "stdout",
       "text": [
        " movies\n",
        "getting scores"
       ]
      },
      {
       "output_type": "stream",
       "stream": "stdout",
       "text": [
        "\n",
        "movies"
       ]
      },
      {
       "output_type": "stream",
       "stream": "stdout",
       "text": [
        "\n",
        "making word clouds : "
       ]
      },
      {
       "output_type": "stream",
       "stream": "stdout",
       "text": [
        "\n",
        "January-2014 "
       ]
      },
      {
       "output_type": "stream",
       "stream": "stdout",
       "text": [
        "February-2014 "
       ]
      },
      {
       "output_type": "stream",
       "stream": "stdout",
       "text": [
        "March-2014 "
       ]
      },
      {
       "output_type": "stream",
       "stream": "stdout",
       "text": [
        "April-2014 "
       ]
      },
      {
       "output_type": "stream",
       "stream": "stdout",
       "text": [
        "May-2014 "
       ]
      },
      {
       "output_type": "stream",
       "stream": "stdout",
       "text": [
        "June-2014 "
       ]
      },
      {
       "output_type": "stream",
       "stream": "stdout",
       "text": [
        "July-2014 "
       ]
      },
      {
       "output_type": "stream",
       "stream": "stdout",
       "text": [
        "August-2014 "
       ]
      },
      {
       "output_type": "stream",
       "stream": "stdout",
       "text": [
        "September-2014 "
       ]
      },
      {
       "output_type": "stream",
       "stream": "stdout",
       "text": [
        "October-2014 "
       ]
      },
      {
       "output_type": "stream",
       "stream": "stdout",
       "text": [
        "November-2014 "
       ]
      },
      {
       "output_type": "stream",
       "stream": "stdout",
       "text": [
        "December-2014 "
       ]
      },
      {
       "output_type": "stream",
       "stream": "stdout",
       "text": [
        "January-2015 "
       ]
      },
      {
       "output_type": "stream",
       "stream": "stdout",
       "text": [
        "February-2015 "
       ]
      },
      {
       "output_type": "stream",
       "stream": "stdout",
       "text": [
        "concatenating image\n",
        "movies"
       ]
      },
      {
       "output_type": "stream",
       "stream": "stdout",
       "text": [
        "\n",
        "making word clouds : "
       ]
      },
      {
       "output_type": "stream",
       "stream": "stdout",
       "text": [
        "\n",
        "January-2014 "
       ]
      },
      {
       "output_type": "stream",
       "stream": "stdout",
       "text": [
        "February-2014 "
       ]
      },
      {
       "output_type": "stream",
       "stream": "stdout",
       "text": [
        "March-2014 "
       ]
      },
      {
       "output_type": "stream",
       "stream": "stdout",
       "text": [
        "April-2014 "
       ]
      },
      {
       "output_type": "stream",
       "stream": "stdout",
       "text": [
        "May-2014 "
       ]
      },
      {
       "output_type": "stream",
       "stream": "stdout",
       "text": [
        "June-2014 "
       ]
      },
      {
       "output_type": "stream",
       "stream": "stdout",
       "text": [
        "July-2014 "
       ]
      },
      {
       "output_type": "stream",
       "stream": "stdout",
       "text": [
        "August-2014 "
       ]
      },
      {
       "output_type": "stream",
       "stream": "stdout",
       "text": [
        "September-2014 "
       ]
      },
      {
       "output_type": "stream",
       "stream": "stdout",
       "text": [
        "October-2014 "
       ]
      },
      {
       "output_type": "stream",
       "stream": "stdout",
       "text": [
        "November-2014 "
       ]
      },
      {
       "output_type": "stream",
       "stream": "stdout",
       "text": [
        "December-2014 "
       ]
      },
      {
       "output_type": "stream",
       "stream": "stdout",
       "text": [
        "January-2015 "
       ]
      },
      {
       "output_type": "stream",
       "stream": "stdout",
       "text": [
        "February-2015 "
       ]
      },
      {
       "output_type": "stream",
       "stream": "stdout",
       "text": [
        "concatenating image\n",
        "making word cloud for subreddit : "
       ]
      },
      {
       "output_type": "stream",
       "stream": "stdout",
       "text": [
        " IAmA\n",
        "getting scores"
       ]
      },
      {
       "output_type": "stream",
       "stream": "stdout",
       "text": [
        "\n",
        "IAmA"
       ]
      },
      {
       "output_type": "stream",
       "stream": "stdout",
       "text": [
        "\n",
        "making word clouds : "
       ]
      },
      {
       "output_type": "stream",
       "stream": "stdout",
       "text": [
        "\n",
        "January-2014 "
       ]
      },
      {
       "output_type": "stream",
       "stream": "stdout",
       "text": [
        "February-2014 "
       ]
      },
      {
       "output_type": "stream",
       "stream": "stdout",
       "text": [
        "March-2014 "
       ]
      },
      {
       "output_type": "stream",
       "stream": "stdout",
       "text": [
        "April-2014 "
       ]
      },
      {
       "output_type": "stream",
       "stream": "stdout",
       "text": [
        "May-2014 "
       ]
      },
      {
       "output_type": "stream",
       "stream": "stdout",
       "text": [
        "June-2014 "
       ]
      },
      {
       "output_type": "stream",
       "stream": "stdout",
       "text": [
        "July-2014 "
       ]
      },
      {
       "output_type": "stream",
       "stream": "stdout",
       "text": [
        "August-2014 "
       ]
      },
      {
       "output_type": "stream",
       "stream": "stdout",
       "text": [
        "September-2014 "
       ]
      },
      {
       "output_type": "stream",
       "stream": "stdout",
       "text": [
        "October-2014 "
       ]
      },
      {
       "output_type": "stream",
       "stream": "stdout",
       "text": [
        "November-2014 "
       ]
      },
      {
       "output_type": "stream",
       "stream": "stdout",
       "text": [
        "December-2014 "
       ]
      },
      {
       "output_type": "stream",
       "stream": "stdout",
       "text": [
        "January-2015 "
       ]
      },
      {
       "output_type": "stream",
       "stream": "stdout",
       "text": [
        "February-2015 "
       ]
      },
      {
       "output_type": "stream",
       "stream": "stdout",
       "text": [
        "concatenating image\n",
        "IAmA"
       ]
      },
      {
       "output_type": "stream",
       "stream": "stdout",
       "text": [
        "\n",
        "making word clouds : "
       ]
      },
      {
       "output_type": "stream",
       "stream": "stdout",
       "text": [
        "\n",
        "January-2014 "
       ]
      },
      {
       "output_type": "stream",
       "stream": "stdout",
       "text": [
        "February-2014 "
       ]
      },
      {
       "output_type": "stream",
       "stream": "stdout",
       "text": [
        "March-2014 "
       ]
      },
      {
       "output_type": "stream",
       "stream": "stdout",
       "text": [
        "April-2014 "
       ]
      },
      {
       "output_type": "stream",
       "stream": "stdout",
       "text": [
        "May-2014 "
       ]
      },
      {
       "output_type": "stream",
       "stream": "stdout",
       "text": [
        "June-2014 "
       ]
      },
      {
       "output_type": "stream",
       "stream": "stdout",
       "text": [
        "July-2014 "
       ]
      },
      {
       "output_type": "stream",
       "stream": "stdout",
       "text": [
        "August-2014 "
       ]
      },
      {
       "output_type": "stream",
       "stream": "stdout",
       "text": [
        "September-2014 "
       ]
      },
      {
       "output_type": "stream",
       "stream": "stdout",
       "text": [
        "October-2014 "
       ]
      },
      {
       "output_type": "stream",
       "stream": "stdout",
       "text": [
        "November-2014 "
       ]
      },
      {
       "output_type": "stream",
       "stream": "stdout",
       "text": [
        "December-2014 "
       ]
      },
      {
       "output_type": "stream",
       "stream": "stdout",
       "text": [
        "January-2015 "
       ]
      },
      {
       "output_type": "stream",
       "stream": "stdout",
       "text": [
        "February-2015 "
       ]
      },
      {
       "output_type": "stream",
       "stream": "stdout",
       "text": [
        "concatenating image\n",
        "making word cloud for subreddit : "
       ]
      },
      {
       "output_type": "stream",
       "stream": "stdout",
       "text": [
        " AdviceAnimals\n",
        "getting scores"
       ]
      },
      {
       "output_type": "stream",
       "stream": "stdout",
       "text": [
        "\n",
        "AdviceAnimals"
       ]
      },
      {
       "output_type": "stream",
       "stream": "stdout",
       "text": [
        "\n",
        "making word clouds : "
       ]
      },
      {
       "output_type": "stream",
       "stream": "stdout",
       "text": [
        "\n",
        "January-2014 "
       ]
      },
      {
       "output_type": "stream",
       "stream": "stdout",
       "text": [
        "February-2014 "
       ]
      },
      {
       "output_type": "stream",
       "stream": "stdout",
       "text": [
        "March-2014 "
       ]
      },
      {
       "output_type": "stream",
       "stream": "stdout",
       "text": [
        "April-2014 "
       ]
      },
      {
       "output_type": "stream",
       "stream": "stdout",
       "text": [
        "May-2014 "
       ]
      },
      {
       "output_type": "stream",
       "stream": "stdout",
       "text": [
        "June-2014 "
       ]
      },
      {
       "output_type": "stream",
       "stream": "stdout",
       "text": [
        "July-2014 "
       ]
      },
      {
       "output_type": "stream",
       "stream": "stdout",
       "text": [
        "August-2014 "
       ]
      },
      {
       "output_type": "stream",
       "stream": "stdout",
       "text": [
        "September-2014 "
       ]
      },
      {
       "output_type": "stream",
       "stream": "stdout",
       "text": [
        "October-2014 "
       ]
      },
      {
       "output_type": "stream",
       "stream": "stdout",
       "text": [
        "February-2015 "
       ]
      },
      {
       "output_type": "stream",
       "stream": "stdout",
       "text": [
        "concatenating image\n",
        "AdviceAnimals"
       ]
      },
      {
       "output_type": "stream",
       "stream": "stdout",
       "text": [
        "\n",
        "making word clouds : "
       ]
      },
      {
       "output_type": "stream",
       "stream": "stdout",
       "text": [
        "\n",
        "January-2014 "
       ]
      },
      {
       "output_type": "stream",
       "stream": "stdout",
       "text": [
        "February-2014 "
       ]
      },
      {
       "output_type": "stream",
       "stream": "stdout",
       "text": [
        "March-2014 "
       ]
      },
      {
       "output_type": "stream",
       "stream": "stdout",
       "text": [
        "April-2014 "
       ]
      },
      {
       "output_type": "stream",
       "stream": "stdout",
       "text": [
        "May-2014 "
       ]
      },
      {
       "output_type": "stream",
       "stream": "stdout",
       "text": [
        "June-2014 "
       ]
      },
      {
       "output_type": "stream",
       "stream": "stdout",
       "text": [
        "July-2014 "
       ]
      },
      {
       "output_type": "stream",
       "stream": "stdout",
       "text": [
        "August-2014 "
       ]
      },
      {
       "output_type": "stream",
       "stream": "stdout",
       "text": [
        "September-2014 "
       ]
      },
      {
       "output_type": "stream",
       "stream": "stdout",
       "text": [
        "October-2014 "
       ]
      },
      {
       "output_type": "stream",
       "stream": "stdout",
       "text": [
        "February-2015 "
       ]
      },
      {
       "output_type": "stream",
       "stream": "stdout",
       "text": [
        "concatenating image\n",
        "making word cloud for subreddit : "
       ]
      },
      {
       "output_type": "stream",
       "stream": "stdout",
       "text": [
        " explainlikeimfive\n",
        "getting scores"
       ]
      },
      {
       "output_type": "stream",
       "stream": "stdout",
       "text": [
        "\n",
        "explainlikeimfive"
       ]
      },
      {
       "output_type": "stream",
       "stream": "stdout",
       "text": [
        "\n",
        "making word clouds : "
       ]
      },
      {
       "output_type": "stream",
       "stream": "stdout",
       "text": [
        "\n",
        "January-2014 "
       ]
      },
      {
       "output_type": "stream",
       "stream": "stdout",
       "text": [
        "February-2014 "
       ]
      },
      {
       "output_type": "stream",
       "stream": "stdout",
       "text": [
        "March-2014 "
       ]
      },
      {
       "output_type": "stream",
       "stream": "stdout",
       "text": [
        "April-2014 "
       ]
      },
      {
       "output_type": "stream",
       "stream": "stdout",
       "text": [
        "May-2014 "
       ]
      },
      {
       "output_type": "stream",
       "stream": "stdout",
       "text": [
        "June-2014 "
       ]
      },
      {
       "output_type": "stream",
       "stream": "stdout",
       "text": [
        "July-2014 "
       ]
      },
      {
       "output_type": "stream",
       "stream": "stdout",
       "text": [
        "August-2014 "
       ]
      },
      {
       "output_type": "stream",
       "stream": "stdout",
       "text": [
        "September-2014 "
       ]
      },
      {
       "output_type": "stream",
       "stream": "stdout",
       "text": [
        "October-2014 "
       ]
      },
      {
       "output_type": "stream",
       "stream": "stdout",
       "text": [
        "November-2014 "
       ]
      },
      {
       "output_type": "stream",
       "stream": "stdout",
       "text": [
        "December-2014 "
       ]
      },
      {
       "output_type": "stream",
       "stream": "stdout",
       "text": [
        "January-2015 "
       ]
      },
      {
       "output_type": "stream",
       "stream": "stdout",
       "text": [
        "February-2015 "
       ]
      },
      {
       "output_type": "stream",
       "stream": "stdout",
       "text": [
        "concatenating image\n",
        "explainlikeimfive"
       ]
      },
      {
       "output_type": "stream",
       "stream": "stdout",
       "text": [
        "\n",
        "making word clouds : "
       ]
      },
      {
       "output_type": "stream",
       "stream": "stdout",
       "text": [
        "\n",
        "January-2014 "
       ]
      },
      {
       "output_type": "stream",
       "stream": "stdout",
       "text": [
        "February-2014 "
       ]
      },
      {
       "output_type": "stream",
       "stream": "stdout",
       "text": [
        "March-2014 "
       ]
      },
      {
       "output_type": "stream",
       "stream": "stdout",
       "text": [
        "April-2014 "
       ]
      },
      {
       "output_type": "stream",
       "stream": "stdout",
       "text": [
        "May-2014 "
       ]
      },
      {
       "output_type": "stream",
       "stream": "stdout",
       "text": [
        "June-2014 "
       ]
      },
      {
       "output_type": "stream",
       "stream": "stdout",
       "text": [
        "July-2014 "
       ]
      },
      {
       "output_type": "stream",
       "stream": "stdout",
       "text": [
        "August-2014 "
       ]
      },
      {
       "output_type": "stream",
       "stream": "stdout",
       "text": [
        "September-2014 "
       ]
      },
      {
       "output_type": "stream",
       "stream": "stdout",
       "text": [
        "October-2014 "
       ]
      },
      {
       "output_type": "stream",
       "stream": "stdout",
       "text": [
        "November-2014 "
       ]
      },
      {
       "output_type": "stream",
       "stream": "stdout",
       "text": [
        "December-2014 "
       ]
      },
      {
       "output_type": "stream",
       "stream": "stdout",
       "text": [
        "January-2015 "
       ]
      },
      {
       "output_type": "stream",
       "stream": "stdout",
       "text": [
        "February-2015 "
       ]
      },
      {
       "output_type": "stream",
       "stream": "stdout",
       "text": [
        "concatenating image\n",
        "making word cloud for subreddit : "
       ]
      },
      {
       "output_type": "stream",
       "stream": "stdout",
       "text": [
        " mildlyinteresting\n",
        "getting scores"
       ]
      },
      {
       "output_type": "stream",
       "stream": "stdout",
       "text": [
        "\n",
        "mildlyinteresting"
       ]
      },
      {
       "output_type": "stream",
       "stream": "stdout",
       "text": [
        "\n",
        "making word clouds : "
       ]
      },
      {
       "output_type": "stream",
       "stream": "stdout",
       "text": [
        "\n",
        "January-2014 "
       ]
      },
      {
       "output_type": "stream",
       "stream": "stdout",
       "text": [
        "February-2014 "
       ]
      },
      {
       "output_type": "stream",
       "stream": "stdout",
       "text": [
        "March-2014 "
       ]
      },
      {
       "output_type": "stream",
       "stream": "stdout",
       "text": [
        "April-2014 "
       ]
      },
      {
       "output_type": "stream",
       "stream": "stdout",
       "text": [
        "May-2014 "
       ]
      },
      {
       "output_type": "stream",
       "stream": "stdout",
       "text": [
        "June-2014 "
       ]
      },
      {
       "output_type": "stream",
       "stream": "stdout",
       "text": [
        "July-2014 "
       ]
      },
      {
       "output_type": "stream",
       "stream": "stdout",
       "text": [
        "August-2014 "
       ]
      },
      {
       "output_type": "stream",
       "stream": "stdout",
       "text": [
        "September-2014 "
       ]
      },
      {
       "output_type": "stream",
       "stream": "stdout",
       "text": [
        "October-2014 "
       ]
      },
      {
       "output_type": "stream",
       "stream": "stdout",
       "text": [
        "November-2014 "
       ]
      },
      {
       "output_type": "stream",
       "stream": "stdout",
       "text": [
        "December-2014 "
       ]
      },
      {
       "output_type": "stream",
       "stream": "stdout",
       "text": [
        "January-2015 "
       ]
      },
      {
       "output_type": "stream",
       "stream": "stdout",
       "text": [
        "February-2015 "
       ]
      },
      {
       "output_type": "stream",
       "stream": "stdout",
       "text": [
        "concatenating image\n",
        "mildlyinteresting"
       ]
      },
      {
       "output_type": "stream",
       "stream": "stdout",
       "text": [
        "\n",
        "making word clouds : "
       ]
      },
      {
       "output_type": "stream",
       "stream": "stdout",
       "text": [
        "\n",
        "January-2014 "
       ]
      },
      {
       "output_type": "stream",
       "stream": "stdout",
       "text": [
        "February-2014 "
       ]
      },
      {
       "output_type": "stream",
       "stream": "stdout",
       "text": [
        "March-2014 "
       ]
      },
      {
       "output_type": "stream",
       "stream": "stdout",
       "text": [
        "April-2014 "
       ]
      },
      {
       "output_type": "stream",
       "stream": "stdout",
       "text": [
        "May-2014 "
       ]
      },
      {
       "output_type": "stream",
       "stream": "stdout",
       "text": [
        "June-2014 "
       ]
      },
      {
       "output_type": "stream",
       "stream": "stdout",
       "text": [
        "July-2014 "
       ]
      },
      {
       "output_type": "stream",
       "stream": "stdout",
       "text": [
        "August-2014 "
       ]
      },
      {
       "output_type": "stream",
       "stream": "stdout",
       "text": [
        "September-2014 "
       ]
      },
      {
       "output_type": "stream",
       "stream": "stdout",
       "text": [
        "October-2014 "
       ]
      },
      {
       "output_type": "stream",
       "stream": "stdout",
       "text": [
        "November-2014 "
       ]
      },
      {
       "output_type": "stream",
       "stream": "stdout",
       "text": [
        "December-2014 "
       ]
      },
      {
       "output_type": "stream",
       "stream": "stdout",
       "text": [
        "January-2015 "
       ]
      },
      {
       "output_type": "stream",
       "stream": "stdout",
       "text": [
        "February-2015 "
       ]
      },
      {
       "output_type": "stream",
       "stream": "stdout",
       "text": [
        "concatenating image\n",
        "making word cloud for subreddit : "
       ]
      },
      {
       "output_type": "stream",
       "stream": "stdout",
       "text": [
        " Music\n",
        "getting scores"
       ]
      },
      {
       "output_type": "stream",
       "stream": "stdout",
       "text": [
        "\n",
        "Music"
       ]
      },
      {
       "output_type": "stream",
       "stream": "stdout",
       "text": [
        "\n",
        "making word clouds : "
       ]
      },
      {
       "output_type": "stream",
       "stream": "stdout",
       "text": [
        "\n",
        "January-2014 "
       ]
      },
      {
       "output_type": "stream",
       "stream": "stdout",
       "text": [
        "February-2014 "
       ]
      },
      {
       "output_type": "stream",
       "stream": "stdout",
       "text": [
        "March-2014 "
       ]
      },
      {
       "output_type": "stream",
       "stream": "stdout",
       "text": [
        "April-2014 "
       ]
      },
      {
       "output_type": "stream",
       "stream": "stdout",
       "text": [
        "May-2014 "
       ]
      },
      {
       "output_type": "stream",
       "stream": "stdout",
       "text": [
        "June-2014 "
       ]
      },
      {
       "output_type": "stream",
       "stream": "stdout",
       "text": [
        "July-2014 "
       ]
      },
      {
       "output_type": "stream",
       "stream": "stdout",
       "text": [
        "August-2014 "
       ]
      },
      {
       "output_type": "stream",
       "stream": "stdout",
       "text": [
        "September-2014 "
       ]
      },
      {
       "output_type": "stream",
       "stream": "stdout",
       "text": [
        "October-2014 "
       ]
      },
      {
       "output_type": "stream",
       "stream": "stdout",
       "text": [
        "November-2014 "
       ]
      },
      {
       "output_type": "stream",
       "stream": "stdout",
       "text": [
        "December-2014 "
       ]
      },
      {
       "output_type": "stream",
       "stream": "stdout",
       "text": [
        "January-2015 "
       ]
      },
      {
       "output_type": "stream",
       "stream": "stdout",
       "text": [
        "February-2015 "
       ]
      },
      {
       "output_type": "stream",
       "stream": "stdout",
       "text": [
        "concatenating image\n",
        "Music"
       ]
      },
      {
       "output_type": "stream",
       "stream": "stdout",
       "text": [
        "\n",
        "making word clouds : "
       ]
      },
      {
       "output_type": "stream",
       "stream": "stdout",
       "text": [
        "\n",
        "January-2014 "
       ]
      },
      {
       "output_type": "stream",
       "stream": "stdout",
       "text": [
        "February-2014 "
       ]
      },
      {
       "output_type": "stream",
       "stream": "stdout",
       "text": [
        "March-2014 "
       ]
      },
      {
       "output_type": "stream",
       "stream": "stdout",
       "text": [
        "April-2014 "
       ]
      },
      {
       "output_type": "stream",
       "stream": "stdout",
       "text": [
        "May-2014 "
       ]
      },
      {
       "output_type": "stream",
       "stream": "stdout",
       "text": [
        "June-2014 "
       ]
      },
      {
       "output_type": "stream",
       "stream": "stdout",
       "text": [
        "July-2014 "
       ]
      },
      {
       "output_type": "stream",
       "stream": "stdout",
       "text": [
        "August-2014 "
       ]
      },
      {
       "output_type": "stream",
       "stream": "stdout",
       "text": [
        "September-2014 "
       ]
      },
      {
       "output_type": "stream",
       "stream": "stdout",
       "text": [
        "October-2014 "
       ]
      },
      {
       "output_type": "stream",
       "stream": "stdout",
       "text": [
        "November-2014 "
       ]
      },
      {
       "output_type": "stream",
       "stream": "stdout",
       "text": [
        "December-2014 "
       ]
      },
      {
       "output_type": "stream",
       "stream": "stdout",
       "text": [
        "January-2015 "
       ]
      },
      {
       "output_type": "stream",
       "stream": "stdout",
       "text": [
        "February-2015 "
       ]
      },
      {
       "output_type": "stream",
       "stream": "stdout",
       "text": [
        "concatenating image\n",
        "making word cloud for subreddit : "
       ]
      },
      {
       "output_type": "stream",
       "stream": "stdout",
       "text": [
        " Showerthoughts\n",
        "getting scores"
       ]
      },
      {
       "output_type": "stream",
       "stream": "stdout",
       "text": [
        "\n",
        "Showerthoughts"
       ]
      },
      {
       "output_type": "stream",
       "stream": "stdout",
       "text": [
        "\n",
        "making word clouds : "
       ]
      },
      {
       "output_type": "stream",
       "stream": "stdout",
       "text": [
        "\n",
        "January-2014 "
       ]
      },
      {
       "output_type": "stream",
       "stream": "stdout",
       "text": [
        "May-2014 "
       ]
      },
      {
       "output_type": "stream",
       "stream": "stdout",
       "text": [
        "June-2014 "
       ]
      },
      {
       "output_type": "stream",
       "stream": "stdout",
       "text": [
        "July-2014 "
       ]
      },
      {
       "output_type": "stream",
       "stream": "stdout",
       "text": [
        "August-2014 "
       ]
      },
      {
       "output_type": "stream",
       "stream": "stdout",
       "text": [
        "September-2014 "
       ]
      },
      {
       "output_type": "stream",
       "stream": "stdout",
       "text": [
        "October-2014 "
       ]
      },
      {
       "output_type": "stream",
       "stream": "stdout",
       "text": [
        "November-2014 "
       ]
      },
      {
       "output_type": "stream",
       "stream": "stdout",
       "text": [
        "December-2014 "
       ]
      },
      {
       "output_type": "stream",
       "stream": "stdout",
       "text": [
        "January-2015 "
       ]
      },
      {
       "output_type": "stream",
       "stream": "stdout",
       "text": [
        "February-2015 "
       ]
      },
      {
       "output_type": "stream",
       "stream": "stdout",
       "text": [
        "concatenating image\n",
        "Showerthoughts"
       ]
      },
      {
       "output_type": "stream",
       "stream": "stdout",
       "text": [
        "\n",
        "making word clouds : "
       ]
      },
      {
       "output_type": "stream",
       "stream": "stdout",
       "text": [
        "\n",
        "January-2014 "
       ]
      },
      {
       "output_type": "stream",
       "stream": "stdout",
       "text": [
        "May-2014 "
       ]
      },
      {
       "output_type": "stream",
       "stream": "stdout",
       "text": [
        "June-2014 "
       ]
      },
      {
       "output_type": "stream",
       "stream": "stdout",
       "text": [
        "July-2014 "
       ]
      },
      {
       "output_type": "stream",
       "stream": "stdout",
       "text": [
        "August-2014 "
       ]
      },
      {
       "output_type": "stream",
       "stream": "stdout",
       "text": [
        "September-2014 "
       ]
      },
      {
       "output_type": "stream",
       "stream": "stdout",
       "text": [
        "October-2014 "
       ]
      },
      {
       "output_type": "stream",
       "stream": "stdout",
       "text": [
        "November-2014 "
       ]
      },
      {
       "output_type": "stream",
       "stream": "stdout",
       "text": [
        "December-2014 "
       ]
      },
      {
       "output_type": "stream",
       "stream": "stdout",
       "text": [
        "January-2015 "
       ]
      },
      {
       "output_type": "stream",
       "stream": "stdout",
       "text": [
        "February-2015 "
       ]
      },
      {
       "output_type": "stream",
       "stream": "stdout",
       "text": [
        "concatenating image\n",
        "making word cloud for subreddit : "
       ]
      },
      {
       "output_type": "stream",
       "stream": "stdout",
       "text": [
        " television\n",
        "getting scores"
       ]
      },
      {
       "output_type": "stream",
       "stream": "stdout",
       "text": [
        "\n",
        "television"
       ]
      },
      {
       "output_type": "stream",
       "stream": "stdout",
       "text": [
        "\n",
        "making word clouds : "
       ]
      },
      {
       "output_type": "stream",
       "stream": "stdout",
       "text": [
        "\n",
        "January-2014 "
       ]
      },
      {
       "output_type": "stream",
       "stream": "stdout",
       "text": [
        "February-2014 "
       ]
      },
      {
       "output_type": "stream",
       "stream": "stdout",
       "text": [
        "March-2014 "
       ]
      },
      {
       "output_type": "stream",
       "stream": "stdout",
       "text": [
        "April-2014 "
       ]
      },
      {
       "output_type": "stream",
       "stream": "stdout",
       "text": [
        "May-2014 "
       ]
      },
      {
       "output_type": "stream",
       "stream": "stdout",
       "text": [
        "June-2014 "
       ]
      },
      {
       "output_type": "stream",
       "stream": "stdout",
       "text": [
        "July-2014 "
       ]
      },
      {
       "output_type": "stream",
       "stream": "stdout",
       "text": [
        "August-2014 "
       ]
      },
      {
       "output_type": "stream",
       "stream": "stdout",
       "text": [
        "September-2014 "
       ]
      },
      {
       "output_type": "stream",
       "stream": "stdout",
       "text": [
        "October-2014 "
       ]
      },
      {
       "output_type": "stream",
       "stream": "stdout",
       "text": [
        "November-2014 "
       ]
      },
      {
       "output_type": "stream",
       "stream": "stdout",
       "text": [
        "December-2014 "
       ]
      },
      {
       "output_type": "stream",
       "stream": "stdout",
       "text": [
        "January-2015 "
       ]
      },
      {
       "output_type": "stream",
       "stream": "stdout",
       "text": [
        "February-2015 "
       ]
      },
      {
       "output_type": "stream",
       "stream": "stdout",
       "text": [
        "concatenating image\n",
        "television"
       ]
      },
      {
       "output_type": "stream",
       "stream": "stdout",
       "text": [
        "\n",
        "making word clouds : "
       ]
      },
      {
       "output_type": "stream",
       "stream": "stdout",
       "text": [
        "\n",
        "January-2014 "
       ]
      },
      {
       "output_type": "stream",
       "stream": "stdout",
       "text": [
        "February-2014 "
       ]
      },
      {
       "output_type": "stream",
       "stream": "stdout",
       "text": [
        "March-2014 "
       ]
      },
      {
       "output_type": "stream",
       "stream": "stdout",
       "text": [
        "April-2014 "
       ]
      },
      {
       "output_type": "stream",
       "stream": "stdout",
       "text": [
        "May-2014 "
       ]
      },
      {
       "output_type": "stream",
       "stream": "stdout",
       "text": [
        "June-2014 "
       ]
      },
      {
       "output_type": "stream",
       "stream": "stdout",
       "text": [
        "July-2014 "
       ]
      },
      {
       "output_type": "stream",
       "stream": "stdout",
       "text": [
        "August-2014 "
       ]
      },
      {
       "output_type": "stream",
       "stream": "stdout",
       "text": [
        "September-2014 "
       ]
      },
      {
       "output_type": "stream",
       "stream": "stdout",
       "text": [
        "October-2014 "
       ]
      },
      {
       "output_type": "stream",
       "stream": "stdout",
       "text": [
        "November-2014 "
       ]
      },
      {
       "output_type": "stream",
       "stream": "stdout",
       "text": [
        "December-2014 "
       ]
      },
      {
       "output_type": "stream",
       "stream": "stdout",
       "text": [
        "January-2015 "
       ]
      },
      {
       "output_type": "stream",
       "stream": "stdout",
       "text": [
        "February-2015 "
       ]
      },
      {
       "output_type": "stream",
       "stream": "stdout",
       "text": [
        "concatenating image\n",
        "making word cloud for subreddit : "
       ]
      },
      {
       "output_type": "stream",
       "stream": "stdout",
       "text": [
        " books\n",
        "getting scores"
       ]
      },
      {
       "output_type": "stream",
       "stream": "stdout",
       "text": [
        "\n",
        "books"
       ]
      },
      {
       "output_type": "stream",
       "stream": "stdout",
       "text": [
        "\n",
        "making word clouds : "
       ]
      },
      {
       "output_type": "stream",
       "stream": "stdout",
       "text": [
        "\n",
        "January-2014 "
       ]
      },
      {
       "output_type": "stream",
       "stream": "stdout",
       "text": [
        "February-2014 "
       ]
      },
      {
       "output_type": "stream",
       "stream": "stdout",
       "text": [
        "March-2014 "
       ]
      },
      {
       "output_type": "stream",
       "stream": "stdout",
       "text": [
        "April-2014 "
       ]
      },
      {
       "output_type": "stream",
       "stream": "stdout",
       "text": [
        "May-2014 "
       ]
      },
      {
       "output_type": "stream",
       "stream": "stdout",
       "text": [
        "June-2014 "
       ]
      },
      {
       "output_type": "stream",
       "stream": "stdout",
       "text": [
        "July-2014 "
       ]
      },
      {
       "output_type": "stream",
       "stream": "stdout",
       "text": [
        "August-2014 "
       ]
      },
      {
       "output_type": "stream",
       "stream": "stdout",
       "text": [
        "September-2014 "
       ]
      },
      {
       "output_type": "stream",
       "stream": "stdout",
       "text": [
        "October-2014 "
       ]
      },
      {
       "output_type": "stream",
       "stream": "stdout",
       "text": [
        "November-2014 "
       ]
      },
      {
       "output_type": "stream",
       "stream": "stdout",
       "text": [
        "December-2014 "
       ]
      },
      {
       "output_type": "stream",
       "stream": "stdout",
       "text": [
        "January-2015 "
       ]
      },
      {
       "output_type": "stream",
       "stream": "stdout",
       "text": [
        "February-2015 "
       ]
      },
      {
       "output_type": "stream",
       "stream": "stdout",
       "text": [
        "concatenating image\n",
        "books"
       ]
      },
      {
       "output_type": "stream",
       "stream": "stdout",
       "text": [
        "\n",
        "making word clouds : "
       ]
      },
      {
       "output_type": "stream",
       "stream": "stdout",
       "text": [
        "\n",
        "January-2014 "
       ]
      },
      {
       "output_type": "stream",
       "stream": "stdout",
       "text": [
        "February-2014 "
       ]
      },
      {
       "output_type": "stream",
       "stream": "stdout",
       "text": [
        "March-2014 "
       ]
      },
      {
       "output_type": "stream",
       "stream": "stdout",
       "text": [
        "April-2014 "
       ]
      },
      {
       "output_type": "stream",
       "stream": "stdout",
       "text": [
        "May-2014 "
       ]
      },
      {
       "output_type": "stream",
       "stream": "stdout",
       "text": [
        "June-2014 "
       ]
      },
      {
       "output_type": "stream",
       "stream": "stdout",
       "text": [
        "July-2014 "
       ]
      },
      {
       "output_type": "stream",
       "stream": "stdout",
       "text": [
        "August-2014 "
       ]
      },
      {
       "output_type": "stream",
       "stream": "stdout",
       "text": [
        "September-2014 "
       ]
      },
      {
       "output_type": "stream",
       "stream": "stdout",
       "text": [
        "October-2014 "
       ]
      },
      {
       "output_type": "stream",
       "stream": "stdout",
       "text": [
        "November-2014 "
       ]
      },
      {
       "output_type": "stream",
       "stream": "stdout",
       "text": [
        "December-2014 "
       ]
      },
      {
       "output_type": "stream",
       "stream": "stdout",
       "text": [
        "January-2015 "
       ]
      },
      {
       "output_type": "stream",
       "stream": "stdout",
       "text": [
        "February-2015 "
       ]
      },
      {
       "output_type": "stream",
       "stream": "stdout",
       "text": [
        "concatenating image\n",
        "making word cloud for subreddit : "
       ]
      },
      {
       "output_type": "stream",
       "stream": "stdout",
       "text": [
        " askscience\n",
        "getting scores"
       ]
      },
      {
       "output_type": "stream",
       "stream": "stdout",
       "text": [
        "\n",
        "askscience"
       ]
      },
      {
       "output_type": "stream",
       "stream": "stdout",
       "text": [
        "\n",
        "making word clouds : "
       ]
      },
      {
       "output_type": "stream",
       "stream": "stdout",
       "text": [
        "\n",
        "January-2014 "
       ]
      },
      {
       "output_type": "stream",
       "stream": "stdout",
       "text": [
        "February-2014 "
       ]
      },
      {
       "output_type": "stream",
       "stream": "stdout",
       "text": [
        "March-2014 "
       ]
      },
      {
       "output_type": "stream",
       "stream": "stdout",
       "text": [
        "April-2014 "
       ]
      },
      {
       "output_type": "stream",
       "stream": "stdout",
       "text": [
        "May-2014 "
       ]
      },
      {
       "output_type": "stream",
       "stream": "stdout",
       "text": [
        "June-2014 "
       ]
      },
      {
       "output_type": "stream",
       "stream": "stdout",
       "text": [
        "July-2014 "
       ]
      },
      {
       "output_type": "stream",
       "stream": "stdout",
       "text": [
        "August-2014 "
       ]
      },
      {
       "output_type": "stream",
       "stream": "stdout",
       "text": [
        "September-2014 "
       ]
      },
      {
       "output_type": "stream",
       "stream": "stdout",
       "text": [
        "October-2014 "
       ]
      },
      {
       "output_type": "stream",
       "stream": "stdout",
       "text": [
        "November-2014 "
       ]
      },
      {
       "output_type": "stream",
       "stream": "stdout",
       "text": [
        "December-2014 "
       ]
      },
      {
       "output_type": "stream",
       "stream": "stdout",
       "text": [
        "January-2015 "
       ]
      },
      {
       "output_type": "stream",
       "stream": "stdout",
       "text": [
        "February-2015 "
       ]
      },
      {
       "output_type": "stream",
       "stream": "stdout",
       "text": [
        "concatenating image\n",
        "askscience"
       ]
      },
      {
       "output_type": "stream",
       "stream": "stdout",
       "text": [
        "\n",
        "making word clouds : "
       ]
      },
      {
       "output_type": "stream",
       "stream": "stdout",
       "text": [
        "\n",
        "January-2014 "
       ]
      },
      {
       "output_type": "stream",
       "stream": "stdout",
       "text": [
        "February-2014 "
       ]
      },
      {
       "output_type": "stream",
       "stream": "stdout",
       "text": [
        "March-2014 "
       ]
      },
      {
       "output_type": "stream",
       "stream": "stdout",
       "text": [
        "April-2014 "
       ]
      },
      {
       "output_type": "stream",
       "stream": "stdout",
       "text": [
        "May-2014 "
       ]
      },
      {
       "output_type": "stream",
       "stream": "stdout",
       "text": [
        "June-2014 "
       ]
      },
      {
       "output_type": "stream",
       "stream": "stdout",
       "text": [
        "July-2014 "
       ]
      },
      {
       "output_type": "stream",
       "stream": "stdout",
       "text": [
        "August-2014 "
       ]
      },
      {
       "output_type": "stream",
       "stream": "stdout",
       "text": [
        "September-2014 "
       ]
      },
      {
       "output_type": "stream",
       "stream": "stdout",
       "text": [
        "October-2014 "
       ]
      },
      {
       "output_type": "stream",
       "stream": "stdout",
       "text": [
        "November-2014 "
       ]
      },
      {
       "output_type": "stream",
       "stream": "stdout",
       "text": [
        "December-2014 "
       ]
      },
      {
       "output_type": "stream",
       "stream": "stdout",
       "text": [
        "January-2015 "
       ]
      },
      {
       "output_type": "stream",
       "stream": "stdout",
       "text": [
        "February-2015 "
       ]
      },
      {
       "output_type": "stream",
       "stream": "stdout",
       "text": [
        "concatenating image\n",
        "making word cloud for subreddit : "
       ]
      },
      {
       "output_type": "stream",
       "stream": "stdout",
       "text": [
        " EarthPorn\n",
        "getting scores"
       ]
      },
      {
       "output_type": "stream",
       "stream": "stdout",
       "text": [
        "\n",
        "EarthPorn"
       ]
      },
      {
       "output_type": "stream",
       "stream": "stdout",
       "text": [
        "\n",
        "making word clouds : "
       ]
      },
      {
       "output_type": "stream",
       "stream": "stdout",
       "text": [
        "\n",
        "January-2014 "
       ]
      },
      {
       "output_type": "stream",
       "stream": "stdout",
       "text": [
        "February-2014 "
       ]
      },
      {
       "output_type": "stream",
       "stream": "stdout",
       "text": [
        "March-2014 "
       ]
      },
      {
       "output_type": "stream",
       "stream": "stdout",
       "text": [
        "April-2014 "
       ]
      },
      {
       "output_type": "stream",
       "stream": "stdout",
       "text": [
        "May-2014 "
       ]
      },
      {
       "output_type": "stream",
       "stream": "stdout",
       "text": [
        "June-2014 "
       ]
      },
      {
       "output_type": "stream",
       "stream": "stdout",
       "text": [
        "July-2014 "
       ]
      },
      {
       "output_type": "stream",
       "stream": "stdout",
       "text": [
        "August-2014 "
       ]
      },
      {
       "output_type": "stream",
       "stream": "stdout",
       "text": [
        "September-2014 "
       ]
      },
      {
       "output_type": "stream",
       "stream": "stdout",
       "text": [
        "October-2014 "
       ]
      },
      {
       "output_type": "stream",
       "stream": "stdout",
       "text": [
        "November-2014 "
       ]
      },
      {
       "output_type": "stream",
       "stream": "stdout",
       "text": [
        "December-2014 "
       ]
      },
      {
       "output_type": "stream",
       "stream": "stdout",
       "text": [
        "January-2015 "
       ]
      },
      {
       "output_type": "stream",
       "stream": "stdout",
       "text": [
        "February-2015 "
       ]
      },
      {
       "output_type": "stream",
       "stream": "stdout",
       "text": [
        "concatenating image\n",
        "EarthPorn"
       ]
      },
      {
       "output_type": "stream",
       "stream": "stdout",
       "text": [
        "\n",
        "making word clouds : "
       ]
      },
      {
       "output_type": "stream",
       "stream": "stdout",
       "text": [
        "\n",
        "January-2014 "
       ]
      },
      {
       "output_type": "stream",
       "stream": "stdout",
       "text": [
        "February-2014 "
       ]
      },
      {
       "output_type": "stream",
       "stream": "stdout",
       "text": [
        "March-2014 "
       ]
      },
      {
       "output_type": "stream",
       "stream": "stdout",
       "text": [
        "April-2014 "
       ]
      },
      {
       "output_type": "stream",
       "stream": "stdout",
       "text": [
        "May-2014 "
       ]
      },
      {
       "output_type": "stream",
       "stream": "stdout",
       "text": [
        "June-2014 "
       ]
      },
      {
       "output_type": "stream",
       "stream": "stdout",
       "text": [
        "July-2014 "
       ]
      },
      {
       "output_type": "stream",
       "stream": "stdout",
       "text": [
        "August-2014 "
       ]
      },
      {
       "output_type": "stream",
       "stream": "stdout",
       "text": [
        "September-2014 "
       ]
      },
      {
       "output_type": "stream",
       "stream": "stdout",
       "text": [
        "October-2014 "
       ]
      },
      {
       "output_type": "stream",
       "stream": "stdout",
       "text": [
        "November-2014 "
       ]
      },
      {
       "output_type": "stream",
       "stream": "stdout",
       "text": [
        "December-2014 "
       ]
      },
      {
       "output_type": "stream",
       "stream": "stdout",
       "text": [
        "January-2015 "
       ]
      },
      {
       "output_type": "stream",
       "stream": "stdout",
       "text": [
        "February-2015 "
       ]
      },
      {
       "output_type": "stream",
       "stream": "stdout",
       "text": [
        "concatenating image\n",
        "making word cloud for subreddit : "
       ]
      },
      {
       "output_type": "stream",
       "stream": "stdout",
       "text": [
        " nottheonion\n",
        "getting scores"
       ]
      },
      {
       "output_type": "stream",
       "stream": "stdout",
       "text": [
        "\n",
        "nottheonion"
       ]
      },
      {
       "output_type": "stream",
       "stream": "stdout",
       "text": [
        "\n",
        "making word clouds : "
       ]
      },
      {
       "output_type": "stream",
       "stream": "stdout",
       "text": [
        "\n",
        "January-2014 "
       ]
      },
      {
       "output_type": "stream",
       "stream": "stdout",
       "text": [
        "May-2014 "
       ]
      },
      {
       "output_type": "stream",
       "stream": "stdout",
       "text": [
        "June-2014 "
       ]
      },
      {
       "output_type": "stream",
       "stream": "stdout",
       "text": [
        "July-2014 "
       ]
      },
      {
       "output_type": "stream",
       "stream": "stdout",
       "text": [
        "August-2014 "
       ]
      },
      {
       "output_type": "stream",
       "stream": "stdout",
       "text": [
        "September-2014 "
       ]
      },
      {
       "output_type": "stream",
       "stream": "stdout",
       "text": [
        "October-2014 "
       ]
      },
      {
       "output_type": "stream",
       "stream": "stdout",
       "text": [
        "November-2014 "
       ]
      },
      {
       "output_type": "stream",
       "stream": "stdout",
       "text": [
        "December-2014 "
       ]
      },
      {
       "output_type": "stream",
       "stream": "stdout",
       "text": [
        "January-2015 "
       ]
      },
      {
       "output_type": "stream",
       "stream": "stdout",
       "text": [
        "February-2015 "
       ]
      },
      {
       "output_type": "stream",
       "stream": "stdout",
       "text": [
        "concatenating image\n",
        "nottheonion"
       ]
      },
      {
       "output_type": "stream",
       "stream": "stdout",
       "text": [
        "\n",
        "making word clouds : "
       ]
      },
      {
       "output_type": "stream",
       "stream": "stdout",
       "text": [
        "\n",
        "January-2014 "
       ]
      },
      {
       "output_type": "stream",
       "stream": "stdout",
       "text": [
        "May-2014 "
       ]
      },
      {
       "output_type": "stream",
       "stream": "stdout",
       "text": [
        "June-2014 "
       ]
      },
      {
       "output_type": "stream",
       "stream": "stdout",
       "text": [
        "July-2014 "
       ]
      },
      {
       "output_type": "stream",
       "stream": "stdout",
       "text": [
        "August-2014 "
       ]
      },
      {
       "output_type": "stream",
       "stream": "stdout",
       "text": [
        "September-2014 "
       ]
      },
      {
       "output_type": "stream",
       "stream": "stdout",
       "text": [
        "October-2014 "
       ]
      },
      {
       "output_type": "stream",
       "stream": "stdout",
       "text": [
        "November-2014 "
       ]
      },
      {
       "output_type": "stream",
       "stream": "stdout",
       "text": [
        "December-2014 "
       ]
      },
      {
       "output_type": "stream",
       "stream": "stdout",
       "text": [
        "January-2015 "
       ]
      },
      {
       "output_type": "stream",
       "stream": "stdout",
       "text": [
        "February-2015 "
       ]
      },
      {
       "output_type": "stream",
       "stream": "stdout",
       "text": [
        "concatenating image\n",
        "making word cloud for subreddit : "
       ]
      },
      {
       "output_type": "stream",
       "stream": "stdout",
       "text": [
        " LifeProTips\n",
        "getting scores"
       ]
      },
      {
       "output_type": "stream",
       "stream": "stdout",
       "text": [
        "\n",
        "LifeProTips"
       ]
      },
      {
       "output_type": "stream",
       "stream": "stdout",
       "text": [
        "\n",
        "making word clouds : "
       ]
      },
      {
       "output_type": "stream",
       "stream": "stdout",
       "text": [
        "\n",
        "January-2014 "
       ]
      },
      {
       "output_type": "stream",
       "stream": "stdout",
       "text": [
        "March-2014 "
       ]
      },
      {
       "output_type": "stream",
       "stream": "stdout",
       "text": [
        "April-2014 "
       ]
      },
      {
       "output_type": "stream",
       "stream": "stdout",
       "text": [
        "May-2014 "
       ]
      },
      {
       "output_type": "stream",
       "stream": "stdout",
       "text": [
        "June-2014 "
       ]
      },
      {
       "output_type": "stream",
       "stream": "stdout",
       "text": [
        "July-2014 "
       ]
      },
      {
       "output_type": "stream",
       "stream": "stdout",
       "text": [
        "August-2014 "
       ]
      },
      {
       "output_type": "stream",
       "stream": "stdout",
       "text": [
        "September-2014 "
       ]
      },
      {
       "output_type": "stream",
       "stream": "stdout",
       "text": [
        "October-2014 "
       ]
      },
      {
       "output_type": "stream",
       "stream": "stdout",
       "text": [
        "November-2014 "
       ]
      },
      {
       "output_type": "stream",
       "stream": "stdout",
       "text": [
        "December-2014 "
       ]
      },
      {
       "output_type": "stream",
       "stream": "stdout",
       "text": [
        "January-2015 "
       ]
      },
      {
       "output_type": "stream",
       "stream": "stdout",
       "text": [
        "February-2015 "
       ]
      },
      {
       "output_type": "stream",
       "stream": "stdout",
       "text": [
        "concatenating image\n",
        "LifeProTips"
       ]
      },
      {
       "output_type": "stream",
       "stream": "stdout",
       "text": [
        "\n",
        "making word clouds : "
       ]
      },
      {
       "output_type": "stream",
       "stream": "stdout",
       "text": [
        "\n",
        "January-2014 "
       ]
      },
      {
       "output_type": "stream",
       "stream": "stdout",
       "text": [
        "March-2014 "
       ]
      },
      {
       "output_type": "stream",
       "stream": "stdout",
       "text": [
        "April-2014 "
       ]
      },
      {
       "output_type": "stream",
       "stream": "stdout",
       "text": [
        "May-2014 "
       ]
      },
      {
       "output_type": "stream",
       "stream": "stdout",
       "text": [
        "June-2014 "
       ]
      },
      {
       "output_type": "stream",
       "stream": "stdout",
       "text": [
        "July-2014 "
       ]
      },
      {
       "output_type": "stream",
       "stream": "stdout",
       "text": [
        "August-2014 "
       ]
      },
      {
       "output_type": "stream",
       "stream": "stdout",
       "text": [
        "September-2014 "
       ]
      },
      {
       "output_type": "stream",
       "stream": "stdout",
       "text": [
        "October-2014 "
       ]
      },
      {
       "output_type": "stream",
       "stream": "stdout",
       "text": [
        "November-2014 "
       ]
      },
      {
       "output_type": "stream",
       "stream": "stdout",
       "text": [
        "December-2014 "
       ]
      },
      {
       "output_type": "stream",
       "stream": "stdout",
       "text": [
        "January-2015 "
       ]
      },
      {
       "output_type": "stream",
       "stream": "stdout",
       "text": [
        "February-2015 "
       ]
      },
      {
       "output_type": "stream",
       "stream": "stdout",
       "text": [
        "concatenating image\n",
        "making word cloud for subreddit : "
       ]
      },
      {
       "output_type": "stream",
       "stream": "stdout",
       "text": [
        " technology\n",
        "getting scores"
       ]
      },
      {
       "output_type": "stream",
       "stream": "stdout",
       "text": [
        "\n",
        "technology"
       ]
      },
      {
       "output_type": "stream",
       "stream": "stdout",
       "text": [
        "\n",
        "making word clouds : "
       ]
      },
      {
       "output_type": "stream",
       "stream": "stdout",
       "text": [
        "\n",
        "January-2014 "
       ]
      },
      {
       "output_type": "stream",
       "stream": "stdout",
       "text": [
        "February-2014 "
       ]
      },
      {
       "output_type": "stream",
       "stream": "stdout",
       "text": [
        "March-2014 "
       ]
      },
      {
       "output_type": "stream",
       "stream": "stdout",
       "text": [
        "April-2014 "
       ]
      },
      {
       "output_type": "stream",
       "stream": "stdout",
       "text": [
        "August-2014 "
       ]
      },
      {
       "output_type": "stream",
       "stream": "stdout",
       "text": [
        "September-2014 "
       ]
      },
      {
       "output_type": "stream",
       "stream": "stdout",
       "text": [
        "October-2014 "
       ]
      },
      {
       "output_type": "stream",
       "stream": "stdout",
       "text": [
        "February-2015 "
       ]
      },
      {
       "output_type": "stream",
       "stream": "stdout",
       "text": [
        "concatenating image\n",
        "technology"
       ]
      },
      {
       "output_type": "stream",
       "stream": "stdout",
       "text": [
        "\n",
        "making word clouds : "
       ]
      },
      {
       "output_type": "stream",
       "stream": "stdout",
       "text": [
        "\n",
        "January-2014 "
       ]
      },
      {
       "output_type": "stream",
       "stream": "stdout",
       "text": [
        "February-2014 "
       ]
      },
      {
       "output_type": "stream",
       "stream": "stdout",
       "text": [
        "March-2014 "
       ]
      },
      {
       "output_type": "stream",
       "stream": "stdout",
       "text": [
        "April-2014 "
       ]
      },
      {
       "output_type": "stream",
       "stream": "stdout",
       "text": [
        "August-2014 "
       ]
      },
      {
       "output_type": "stream",
       "stream": "stdout",
       "text": [
        "September-2014 "
       ]
      },
      {
       "output_type": "stream",
       "stream": "stdout",
       "text": [
        "October-2014 "
       ]
      },
      {
       "output_type": "stream",
       "stream": "stdout",
       "text": [
        "February-2015 "
       ]
      },
      {
       "output_type": "stream",
       "stream": "stdout",
       "text": [
        "concatenating image\n",
        "making word cloud for subreddit : "
       ]
      },
      {
       "output_type": "stream",
       "stream": "stdout",
       "text": [
        " tifu\n",
        "getting scores"
       ]
      },
      {
       "output_type": "stream",
       "stream": "stdout",
       "text": [
        "\n",
        "tifu"
       ]
      },
      {
       "output_type": "stream",
       "stream": "stdout",
       "text": [
        "\n",
        "making word clouds : "
       ]
      },
      {
       "output_type": "stream",
       "stream": "stdout",
       "text": [
        "\n",
        "January-2014 "
       ]
      },
      {
       "output_type": "stream",
       "stream": "stdout",
       "text": [
        "May-2014 "
       ]
      },
      {
       "output_type": "stream",
       "stream": "stdout",
       "text": [
        "June-2014 "
       ]
      },
      {
       "output_type": "stream",
       "stream": "stdout",
       "text": [
        "July-2014 "
       ]
      },
      {
       "output_type": "stream",
       "stream": "stdout",
       "text": [
        "August-2014 "
       ]
      },
      {
       "output_type": "stream",
       "stream": "stdout",
       "text": [
        "September-2014 "
       ]
      },
      {
       "output_type": "stream",
       "stream": "stdout",
       "text": [
        "October-2014 "
       ]
      },
      {
       "output_type": "stream",
       "stream": "stdout",
       "text": [
        "November-2014 "
       ]
      },
      {
       "output_type": "stream",
       "stream": "stdout",
       "text": [
        "December-2014 "
       ]
      },
      {
       "output_type": "stream",
       "stream": "stdout",
       "text": [
        "January-2015 "
       ]
      },
      {
       "output_type": "stream",
       "stream": "stdout",
       "text": [
        "February-2015 "
       ]
      },
      {
       "output_type": "stream",
       "stream": "stdout",
       "text": [
        "concatenating image\n",
        "tifu"
       ]
      },
      {
       "output_type": "stream",
       "stream": "stdout",
       "text": [
        "\n",
        "making word clouds : "
       ]
      },
      {
       "output_type": "stream",
       "stream": "stdout",
       "text": [
        "\n",
        "January-2014 "
       ]
      },
      {
       "output_type": "stream",
       "stream": "stdout",
       "text": [
        "May-2014 "
       ]
      },
      {
       "output_type": "stream",
       "stream": "stdout",
       "text": [
        "June-2014 "
       ]
      },
      {
       "output_type": "stream",
       "stream": "stdout",
       "text": [
        "July-2014 "
       ]
      },
      {
       "output_type": "stream",
       "stream": "stdout",
       "text": [
        "August-2014 "
       ]
      },
      {
       "output_type": "stream",
       "stream": "stdout",
       "text": [
        "September-2014 "
       ]
      },
      {
       "output_type": "stream",
       "stream": "stdout",
       "text": [
        "October-2014 "
       ]
      },
      {
       "output_type": "stream",
       "stream": "stdout",
       "text": [
        "November-2014 "
       ]
      },
      {
       "output_type": "stream",
       "stream": "stdout",
       "text": [
        "December-2014 "
       ]
      },
      {
       "output_type": "stream",
       "stream": "stdout",
       "text": [
        "January-2015 "
       ]
      },
      {
       "output_type": "stream",
       "stream": "stdout",
       "text": [
        "February-2015 "
       ]
      },
      {
       "output_type": "stream",
       "stream": "stdout",
       "text": [
        "concatenating image\n",
        "making word cloud for subreddit : "
       ]
      },
      {
       "output_type": "stream",
       "stream": "stdout",
       "text": [
        " sports\n",
        "getting scores"
       ]
      },
      {
       "output_type": "stream",
       "stream": "stdout",
       "text": [
        "\n",
        "sports"
       ]
      },
      {
       "output_type": "stream",
       "stream": "stdout",
       "text": [
        "\n",
        "making word clouds : "
       ]
      },
      {
       "output_type": "stream",
       "stream": "stdout",
       "text": [
        "\n",
        "January-2014 "
       ]
      },
      {
       "output_type": "stream",
       "stream": "stdout",
       "text": [
        "February-2014 "
       ]
      },
      {
       "output_type": "stream",
       "stream": "stdout",
       "text": [
        "March-2014 "
       ]
      },
      {
       "output_type": "stream",
       "stream": "stdout",
       "text": [
        "April-2014 "
       ]
      },
      {
       "output_type": "stream",
       "stream": "stdout",
       "text": [
        "May-2014 "
       ]
      },
      {
       "output_type": "stream",
       "stream": "stdout",
       "text": [
        "June-2014 "
       ]
      },
      {
       "output_type": "stream",
       "stream": "stdout",
       "text": [
        "July-2014 "
       ]
      },
      {
       "output_type": "stream",
       "stream": "stdout",
       "text": [
        "August-2014 "
       ]
      },
      {
       "output_type": "stream",
       "stream": "stdout",
       "text": [
        "September-2014 "
       ]
      },
      {
       "output_type": "stream",
       "stream": "stdout",
       "text": [
        "October-2014 "
       ]
      },
      {
       "output_type": "stream",
       "stream": "stdout",
       "text": [
        "November-2014 "
       ]
      },
      {
       "output_type": "stream",
       "stream": "stdout",
       "text": [
        "December-2014 "
       ]
      },
      {
       "output_type": "stream",
       "stream": "stdout",
       "text": [
        "January-2015 "
       ]
      },
      {
       "output_type": "stream",
       "stream": "stdout",
       "text": [
        "February-2015 "
       ]
      },
      {
       "output_type": "stream",
       "stream": "stdout",
       "text": [
        "concatenating image\n",
        "sports"
       ]
      },
      {
       "output_type": "stream",
       "stream": "stdout",
       "text": [
        "\n",
        "making word clouds : "
       ]
      },
      {
       "output_type": "stream",
       "stream": "stdout",
       "text": [
        "\n",
        "January-2014 "
       ]
      },
      {
       "output_type": "stream",
       "stream": "stdout",
       "text": [
        "February-2014 "
       ]
      },
      {
       "output_type": "stream",
       "stream": "stdout",
       "text": [
        "March-2014 "
       ]
      },
      {
       "output_type": "stream",
       "stream": "stdout",
       "text": [
        "April-2014 "
       ]
      },
      {
       "output_type": "stream",
       "stream": "stdout",
       "text": [
        "May-2014 "
       ]
      },
      {
       "output_type": "stream",
       "stream": "stdout",
       "text": [
        "June-2014 "
       ]
      },
      {
       "output_type": "stream",
       "stream": "stdout",
       "text": [
        "July-2014 "
       ]
      },
      {
       "output_type": "stream",
       "stream": "stdout",
       "text": [
        "August-2014 "
       ]
      },
      {
       "output_type": "stream",
       "stream": "stdout",
       "text": [
        "September-2014 "
       ]
      },
      {
       "output_type": "stream",
       "stream": "stdout",
       "text": [
        "October-2014 "
       ]
      },
      {
       "output_type": "stream",
       "stream": "stdout",
       "text": [
        "November-2014 "
       ]
      },
      {
       "output_type": "stream",
       "stream": "stdout",
       "text": [
        "December-2014 "
       ]
      },
      {
       "output_type": "stream",
       "stream": "stdout",
       "text": [
        "January-2015 "
       ]
      },
      {
       "output_type": "stream",
       "stream": "stdout",
       "text": [
        "February-2015 "
       ]
      },
      {
       "output_type": "stream",
       "stream": "stdout",
       "text": [
        "concatenating image\n",
        "making word cloud for subreddit : "
       ]
      },
      {
       "output_type": "stream",
       "stream": "stdout",
       "text": [
        " DIY\n",
        "getting scores"
       ]
      },
      {
       "output_type": "stream",
       "stream": "stdout",
       "text": [
        "\n",
        "DIY"
       ]
      },
      {
       "output_type": "stream",
       "stream": "stdout",
       "text": [
        "\n",
        "making word clouds : "
       ]
      },
      {
       "output_type": "stream",
       "stream": "stdout",
       "text": [
        "\n",
        "January-2014 "
       ]
      },
      {
       "output_type": "stream",
       "stream": "stdout",
       "text": [
        "March-2014 "
       ]
      },
      {
       "output_type": "stream",
       "stream": "stdout",
       "text": [
        "May-2014 "
       ]
      },
      {
       "output_type": "stream",
       "stream": "stdout",
       "text": [
        "June-2014 "
       ]
      },
      {
       "output_type": "stream",
       "stream": "stdout",
       "text": [
        "July-2014 "
       ]
      },
      {
       "output_type": "stream",
       "stream": "stdout",
       "text": [
        "August-2014 "
       ]
      },
      {
       "output_type": "stream",
       "stream": "stdout",
       "text": [
        "September-2014 "
       ]
      },
      {
       "output_type": "stream",
       "stream": "stdout",
       "text": [
        "October-2014 "
       ]
      },
      {
       "output_type": "stream",
       "stream": "stdout",
       "text": [
        "November-2014 "
       ]
      },
      {
       "output_type": "stream",
       "stream": "stdout",
       "text": [
        "December-2014 "
       ]
      },
      {
       "output_type": "stream",
       "stream": "stdout",
       "text": [
        "January-2015 "
       ]
      },
      {
       "output_type": "stream",
       "stream": "stdout",
       "text": [
        "February-2015 "
       ]
      },
      {
       "output_type": "stream",
       "stream": "stdout",
       "text": [
        "concatenating image\n",
        "DIY"
       ]
      },
      {
       "output_type": "stream",
       "stream": "stdout",
       "text": [
        "\n",
        "making word clouds : "
       ]
      },
      {
       "output_type": "stream",
       "stream": "stdout",
       "text": [
        "\n",
        "January-2014 "
       ]
      },
      {
       "output_type": "stream",
       "stream": "stdout",
       "text": [
        "March-2014 "
       ]
      },
      {
       "output_type": "stream",
       "stream": "stdout",
       "text": [
        "May-2014 "
       ]
      },
      {
       "output_type": "stream",
       "stream": "stdout",
       "text": [
        "June-2014 "
       ]
      },
      {
       "output_type": "stream",
       "stream": "stdout",
       "text": [
        "July-2014 "
       ]
      },
      {
       "output_type": "stream",
       "stream": "stdout",
       "text": [
        "August-2014 "
       ]
      },
      {
       "output_type": "stream",
       "stream": "stdout",
       "text": [
        "September-2014 "
       ]
      },
      {
       "output_type": "stream",
       "stream": "stdout",
       "text": [
        "October-2014 "
       ]
      },
      {
       "output_type": "stream",
       "stream": "stdout",
       "text": [
        "November-2014 "
       ]
      },
      {
       "output_type": "stream",
       "stream": "stdout",
       "text": [
        "December-2014 "
       ]
      },
      {
       "output_type": "stream",
       "stream": "stdout",
       "text": [
        "January-2015 "
       ]
      },
      {
       "output_type": "stream",
       "stream": "stdout",
       "text": [
        "February-2015 "
       ]
      },
      {
       "output_type": "stream",
       "stream": "stdout",
       "text": [
        "concatenating image\n",
        "making word cloud for subreddit : "
       ]
      },
      {
       "output_type": "stream",
       "stream": "stdout",
       "text": [
        " food\n",
        "getting scores"
       ]
      },
      {
       "output_type": "stream",
       "stream": "stdout",
       "text": [
        "\n",
        "food"
       ]
      },
      {
       "output_type": "stream",
       "stream": "stdout",
       "text": [
        "\n",
        "making word clouds : "
       ]
      },
      {
       "output_type": "stream",
       "stream": "stdout",
       "text": [
        "\n",
        "January-2014 "
       ]
      },
      {
       "output_type": "stream",
       "stream": "stdout",
       "text": [
        "May-2014 "
       ]
      },
      {
       "output_type": "stream",
       "stream": "stdout",
       "text": [
        "June-2014 "
       ]
      },
      {
       "output_type": "stream",
       "stream": "stdout",
       "text": [
        "July-2014 "
       ]
      },
      {
       "output_type": "stream",
       "stream": "stdout",
       "text": [
        "August-2014 "
       ]
      },
      {
       "output_type": "stream",
       "stream": "stdout",
       "text": [
        "September-2014 "
       ]
      },
      {
       "output_type": "stream",
       "stream": "stdout",
       "text": [
        "October-2014 "
       ]
      },
      {
       "output_type": "stream",
       "stream": "stdout",
       "text": [
        "November-2014 "
       ]
      },
      {
       "output_type": "stream",
       "stream": "stdout",
       "text": [
        "December-2014 "
       ]
      },
      {
       "output_type": "stream",
       "stream": "stdout",
       "text": [
        "January-2015 "
       ]
      },
      {
       "output_type": "stream",
       "stream": "stdout",
       "text": [
        "February-2015 "
       ]
      },
      {
       "output_type": "stream",
       "stream": "stdout",
       "text": [
        "concatenating image\n",
        "food"
       ]
      },
      {
       "output_type": "stream",
       "stream": "stdout",
       "text": [
        "\n",
        "making word clouds : "
       ]
      },
      {
       "output_type": "stream",
       "stream": "stdout",
       "text": [
        "\n",
        "January-2014 "
       ]
      },
      {
       "output_type": "stream",
       "stream": "stdout",
       "text": [
        "May-2014 "
       ]
      },
      {
       "output_type": "stream",
       "stream": "stdout",
       "text": [
        "June-2014 "
       ]
      },
      {
       "output_type": "stream",
       "stream": "stdout",
       "text": [
        "July-2014 "
       ]
      },
      {
       "output_type": "stream",
       "stream": "stdout",
       "text": [
        "August-2014 "
       ]
      },
      {
       "output_type": "stream",
       "stream": "stdout",
       "text": [
        "September-2014 "
       ]
      },
      {
       "output_type": "stream",
       "stream": "stdout",
       "text": [
        "October-2014 "
       ]
      },
      {
       "output_type": "stream",
       "stream": "stdout",
       "text": [
        "November-2014 "
       ]
      },
      {
       "output_type": "stream",
       "stream": "stdout",
       "text": [
        "December-2014 "
       ]
      },
      {
       "output_type": "stream",
       "stream": "stdout",
       "text": [
        "January-2015 "
       ]
      },
      {
       "output_type": "stream",
       "stream": "stdout",
       "text": [
        "February-2015 "
       ]
      },
      {
       "output_type": "stream",
       "stream": "stdout",
       "text": [
        "concatenating image\n",
        "making word cloud for subreddit : "
       ]
      },
      {
       "output_type": "stream",
       "stream": "stdout",
       "text": [
        " space\n",
        "getting scores"
       ]
      },
      {
       "output_type": "stream",
       "stream": "stdout",
       "text": [
        "\n",
        "space"
       ]
      },
      {
       "output_type": "stream",
       "stream": "stdout",
       "text": [
        "\n",
        "making word clouds : "
       ]
      },
      {
       "output_type": "stream",
       "stream": "stdout",
       "text": [
        "\n",
        "January-2014 "
       ]
      },
      {
       "output_type": "stream",
       "stream": "stdout",
       "text": [
        "May-2014 "
       ]
      },
      {
       "output_type": "stream",
       "stream": "stdout",
       "text": [
        "June-2014 "
       ]
      },
      {
       "output_type": "stream",
       "stream": "stdout",
       "text": [
        "July-2014 "
       ]
      },
      {
       "output_type": "stream",
       "stream": "stdout",
       "text": [
        "August-2014 "
       ]
      },
      {
       "output_type": "stream",
       "stream": "stdout",
       "text": [
        "September-2014 "
       ]
      },
      {
       "output_type": "stream",
       "stream": "stdout",
       "text": [
        "October-2014 "
       ]
      },
      {
       "output_type": "stream",
       "stream": "stdout",
       "text": [
        "November-2014 "
       ]
      },
      {
       "output_type": "stream",
       "stream": "stdout",
       "text": [
        "December-2014 "
       ]
      },
      {
       "output_type": "stream",
       "stream": "stdout",
       "text": [
        "January-2015 "
       ]
      },
      {
       "output_type": "stream",
       "stream": "stdout",
       "text": [
        "February-2015 "
       ]
      },
      {
       "output_type": "stream",
       "stream": "stdout",
       "text": [
        "concatenating image\n",
        "space"
       ]
      },
      {
       "output_type": "stream",
       "stream": "stdout",
       "text": [
        "\n",
        "making word clouds : "
       ]
      },
      {
       "output_type": "stream",
       "stream": "stdout",
       "text": [
        "\n",
        "January-2014 "
       ]
      },
      {
       "output_type": "stream",
       "stream": "stdout",
       "text": [
        "May-2014 "
       ]
      },
      {
       "output_type": "stream",
       "stream": "stdout",
       "text": [
        "June-2014 "
       ]
      },
      {
       "output_type": "stream",
       "stream": "stdout",
       "text": [
        "July-2014 "
       ]
      },
      {
       "output_type": "stream",
       "stream": "stdout",
       "text": [
        "August-2014 "
       ]
      },
      {
       "output_type": "stream",
       "stream": "stdout",
       "text": [
        "September-2014 "
       ]
      },
      {
       "output_type": "stream",
       "stream": "stdout",
       "text": [
        "October-2014 "
       ]
      },
      {
       "output_type": "stream",
       "stream": "stdout",
       "text": [
        "November-2014 "
       ]
      },
      {
       "output_type": "stream",
       "stream": "stdout",
       "text": [
        "December-2014 "
       ]
      },
      {
       "output_type": "stream",
       "stream": "stdout",
       "text": [
        "January-2015 "
       ]
      },
      {
       "output_type": "stream",
       "stream": "stdout",
       "text": [
        "February-2015 "
       ]
      },
      {
       "output_type": "stream",
       "stream": "stdout",
       "text": [
        "concatenating image\n",
        "making word cloud for subreddit : "
       ]
      },
      {
       "output_type": "stream",
       "stream": "stdout",
       "text": [
        " all\n",
        "getting scores"
       ]
      },
      {
       "output_type": "stream",
       "stream": "stdout",
       "text": [
        "\n",
        "all"
       ]
      },
      {
       "output_type": "stream",
       "stream": "stdout",
       "text": [
        "\n",
        "making word clouds : "
       ]
      },
      {
       "output_type": "stream",
       "stream": "stdout",
       "text": [
        "\n",
        "January-2014 "
       ]
      },
      {
       "output_type": "stream",
       "stream": "stdout",
       "text": [
        "February-2014 "
       ]
      },
      {
       "output_type": "stream",
       "stream": "stdout",
       "text": [
        "March-2014 "
       ]
      },
      {
       "output_type": "stream",
       "stream": "stdout",
       "text": [
        "April-2014 "
       ]
      },
      {
       "output_type": "stream",
       "stream": "stdout",
       "text": [
        "May-2014 "
       ]
      },
      {
       "output_type": "stream",
       "stream": "stdout",
       "text": [
        "June-2014 "
       ]
      },
      {
       "output_type": "stream",
       "stream": "stdout",
       "text": [
        "July-2014 "
       ]
      },
      {
       "output_type": "stream",
       "stream": "stdout",
       "text": [
        "August-2014 "
       ]
      },
      {
       "output_type": "stream",
       "stream": "stdout",
       "text": [
        "September-2014 "
       ]
      },
      {
       "output_type": "stream",
       "stream": "stdout",
       "text": [
        "October-2014 "
       ]
      },
      {
       "output_type": "stream",
       "stream": "stdout",
       "text": [
        "November-2014 "
       ]
      },
      {
       "output_type": "stream",
       "stream": "stdout",
       "text": [
        "December-2014 "
       ]
      },
      {
       "output_type": "stream",
       "stream": "stdout",
       "text": [
        "January-2015 "
       ]
      },
      {
       "output_type": "stream",
       "stream": "stdout",
       "text": [
        "February-2015 "
       ]
      },
      {
       "output_type": "stream",
       "stream": "stdout",
       "text": [
        "concatenating image\n",
        "all"
       ]
      },
      {
       "output_type": "stream",
       "stream": "stdout",
       "text": [
        "\n",
        "making word clouds : "
       ]
      },
      {
       "output_type": "stream",
       "stream": "stdout",
       "text": [
        "\n",
        "January-2014 "
       ]
      },
      {
       "output_type": "stream",
       "stream": "stdout",
       "text": [
        "February-2014 "
       ]
      },
      {
       "output_type": "stream",
       "stream": "stdout",
       "text": [
        "March-2014 "
       ]
      },
      {
       "output_type": "stream",
       "stream": "stdout",
       "text": [
        "April-2014 "
       ]
      },
      {
       "output_type": "stream",
       "stream": "stdout",
       "text": [
        "May-2014 "
       ]
      },
      {
       "output_type": "stream",
       "stream": "stdout",
       "text": [
        "June-2014 "
       ]
      },
      {
       "output_type": "stream",
       "stream": "stdout",
       "text": [
        "July-2014 "
       ]
      },
      {
       "output_type": "stream",
       "stream": "stdout",
       "text": [
        "August-2014 "
       ]
      },
      {
       "output_type": "stream",
       "stream": "stdout",
       "text": [
        "September-2014 "
       ]
      },
      {
       "output_type": "stream",
       "stream": "stdout",
       "text": [
        "October-2014 "
       ]
      },
      {
       "output_type": "stream",
       "stream": "stdout",
       "text": [
        "November-2014 "
       ]
      },
      {
       "output_type": "stream",
       "stream": "stdout",
       "text": [
        "December-2014 "
       ]
      },
      {
       "output_type": "stream",
       "stream": "stdout",
       "text": [
        "January-2015 "
       ]
      },
      {
       "output_type": "stream",
       "stream": "stdout",
       "text": [
        "February-2015 "
       ]
      },
      {
       "output_type": "stream",
       "stream": "stdout",
       "text": [
        "concatenating image\n"
       ]
      },
      {
       "metadata": {},
       "output_type": "display_data",
       "png": "[encoded data removed]",
       "text": [
        "<matplotlib.figure.Figure at 0x318faa90>"
       ]
      }
     ],
     "prompt_number": 139
    },
    {
     "cell_type": "code",
     "collapsed": false,
     "input": [
      "for adjust in list([0.75, 1.0]): #list(0.5,0.75,1.0,1.25):\n",
      "    month_scores = pickle.load(open('pickle/word_scores/all_' + str(start_date) + \"_\" + str(end_date) + '.pkl','r'))\n",
      "    sorted_months = sorted(month_scores.keys(), key= lambda string : datestr2num(string))\n",
      "    make_wordcloud(sub, month_scores, sorted_months, adjust = adjust, imgs_rendered = False, title = False)\n",
      "    #ipImage('wordcloud/timeline_outputs/' + sub + '.png')"
     ],
     "language": "python",
     "metadata": {},
     "outputs": []
    },
    {
     "cell_type": "code",
     "collapsed": false,
     "input": [],
     "language": "python",
     "metadata": {},
     "outputs": []
    }
   ],
   "metadata": {}
  }
 ]
}