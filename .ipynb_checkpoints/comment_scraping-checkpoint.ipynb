{
 "metadata": {
  "name": "",
  "signature": "sha256:1f3007e3b15bca4d203494c91d8da5dedb6f8f52ff1c89246c436fe25367fcdb"
 },
 "nbformat": 3,
 "nbformat_minor": 0,
 "worksheets": [
  {
   "cells": [
    {
     "cell_type": "code",
     "collapsed": false,
     "input": [
      "import datetime\n",
      "def datespan(startDate, endDate, delta=datetime.timedelta(days=1)):\n",
      "    currentDate = startDate\n",
      "    while currentDate <= endDate:\n",
      "        yield currentDate\n",
      "        currentDate += delta\n",
      "\n",
      "start_date = datetime.datetime(2014, 3, 1)\n",
      "end_date = datetime.datetime(2015, 3, 1)\n",
      "            \n",
      "date_span = list(datespan(start_date, end_date))\n",
      "\n",
      "import time\n",
      "from threading import Thread\n",
      "from comment_scraping import process_datespan\n",
      "\n",
      "year = 2012\n",
      "    \n",
      "for i in range(1, 2):\n",
      "    def thread_func():\n",
      "        start_date = datetime.datetime(year, i, 1)\n",
      "        if i < 12:\n",
      "            end_date = datetime.datetime(year, i + 1, 1)\n",
      "        else:\n",
      "            end_date = datetime.datetime(year + 1, 1, 1)\n",
      "            \n",
      "        date_span = list(datespan(start_date, end_date))\n",
      "        process_datespan(date_span)\n",
      "\n",
      "    \n",
      "    t = Thread(target=thread_func, args=())\n",
      "    t.start()"
     ],
     "language": "python",
     "metadata": {},
     "outputs": [
      {
       "output_type": "stream",
       "stream": "stderr",
       "text": [
        "/usr/lib/python2.7/pkgutil.py:186: ImportWarning: Not importing directory '/home/mikesj/Library/Python/2.7/site-packages/mpl_toolkits': missing __init__.py\n",
        "  file, filename, etc = imp.find_module(subname, path)\n"
       ]
      }
     ],
     "prompt_number": 1
    },
    {
     "cell_type": "code",
     "collapsed": false,
     "input": [],
     "language": "python",
     "metadata": {},
     "outputs": []
    }
   ],
   "metadata": {}
  }
 ]
}